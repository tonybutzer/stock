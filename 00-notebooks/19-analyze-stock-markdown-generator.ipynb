{
 "cells": [
  {
   "cell_type": "code",
   "execution_count": 1,
   "metadata": {},
   "outputs": [
    {
     "name": "stdout",
     "output_type": "stream",
     "text": [
      "https://www.macrotrends.net/stocks/charts/WMT/walmart\n"
     ]
    }
   ],
   "source": [
    "ticker='WMT'\n",
    "company_name='walmart'\n",
    "\n",
    "url='https://www.macrotrends.net/stocks/charts/' + ticker +'/' + company_name\n",
    "\n",
    "print(url)\n"
   ]
  },
  {
   "cell_type": "code",
   "execution_count": 2,
   "metadata": {},
   "outputs": [],
   "source": [
    "list = []\n",
    "list.append('price-book')\n",
    "list.append('price-fcf')\n",
    "list.append('net-worth')\n",
    "list.append('stock-price-history')\n",
    "list.append('current-ratio')\n",
    "list.append('income-statement')\n",
    "list.append('balance-sheet')\n",
    "list.append('financial-ratios')\n",
    "list.append('cash-flow-statement')\n",
    "list.append('financial-ratios?freq=A')\n",
    "list.append('total-assets')\n",
    "\n"
   ]
  },
  {
   "cell_type": "code",
   "execution_count": 3,
   "metadata": {},
   "outputs": [
    {
     "name": "stdout",
     "output_type": "stream",
     "text": [
      "https://www.macrotrends.net/stocks/charts/WMT/walmart/price-book\n",
      "https://www.macrotrends.net/stocks/charts/WMT/walmart/price-fcf\n",
      "https://www.macrotrends.net/stocks/charts/WMT/walmart/net-worth\n",
      "https://www.macrotrends.net/stocks/charts/WMT/walmart/stock-price-history\n",
      "https://www.macrotrends.net/stocks/charts/WMT/walmart/current-ratio\n",
      "https://www.macrotrends.net/stocks/charts/WMT/walmart/income-statement\n",
      "https://www.macrotrends.net/stocks/charts/WMT/walmart/balance-sheet\n",
      "https://www.macrotrends.net/stocks/charts/WMT/walmart/financial-ratios\n",
      "https://www.macrotrends.net/stocks/charts/WMT/walmart/cash-flow-statement\n",
      "https://www.macrotrends.net/stocks/charts/WMT/walmart/financial-ratios?freq=A\n",
      "https://www.macrotrends.net/stocks/charts/WMT/walmart/total-assets\n"
     ]
    }
   ],
   "source": [
    "for indicator in list:\n",
    "    full_url = url + '/' + indicator\n",
    "    print(full_url)"
   ]
  },
  {
   "cell_type": "code",
   "execution_count": 4,
   "metadata": {},
   "outputs": [],
   "source": [
    "#! mkdir ./analyze"
   ]
  },
  {
   "cell_type": "code",
   "execution_count": 5,
   "metadata": {},
   "outputs": [],
   "source": [
    "dire='./analyze/'\n",
    "filename=dire + company_name + '.md'\n",
    "\n",
    "f = open(filename, \"w\")\n",
    "mystr = '# ' + company_name +'\\n'\n",
    "f.write(mystr)\n",
    "f.write(\"---\\n\")\n",
    "\n",
    "for indicator in list:\n",
    "    full_url = url + '/' + indicator +'\\n'\n",
    "    f.write(full_url)\n",
    "    f.write(\"---\\n\")\n",
    "\n",
    "f.close()"
   ]
  },
  {
   "cell_type": "code",
   "execution_count": 6,
   "metadata": {},
   "outputs": [
    {
     "name": "stdout",
     "output_type": "stream",
     "text": [
      "# ford-motor\r\n",
      "---\r\n",
      "https://www.macrotrends.net/stocks/charts/F/ford-motor/price-book\r\n",
      "\r\n",
      "ford is more of a trade than a long term buy\r\n",
      "1. ford has a **negative** book value after the 2008 crash\r\n",
      "\r\n",
      "\r\n",
      "---\r\n",
      "https://www.macrotrends.net/stocks/charts/F/ford-motor/price-fcf\r\n",
      "\r\n",
      "price to fcf is about 5 3/14/2020\r\n",
      "\r\n",
      "1. should likely sell at price/fcf of above 8\r\n",
      "\r\n",
      "\r\n",
      "\r\n",
      "---\r\n",
      "https://www.macrotrends.net/stocks/charts/F/ford-motor/net-worth\r\n",
      "\r\n",
      "ford on a 45 degree downtrend in networh / market cap since 2014 - ouch\r\n",
      "\r\n",
      "---\r\n",
      "https://www.macrotrends.net/stocks/charts/F/ford-motor/stock-price-history\r\n",
      "\r\n",
      "Historical daily share price chart and data for Ford Motor since 1972 adjusted for splits. The latest closing stock price for Ford Motor as of March 24, 2020 is **4.95**.\r\n",
      "\r\n",
      "    The all-time high Ford Motor stock closing price was 42.45 on May 03, 1999.\r\n",
      "    The Ford Motor 52-week high stock price is 10.56, which is 113.3% above the current share price.\r\n",
      "    The Ford Motor 52-week low stock price is 3.96, which is 20% below the current share price.\r\n",
      "    The average Ford Motor stock price for the last 52 weeks is 9.04.\r\n",
      "\r\n",
      "\r\n",
      "---\r\n",
      "https://www.macrotrends.net/stocks/charts/F/ford-motor/current-ratio\r\n",
      "---\r\n",
      "https://www.macrotrends.net/stocks/charts/F/ford-motor/income-statement\r\n",
      "---\r\n",
      "https://www.macrotrends.net/stocks/charts/F/ford-motor/balance-sheet\r\n",
      "---\r\n",
      "https://www.macrotrends.net/stocks/charts/F/ford-motor/financial-ratios\r\n",
      "---\r\n",
      "https://www.macrotrends.net/stocks/charts/F/ford-motor/cash-flow-statement\r\n",
      "---\r\n",
      "https://www.macrotrends.net/stocks/charts/F/ford-motor/financial-ratios?freq=A\r\n",
      "---\r\n",
      "https://www.macrotrends.net/stocks/charts/F/ford-motor/total-assets\r\n",
      "---\r\n"
     ]
    }
   ],
   "source": [
    "! cat ./analyze/ford-motor.md"
   ]
  },
  {
   "cell_type": "code",
   "execution_count": null,
   "metadata": {},
   "outputs": [],
   "source": []
  }
 ],
 "metadata": {
  "kernelspec": {
   "display_name": "Python 3",
   "language": "python",
   "name": "python3"
  },
  "language_info": {
   "codemirror_mode": {
    "name": "ipython",
    "version": 3
   },
   "file_extension": ".py",
   "mimetype": "text/x-python",
   "name": "python",
   "nbconvert_exporter": "python",
   "pygments_lexer": "ipython3",
   "version": "3.7.3"
  }
 },
 "nbformat": 4,
 "nbformat_minor": 4
}
