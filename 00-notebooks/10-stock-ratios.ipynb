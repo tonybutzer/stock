{
 "cells": [
  {
   "cell_type": "code",
   "execution_count": 1,
   "metadata": {},
   "outputs": [],
   "source": [
    "import pandas as pd\n",
    "import requests\n",
    "import json"
   ]
  },
  {
   "cell_type": "code",
   "execution_count": 2,
   "metadata": {},
   "outputs": [],
   "source": [
    "symbol = 'CR'\n",
    "#symbol = 'F'\n",
    "url = 'https://financialmodelingprep.com/api/v3/financial-ratios/' + symbol\n",
    "fr = requests.get(url)"
   ]
  },
  {
   "cell_type": "markdown",
   "metadata": {},
   "source": [
    "https://www.craneco.com/investors/events-and-presentations/default.aspx"
   ]
  },
  {
   "cell_type": "code",
   "execution_count": 3,
   "metadata": {},
   "outputs": [
    {
     "data": {
      "text/plain": [
       "{'Error Message': 'Invalid API KEY. Please retry or visit our documentation to create one FREE https://financialmodelingprep.com/developer/docs'}"
      ]
     },
     "execution_count": 3,
     "metadata": {},
     "output_type": "execute_result"
    }
   ],
   "source": [
    "fr = fr.json()\n",
    "fr"
   ]
  },
  {
   "cell_type": "code",
   "execution_count": 4,
   "metadata": {},
   "outputs": [
    {
     "ename": "KeyError",
     "evalue": "'symbol'",
     "output_type": "error",
     "traceback": [
      "\u001b[0;31m---------------------------------------------------------------------------\u001b[0m",
      "\u001b[0;31mKeyError\u001b[0m                                  Traceback (most recent call last)",
      "\u001b[0;32m<ipython-input-4-4ff59f38780b>\u001b[0m in \u001b[0;36m<module>\u001b[0;34m\u001b[0m\n\u001b[0;32m----> 1\u001b[0;31m \u001b[0mfr\u001b[0m\u001b[0;34m[\u001b[0m\u001b[0;34m'symbol'\u001b[0m\u001b[0;34m]\u001b[0m\u001b[0;34m\u001b[0m\u001b[0;34m\u001b[0m\u001b[0m\n\u001b[0m",
      "\u001b[0;31mKeyError\u001b[0m: 'symbol'"
     ]
    }
   ],
   "source": [
    "fr['symbol']"
   ]
  },
  {
   "cell_type": "code",
   "execution_count": null,
   "metadata": {},
   "outputs": [],
   "source": [
    "len(fr['ratios'])"
   ]
  },
  {
   "cell_type": "code",
   "execution_count": null,
   "metadata": {},
   "outputs": [],
   "source": [
    "for i in range(len(fr['ratios'])):\n",
    "    print(fr['ratios'][i]['date'])"
   ]
  },
  {
   "cell_type": "code",
   "execution_count": null,
   "metadata": {},
   "outputs": [],
   "source": [
    "\n",
    "years=[]\n",
    "for i in range(len(fr['ratios'])):\n",
    "    years.append(fr['ratios'][i]['date'][0:4])\n",
    "print (years)"
   ]
  },
  {
   "cell_type": "code",
   "execution_count": null,
   "metadata": {},
   "outputs": [],
   "source": [
    "for i in range(len(fr['ratios'])):\n",
    "    print(fr['ratios'][i]['cashFlowIndicatorRatios']['cashPerShare'])"
   ]
  },
  {
   "cell_type": "code",
   "execution_count": null,
   "metadata": {},
   "outputs": [],
   "source": [
    "for i in range(len(fr['ratios'])):\n",
    "    print(fr['ratios'][i]['liquidityMeasurementRatios']['currentRatio'])"
   ]
  },
  {
   "cell_type": "markdown",
   "metadata": {},
   "source": [
    "# Current Ratio of > 2 - \n",
    "\n",
    "- tells how well a company can pay its short term bills"
   ]
  },
  {
   "cell_type": "code",
   "execution_count": null,
   "metadata": {},
   "outputs": [],
   "source": [
    "for i in range(len(fr['ratios'])):\n",
    "    print(fr['ratios'][i]['cashFlowIndicatorRatios']['freeCashFlowPerShare'])"
   ]
  },
  {
   "cell_type": "code",
   "execution_count": null,
   "metadata": {},
   "outputs": [],
   "source": [
    "indicator = 'operatingCashFlowPerShare'\n",
    "\n",
    "for i in range(len(fr['ratios'])):\n",
    "    print(fr['ratios'][i]['cashFlowIndicatorRatios'][indicator])"
   ]
  },
  {
   "cell_type": "markdown",
   "metadata": {},
   "source": [
    "## Free Cash Flow vs. Operating Cash Flow: An Overview\n",
    "\n",
    "- Free cash flow is most commonly defined as operating cash flow minus capital expenditures. \n",
    "- Free cash flow also includes dividend outlays as a capital expenditure. \n",
    "- Capital expenditures are considered necessary to maintain a company's competitive position and operating efficiency.\n",
    "\n",
    "- Operating cash flow should always be higher and maybe less indicative of success - tony\n",
    "\n",
    "### So free cash flow\n",
    " is what is left over after **operating cash flow** pays for capital expenditures - things like land, buildings and machinery\n",
    " \n",
    "## single best predictor of excess return\n"
   ]
  },
  {
   "cell_type": "markdown",
   "metadata": {},
   "source": [
    " 'investmentValuationRatios': {'priceBookValueRatio': '3.346073149216258',\n",
    "    'priceToBookRatio': '3.346073149216258',\n",
    "    'priceToSalesRatio': '1.5019670433431818',\n",
    "    'priceEarningsRatio': '36.99255813953488',\n",
    "    'receivablesTurnover': '5.914429832462619',\n",
    "    'priceToFreeCashFlowsRatio': '15.167972931405721',\n",
    "    'priceToOperatingCashFlowsRatio': '12.518679867986798',\n",
    "    'priceCashFlowRatio': '12.518679867986798',\n",
    "    'priceEarningsToGrowthRatio': '6.591641766222246',\n",
    "    'priceSalesRatio': '1.5019670433431818',\n",
    "    'dividendYield': '0.018900417512656385',\n",
    "    'enterpriseValueMultiple': '17.068873108984253',"
   ]
  },
  {
   "cell_type": "code",
   "execution_count": null,
   "metadata": {},
   "outputs": [],
   "source": [
    "indicator = 'dividendYield'\n",
    "\n",
    "for i in range(len(fr['ratios'])):\n",
    "    yieldr = float(fr['ratios'][i]['investmentValuationRatios'][indicator]) * 100\n",
    "    print(yieldr)"
   ]
  },
  {
   "cell_type": "code",
   "execution_count": null,
   "metadata": {},
   "outputs": [],
   "source": [
    "def make_df(list1, list2, cat):\n",
    "    df = pd.DataFrame(list(zip(list1, list2)), \n",
    "               columns =['Year', cat]) \n",
    "    return df"
   ]
  },
  {
   "cell_type": "code",
   "execution_count": null,
   "metadata": {},
   "outputs": [],
   "source": [
    "cat = 'investmentValuationRatios'\n",
    "indicator = 'priceEarningsRatio'\n",
    "\n",
    "def func(i):\n",
    "    return float(fr['ratios'][i][cat][indicator])\n",
    "r = list(map(func, range(len(fr['ratios']))))\n",
    "print(r)\n",
    "\n",
    "df = make_df(years,r,indicator)"
   ]
  },
  {
   "cell_type": "code",
   "execution_count": null,
   "metadata": {},
   "outputs": [],
   "source": [
    "df"
   ]
  },
  {
   "cell_type": "code",
   "execution_count": null,
   "metadata": {},
   "outputs": [],
   "source": [
    "df.plot.bar(x='Year')"
   ]
  },
  {
   "cell_type": "code",
   "execution_count": null,
   "metadata": {},
   "outputs": [],
   "source": [
    "df[indicator].mean()"
   ]
  },
  {
   "cell_type": "markdown",
   "metadata": {},
   "source": [
    "# Toss out outliers "
   ]
  },
  {
   "cell_type": "code",
   "execution_count": null,
   "metadata": {},
   "outputs": [],
   "source": [
    "q_low = df[indicator].quantile(0.01)\n",
    "q_hi  = df[indicator].quantile(0.99)\n",
    "\n",
    "df_filtered = df[(df[indicator] < q_hi) & (df[indicator] > q_low)]"
   ]
  },
  {
   "cell_type": "code",
   "execution_count": null,
   "metadata": {},
   "outputs": [],
   "source": [
    "df_filtered"
   ]
  },
  {
   "cell_type": "markdown",
   "metadata": {},
   "source": [
    "# Filtered PE - more the norm"
   ]
  },
  {
   "cell_type": "code",
   "execution_count": null,
   "metadata": {},
   "outputs": [],
   "source": [
    "print(\"AVG \",indicator)\n",
    "int(df_filtered[indicator].mean())"
   ]
  },
  {
   "cell_type": "markdown",
   "metadata": {},
   "source": [
    "## Earnings per share is a measure \n",
    "\n",
    "- of how much profit a company has generated. \n",
    "- Companies usually report their earnings per share on a quarterly or yearly basis.\n",
    "\n",
    "\n",
    "- the difference between a company's net income and dividends paid for preferred stock and then dividing that figure by the average number of shares outstanding.\n",
    "\n",
    "\n",
    "### Diluted earnings per share\n",
    "\n",
    "- the diluted earnings-per-share calculation takes all convertible securities into consideration. A company might have convertible preferred shares or stock options that could theoretically become common stock. \n",
    "\n",
    "\n",
    "### Limitations of earnings per share\n",
    "When a company's earnings increase, it's an indication that the company is doing well financially and that it's potentially a worthwhile investment. \n",
    "\n",
    "- But as a measure of a company's financial health, the earnings-per-share calculation has its limitations. \n",
    "    - Because companies have the option to buy back their own shares, they can improve their earnings per share by reducing their number of shares outstanding without actually increasing their net income. \n",
    "    - In this regard, companies can essentially manipulate investors into thinking they're doing better than they actually are. Furthermore, earnings per share does not take factors such as a company's outstanding debt into account.\n",
    "\n",
    "- Finally, earnings per share does not consider the capital needed to generate the earnings in question. \n",
    "    - If two companies report the same earnings per share but one uses less capital to bring in that income\n",
    "\n"
   ]
  },
  {
   "cell_type": "code",
   "execution_count": null,
   "metadata": {},
   "outputs": [],
   "source": [
    "cat = 'investmentValuationRatios'\n",
    "indicator = 'priceSalesRatio'\n",
    "\n",
    "r = list(map(func, range(len(fr['ratios']))))\n",
    "print(r)"
   ]
  },
  {
   "cell_type": "code",
   "execution_count": null,
   "metadata": {},
   "outputs": [],
   "source": [
    "df = make_df(years,r,indicator)\n",
    "df"
   ]
  },
  {
   "cell_type": "code",
   "execution_count": null,
   "metadata": {},
   "outputs": [],
   "source": [
    "df.plot.bar(x='Year')"
   ]
  },
  {
   "cell_type": "code",
   "execution_count": null,
   "metadata": {},
   "outputs": [],
   "source": [
    "# Price to Sales is harder to manipulate - \n",
    "\n",
    "avgr=df[indicator].mean()\n",
    "print( \"so below this the stock may be a value\")\n",
    "print(\"AVG \",indicator)\n",
    "df[indicator].mean()\n",
    "\n",
    "\n"
   ]
  },
  {
   "cell_type": "markdown",
   "metadata": {},
   "source": [
    "# macrotrends pretty cool\n",
    "https://www.macrotrends.net/stocks/charts/CR/crane/price-sales"
   ]
  },
  {
   "cell_type": "markdown",
   "metadata": {},
   "source": [
    "profitabilityIndicatorRatios': {'niperEBT': '0.6852850374880849',\n",
    "    'ebtperEBIT': '0.8889183976730216',\n",
    "    'ebitperRevenue': '0.10813344423942998',\n",
    "    'grossProfitMargin': '0.34745437345747704',\n",
    "    'operatingProfitMargin': '0.10813344423942998',\n",
    "    'pretaxProfitMargin': '0.09612180798817914',\n",
    "    'netProfitMargin': '0.06587083679060184',"
   ]
  },
  {
   "cell_type": "code",
   "execution_count": null,
   "metadata": {},
   "outputs": [],
   "source": [
    "cat = 'profitabilityIndicatorRatios'\n",
    "indicator = 'netProfitMargin'\n",
    "\n",
    "for i in range(len(fr['ratios'])):\n",
    "    yieldr = float(fr['ratios'][i][cat][indicator]) * 100\n",
    "    print(yieldr)"
   ]
  },
  {
   "cell_type": "markdown",
   "metadata": {},
   "source": [
    "# What Is Net Profit Margin?\n",
    "\n",
    "The net profit margin is equal to how much net income or profit is generated as a percentage of revenue. \n",
    "\n",
    "- Net profit margin is the ratio of net profits to revenues for a company or business segment. \n",
    "\n",
    "The net profit margin illustrates how much of each dollar in revenue collected by a company translates into profit.\n"
   ]
  },
  {
   "cell_type": "code",
   "execution_count": null,
   "metadata": {},
   "outputs": [],
   "source": [
    "cat = 'profitabilityIndicatorRatios'\n",
    "indicator = 'operatingProfitMargin'\n",
    "\n",
    "for i in range(len(fr['ratios'])):\n",
    "    yieldr = float(fr['ratios'][i][cat][indicator]) * 100\n",
    "    print(yieldr)"
   ]
  },
  {
   "cell_type": "code",
   "execution_count": null,
   "metadata": {},
   "outputs": [],
   "source": [
    "def func(i):\n",
    "    return float(fr['ratios'][i][cat][indicator]) * 100\n",
    "r = list(map(func, range(len(fr['ratios']))))\n",
    "print(r)\n",
    "                            "
   ]
  },
  {
   "cell_type": "code",
   "execution_count": null,
   "metadata": {},
   "outputs": [],
   "source": [
    "\n",
    "# import pandas as pd \n",
    "import pandas as pd \n",
    "  \n",
    "# list of strings \n",
    "lst = ['Geeks', 'For', 'Geeks', 'is', 'portal', 'for', 'Geeks'] \n",
    "  \n",
    "# list of int \n",
    "lst2 = [11, 22, 33, 44, 55, 66, 77] \n",
    "  \n",
    "# Calling DataFrame constructor after zipping \n",
    "# both lists, with columns specified \n",
    "df = pd.DataFrame(list(zip(lst, lst2)), \n",
    "               columns =['Name', 'val']) \n",
    "df \n"
   ]
  },
  {
   "cell_type": "code",
   "execution_count": null,
   "metadata": {},
   "outputs": [],
   "source": [
    "def func(i):\n",
    "    return float(fr['ratios'][i][cat][indicator]) * 100\n",
    "r = list(map(func, range(len(fr['ratios']))))\n",
    "print(r)\n",
    "\n",
    "years=[]\n",
    "for i in range(len(fr['ratios'])):\n",
    "    years.append(fr['ratios'][i]['date'][0:4])\n",
    "print (years)"
   ]
  },
  {
   "cell_type": "code",
   "execution_count": null,
   "metadata": {},
   "outputs": [],
   "source": [
    "df = pd.DataFrame(list(zip(years, r)), \n",
    "               columns =['Year', 'operatingProfitMargin']) \n",
    "df \n"
   ]
  },
  {
   "cell_type": "markdown",
   "metadata": {},
   "source": [
    "# avg operating profit margin for s&p is 10\n",
    "\n"
   ]
  },
  {
   "cell_type": "code",
   "execution_count": null,
   "metadata": {},
   "outputs": [],
   "source": [
    "df.plot.bar(x='Year')"
   ]
  },
  {
   "cell_type": "code",
   "execution_count": null,
   "metadata": {},
   "outputs": [],
   "source": [
    "#priceToFreeCashFlowsRatio\n",
    "\n",
    "def func(i):\n",
    "    return float(fr['ratios'][i][cat][indicator])\n",
    "\n",
    "\n",
    "r = list(map(func, range(len(fr['ratios']))))\n",
    "print(r)\n",
    "\n",
    "\n"
   ]
  },
  {
   "cell_type": "code",
   "execution_count": null,
   "metadata": {},
   "outputs": [],
   "source": [
    "cat = 'investmentValuationRatios'\n",
    "indicator = 'priceToFreeCashFlowsRatio'\n",
    "\n",
    "def func(i):\n",
    "    return float(fr['ratios'][i][cat][indicator])\n",
    "r = list(map(func, range(len(fr['ratios']))))\n",
    "print(r)\n",
    "\n",
    "df = make_df(years,r,indicator)"
   ]
  },
  {
   "cell_type": "code",
   "execution_count": null,
   "metadata": {},
   "outputs": [],
   "source": [
    "df"
   ]
  },
  {
   "cell_type": "code",
   "execution_count": null,
   "metadata": {},
   "outputs": [],
   "source": [
    "def simple_df(cat, indicator):\n",
    "    def func(i):\n",
    "        return float(fr['ratios'][i][cat][indicator])\n",
    "    r = list(map(func, range(len(fr['ratios']))))\n",
    "\n",
    "    df = make_df(years,r,indicator)\n",
    "    return df"
   ]
  },
  {
   "cell_type": "code",
   "execution_count": null,
   "metadata": {},
   "outputs": [],
   "source": [
    "my_df = simple_df(cat, indicator)"
   ]
  },
  {
   "cell_type": "code",
   "execution_count": null,
   "metadata": {},
   "outputs": [],
   "source": [
    "my_df.plot.bar(x='Year')"
   ]
  },
  {
   "cell_type": "markdown",
   "metadata": {},
   "source": [
    "https://www.macrotrends.net/stocks/charts/CR/crane/price-fcf"
   ]
  },
  {
   "cell_type": "markdown",
   "metadata": {},
   "source": [
    "https://www.macrotrends.net/stocks/charts/CR/crane/total-assets\n",
    "\n",
    "https://www.macrotrends.net/stocks/charts/CR/crane/net-worth"
   ]
  },
  {
   "cell_type": "code",
   "execution_count": null,
   "metadata": {},
   "outputs": [],
   "source": [
    " #Price to FCF is harder to manipulate - \n",
    "\n",
    "avgr=df[indicator].mean()\n",
    "print( \"so below this the stock may be a value\")\n",
    "print(\"AVG \",indicator)\n",
    "my_df[indicator].mean()"
   ]
  },
  {
   "cell_type": "code",
   "execution_count": null,
   "metadata": {},
   "outputs": [],
   "source": [
    "def toss_outliers(df):\n",
    "    q_low = df[indicator].quantile(0.01)\n",
    "    q_hi  = df[indicator].quantile(0.99)\n",
    "\n",
    "    df_filtered = df[(df[indicator] < q_hi) & (df[indicator] > q_low)]\n",
    "    return df_filtered"
   ]
  },
  {
   "cell_type": "code",
   "execution_count": null,
   "metadata": {},
   "outputs": [],
   "source": [
    "my_df=toss_outliers(my_df)\n",
    "avgr=df[indicator].mean()\n",
    "print( \"so below this the stock may be a value\")\n",
    "print(\"AVG \",indicator)\n",
    "my_df[indicator].mean()"
   ]
  },
  {
   "cell_type": "markdown",
   "metadata": {},
   "source": [
    "profitabilityIndicatorRatios': {'niperEBT': '0.7809021675454013',\n",
    "    'ebtperEBIT': '0.8113117870722434',\n",
    "    'ebitperRevenue': '0.06408577259297615',\n",
    "    'grossProfitMargin': '0.3591118150528464',\n",
    "    'operatingProfitMargin': '0.06408577259297615',\n",
    "    'pretaxProfitMargin': '0.051993542688312876',\n",
    "    'netProfitMargin': '0.04060187018366788',\n",
    "    'effectiveTaxRate': '0.2173403632103105',cat = 'investmentValuationRatios'\n",
    "indicator = 'priceToFreeCashFlowsRatio'\n",
    "\n",
    "    'returnOnAssets': '0.030133146461107218',\n",
    "    'returnOnEquity': '0.09045260229354686',"
   ]
  },
  {
   "cell_type": "code",
   "execution_count": null,
   "metadata": {},
   "outputs": [],
   "source": [
    "cat = 'profitabilityIndicatorRatios'\n",
    "indicator = 'returnOnEquity'\n",
    "\n",
    "my_df = simple_df(cat, indicator)\n",
    "\n",
    "my_df.plot.bar(x='Year')\n"
   ]
  },
  {
   "cell_type": "markdown",
   "metadata": {},
   "source": [
    "# ROE\n",
    "\n",
    "some people consider this the ultimate measure of a stocks success"
   ]
  },
  {
   "cell_type": "markdown",
   "metadata": {},
   "source": [
    "|market cap | measure|\n",
    "\n",
    "| Market Cap | Measure |\n",
    "| ------ | ----------- |\n",
    "| Gigantic  | > $25 Billion |\n",
    "| Large | 5 to 25 Billion |\n",
    "| Medium | 1 to 5 Billion |\n",
    "| Small | up to 1 Billion |\n",
    "| Micro | up to 250 Million|"
   ]
  },
  {
   "cell_type": "markdown",
   "metadata": {},
   "source": [
    "https://www.macrotrends.net/stocks/charts/CR/crane/net-worth\n",
    "\n",
    "on March 24, 2020 fell to 2.2 Billion from 5.2 Billion just months earlier\n",
    "    \n",
    "https://www.macrotrends.net/stocks/charts/AAPL/apple/net-worth\n",
    "\n",
    "https://www.macrotrends.net/stocks/charts/AAPL/apple/net-worth\n",
    "\n",
    "1.3 Trillion to 1.0 Trillion"
   ]
  },
  {
   "cell_type": "markdown",
   "metadata": {},
   "source": [
    "# Buying what the headlines tell you\n",
    "\n",
    "## **Doesn't WORK**\n",
    "\n",
    "### *Nobody Ever knows what THE MARKET will do*!!!\n",
    "\n",
    "### Every STock has\n",
    "\n",
    "1. A business Valuation\n",
    "2. A market valuation\n",
    "\n",
    "### Graham\n",
    "1. price to book near 1\n",
    "2. PE lower - less than 15 - oversimplification?"
   ]
  },
  {
   "cell_type": "markdown",
   "metadata": {},
   "source": [
    "A few superior companies are better than a slew of mediocre ones - Fischer"
   ]
  },
  {
   "cell_type": "code",
   "execution_count": null,
   "metadata": {},
   "outputs": [],
   "source": []
  }
 ],
 "metadata": {
  "kernelspec": {
   "display_name": "Python 3",
   "language": "python",
   "name": "python3"
  },
  "language_info": {
   "codemirror_mode": {
    "name": "ipython",
    "version": 3
   },
   "file_extension": ".py",
   "mimetype": "text/x-python",
   "name": "python",
   "nbconvert_exporter": "python",
   "pygments_lexer": "ipython3",
   "version": "3.9.5"
  }
 },
 "nbformat": 4,
 "nbformat_minor": 4
}
