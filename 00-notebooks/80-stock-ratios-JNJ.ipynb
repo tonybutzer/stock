{
 "cells": [
  {
   "cell_type": "code",
   "execution_count": 1,
   "metadata": {},
   "outputs": [],
   "source": [
    "import pandas as pd\n",
    "import requests\n",
    "import json"
   ]
  },
  {
   "cell_type": "code",
   "execution_count": 2,
   "metadata": {},
   "outputs": [],
   "source": [
    "symbol = 'JNJ'\n",
    "#symbol = 'F'\n",
    "url = 'https://financialmodelingprep.com/api/v3/financial-ratios/' + symbol\n",
    "fr = requests.get(url)"
   ]
  },
  {
   "cell_type": "code",
   "execution_count": 3,
   "metadata": {},
   "outputs": [],
   "source": [
    "def make_df(list1, list2, cat):\n",
    "    df = pd.DataFrame(list(zip(list1, list2)), \n",
    "               columns =['Year', cat]) \n",
    "    return df"
   ]
  },
  {
   "cell_type": "code",
   "execution_count": 4,
   "metadata": {},
   "outputs": [],
   "source": [
    "def simple_df(cat, indicator):\n",
    "    def func(i):\n",
    "        return float(fr['ratios'][i][cat][indicator])\n",
    "    r = list(map(func, range(len(fr['ratios']))))\n",
    "\n",
    "    df = make_df(years,r,indicator)\n",
    "    return df"
   ]
  },
  {
   "cell_type": "code",
   "execution_count": 5,
   "metadata": {},
   "outputs": [
    {
     "data": {
      "text/plain": [
       "{'symbol': 'JNJ',\n",
       " 'ratios': [{'date': '2018-12-31',\n",
       "   'investmentValuationRatios': {'priceBookValueRatio': '6.5614894062123446',\n",
       "    'priceToBookRatio': '6.5614894062123446',\n",
       "    'priceToSalesRatio': '4.805801779826186',\n",
       "    'priceEarningsRatio': '25.630000326861477',\n",
       "    'receivablesTurnover': '5.78670733437367',\n",
       "    'priceToFreeCashFlowsRatio': '21.157094328422644',\n",
       "    'priceToOperatingCashFlowsRatio': '17.659660150443674',\n",
       "    'priceCashFlowRatio': '17.659660150443674',\n",
       "    'priceEarningsToGrowthRatio': '52.866804520368504',\n",
       "    'priceSalesRatio': '4.805801779826186',\n",
       "    'dividendYield': '0.02421555064048971',\n",
       "    'enterpriseValueMultiple': '16.224130094672656',\n",
       "    'priceFairValue': '6.5614894062123446'},\n",
       "   'profitabilityIndicatorRatios': {'niperEBT': '0.8498805489193844',\n",
       "    'ebtperEBIT': '1.0',\n",
       "    'ebitperRevenue': '0.22062735195695077',\n",
       "    'grossProfitMargin': '0.6679251296257707',\n",
       "    'operatingProfitMargin': '0.22062735195695077',\n",
       "    'pretaxProfitMargin': '0.22062735195695077',\n",
       "    'netProfitMargin': '0.18750689498780354',\n",
       "    'effectiveTaxRate': '0.15011945108061558',\n",
       "    'returnOnAssets': '0.10001046066137531',\n",
       "    'returnOnEquity': '0.25600816709064134',\n",
       "    'returnOnCapitalEmployed': '0.14786730636521966',\n",
       "    'nIperEBT': '0.8498805489193844',\n",
       "    'eBTperEBIT': '1.0',\n",
       "    'eBITperRevenue': '0.22062735195695077'},\n",
       "   'operatingPerformanceRatios': {'receivablesTurnover': '5.78670733437367',\n",
       "    'payablesTurnover': '3.5944009552872496',\n",
       "    'inventoryTurnover': '3.150482614257472',\n",
       "    'fixedAssetTurnover': '4.789022600528324',\n",
       "    'assetTurnover': '0.5333695097872563'},\n",
       "   'liquidityMeasurementRatios': {'currentRatio': '1.4739993595901377',\n",
       "    'quickRatio': '1.0818123599103426',\n",
       "    'cashRatio': '0.5797950688440602',\n",
       "    'daysOfSalesOutstanding': '63.07559358183891',\n",
       "    'daysOfInventoryOutstanding': '115.85526558635709',\n",
       "    'operatingCycle': '178.930859168196',\n",
       "    'daysOfPayablesOutstanding': '101.54682366837694',\n",
       "    'cashConversionCycle': '-38.471230086538036'},\n",
       "   'debtRatios': {'debtRatio': '0.6093466009388444',\n",
       "    'debtEquityRatio': '1.5598138974427633',\n",
       "    'longtermDebtToCapitalization': '0.31662015645729447',\n",
       "    'totalDebtToCapitalization': '2.7684000000030987E10',\n",
       "    'interestCoverage': '17.909452736318407',\n",
       "    'cashFlowToDebtRatio': '0.7283792650918636',\n",
       "    'companyEquityMultiplier': '2.5598138974427633'},\n",
       "   'cashFlowIndicatorRatios': {'operatingCashFlowPerShare': '8.279321275405557',\n",
       "    'freeCashFlowPerShare': '6.910684318478464',\n",
       "    'cashPerShare': '7.341786313630431',\n",
       "    'payoutRatio': '0.6206445708308819',\n",
       "    'receivablesTurnover': '5.78670733437367',\n",
       "    'operatingCashFlowSalesRatio': '0.2721344430688518',\n",
       "    'freeCashFlowOperatingCashFlowRatio': '0.8346921309850908',\n",
       "    'cashFlowCoverageRatios': '0.7283792650918636',\n",
       "    'shortTermCoverageRatios': '7.940271816881259',\n",
       "    'capitalExpenditureCoverageRatios': '6.049318801089918',\n",
       "    'dividendpaidAndCapexCoverageRatios': '1.6864934670312974',\n",
       "    'dividendPayoutRatio': '0.6206445708308819'}},\n",
       "  {'date': '2018-12-30',\n",
       "   'investmentValuationRatios': {'priceBookValueRatio': '6.593629730320324',\n",
       "    'priceToBookRatio': '6.593629730320324',\n",
       "    'priceToSalesRatio': '4.829342170923376',\n",
       "    'priceEarningsRatio': '303.06351049700004',\n",
       "    'receivablesTurnover': '5.78670733437367',\n",
       "    'priceToFreeCashFlowsRatio': '22.16248881397874',\n",
       "    'priceToOperatingCashFlowsRatio': '17.74616294969146',\n",
       "    'priceCashFlowRatio': '17.74616294969146',\n",
       "    'priceEarningsToGrowthRatio': '625.2381987390418',\n",
       "    'priceSalesRatio': '4.829342170923376',\n",
       "    'dividendYield': '0.02269897407955639',\n",
       "    'enterpriseValueMultiple': '16.80339657907955',\n",
       "    'priceFairValue': '6.593629730320324'},\n",
       "   'profitabilityIndicatorRatios': {'niperEBT': '0.07222623479082171',\n",
       "    'ebtperEBIT': '0.9673241253291772',\n",
       "    'ebitperRevenue': '0.22808006766281363',\n",
       "    'grossProfitMargin': '0.6679251296257707',\n",
       "    'operatingProfitMargin': '0.24267905517216018',\n",
       "    'pretaxProfitMargin': '0.22062735195695077',\n",
       "    'netProfitMargin': '0.015935082923719982',\n",
       "    'effectiveTaxRate': '0.15011945108061558',\n",
       "    'returnOnAssets': '0.008499287367443807',\n",
       "    'returnOnEquity': '0.021756593921542375',\n",
       "    'returnOnCapitalEmployed': '0.15286221287502874',\n",
       "    'nIperEBT': '0.07222623479082171',\n",
       "    'eBTperEBIT': '0.9673241253291772',\n",
       "    'eBITperRevenue': '0.22808006766281363'},\n",
       "   'operatingPerformanceRatios': {'receivablesTurnover': '5.78670733437367',\n",
       "    'payablesTurnover': '3.5944009552872496',\n",
       "    'inventoryTurnover': '3.150482614257472',\n",
       "    'fixedAssetTurnover': '4.789022600528324',\n",
       "    'assetTurnover': '0.5333695097872563'},\n",
       "   'liquidityMeasurementRatios': {'currentRatio': '1.4739993595901377',\n",
       "    'quickRatio': '1.0818123599103426',\n",
       "    'cashRatio': '0.5797950688440602',\n",
       "    'daysOfSalesOutstanding': '63.07559358183891',\n",
       "    'daysOfInventoryOutstanding': '115.85526558635709',\n",
       "    'operatingCycle': '178.930859168196',\n",
       "    'daysOfPayablesOutstanding': '101.54682366837694',\n",
       "    'cashConversionCycle': '-38.471230086538036'},\n",
       "   'debtRatios': {'debtRatio': '0.6093466009388444',\n",
       "    'debtEquityRatio': '1.5598138974427633',\n",
       "    'longtermDebtToCapitalization': '0.31662015645729447',\n",
       "    'totalDebtToCapitalization': '2.7684000000042763E10',\n",
       "    'interestCoverage': '19.92184154175589',\n",
       "    'cashFlowToDebtRatio': '0.7027856916745806',\n",
       "    'companyEquityMultiplier': '2.5598138974427633'},\n",
       "   'cashFlowIndicatorRatios': {'operatingCashFlowPerShare': '8.277845775249915',\n",
       "    'freeCashFlowPerShare': '6.6283169382738505',\n",
       "    'cashPerShare': '7.3404778963715644',\n",
       "    'payoutRatio': '6.8792307692307695',\n",
       "    'receivablesTurnover': '5.78670733437367',\n",
       "    'operatingCashFlowSalesRatio': '0.2721344430688518',\n",
       "    'freeCashFlowOperatingCashFlowRatio': '0.8007296968605018',\n",
       "    'cashFlowCoverageRatios': '0.7027856916745806',\n",
       "    'shortTermCoverageRatios': '5.683819764464926',\n",
       "    'capitalExpenditureCoverageRatios': '-6.049318801089918',\n",
       "    'dividendpaidAndCapexCoverageRatios': '4.210316707756495',\n",
       "    'dividendPayoutRatio': '6.8792307692307695'}},\n",
       "  {'date': '2017-12-31',\n",
       "   'investmentValuationRatios': {'priceBookValueRatio': '6.2637327127659574',\n",
       "    'priceToBookRatio': '6.2637327127659574',\n",
       "    'priceToSalesRatio': '4.929053760627861',\n",
       "    'priceEarningsRatio': '289.8662769230769',\n",
       "    'receivablesTurnover': '5.667160859896219',\n",
       "    'priceToFreeCashFlowsRatio': '21.19739888620127',\n",
       "    'priceToOperatingCashFlowsRatio': '17.896379179331305',\n",
       "    'priceCashFlowRatio': '17.896379179331305',\n",
       "    'priceEarningsToGrowthRatio': '600.2461672899408',\n",
       "    'priceSalesRatio': '4.929053760627861',\n",
       "    'dividendYield': '0.023732428767684284',\n",
       "    'enterpriseValueMultiple': '16.88111344627922',\n",
       "    'priceFairValue': '6.2637327127659574'},\n",
       "   'profitabilityIndicatorRatios': {'niperEBT': '0.07355853561930628',\n",
       "    'ebtperEBIT': '1.0',\n",
       "    'ebitperRevenue': '0.23117069980379332',\n",
       "    'grossProfitMargin': '0.6683584041857423',\n",
       "    'operatingProfitMargin': '0.23117069980379332',\n",
       "    'pretaxProfitMargin': '0.23117069980379332',\n",
       "    'netProfitMargin': '0.017004578155657292',\n",
       "    'effectiveTaxRate': '0.9264414643806937',\n",
       "    'returnOnAssets': '0.008264305194433672',\n",
       "    'returnOnEquity': '0.02160904255319149',\n",
       "    'returnOnCapitalEmployed': '0.13941435400659483',\n",
       "    'nIperEBT': '0.07355853561930628',\n",
       "    'eBTperEBIT': '1.0',\n",
       "    'eBITperRevenue': '0.23117069980379332'},\n",
       "   'operatingPerformanceRatios': {'receivablesTurnover': '5.667160859896219',\n",
       "    'payablesTurnover': '3.468399452804378',\n",
       "    'inventoryTurnover': '2.8926411865373645',\n",
       "    'fixedAssetTurnover': '4.495736548074096',\n",
       "    'assetTurnover': '0.4860047170111187'},\n",
       "   'liquidityMeasurementRatios': {'currentRatio': '1.4110095949176409',\n",
       "    'quickRatio': '1.040901201820742',\n",
       "    'cashRatio': '0.5836853652945607',\n",
       "    'daysOfSalesOutstanding': '64.4061478090255',\n",
       "    'daysOfInventoryOutstanding': '126.18225920959217',\n",
       "    'operatingCycle': '190.58840701861766',\n",
       "    'daysOfPayablesOutstanding': '105.23586021929478',\n",
       "    'cashConversionCycle': '-40.82971241026928'},\n",
       "   'debtRatios': {'debtRatio': '0.6175533842329771',\n",
       "    'debtEquityRatio': '1.6147440159574469',\n",
       "    'longtermDebtToCapitalization': '0.33770022568393243',\n",
       "    'totalDebtToCapitalization': '3.067500000004123E10',\n",
       "    'interestCoverage': '18.92184154175589',\n",
       "    'cashFlowToDebtRatio': '0.6088892744570717',\n",
       "    'companyEquityMultiplier': '2.614744015957447'},\n",
       "   'cashFlowIndicatorRatios': {'operatingCashFlowPerShare': '7.8216939078751855',\n",
       "    'freeCashFlowPerShare': '6.603640416047548',\n",
       "    'cashPerShare': '6.7964338781575035',\n",
       "    'payoutRatio': '6.8792307692307695',\n",
       "    'receivablesTurnover': '5.667160859896219',\n",
       "    'operatingCashFlowSalesRatio': '0.27542184434270767',\n",
       "    'freeCashFlowOperatingCashFlowRatio': '0.8442724164133738',\n",
       "    'cashFlowCoverageRatios': '0.6088892744570717',\n",
       "    'shortTermCoverageRatios': '5.39068100358423',\n",
       "    'capitalExpenditureCoverageRatios': '6.421469960353766',\n",
       "    'dividendpaidAndCapexCoverageRatios': '1.722794959908362',\n",
       "    'dividendPayoutRatio': '6.8792307692307695'}},\n",
       "  {'date': '2017-01-01',\n",
       "   'investmentValuationRatios': {'priceBookValueRatio': '4.3521274106052426',\n",
       "    'priceToBookRatio': '4.3521274106052426',\n",
       "    'priceToSalesRatio': '4.263014438725831',\n",
       "    'priceEarningsRatio': '18.528906166868197',\n",
       "    'receivablesTurnover': '6.144969655526113',\n",
       "    'priceToFreeCashFlowsRatio': '19.719973489479443',\n",
       "    'priceToOperatingCashFlowsRatio': '16.330159748494697',\n",
       "    'priceCashFlowRatio': '16.330159748494697',\n",
       "    'priceEarningsToGrowthRatio': '39.01474988505255',\n",
       "    'priceSalesRatio': '4.263014438725831',\n",
       "    'dividendYield': '0.028130170073030897',\n",
       "    'enterpriseValueMultiple': '13.355779938022668',\n",
       "    'priceFairValue': '4.3521274106052426'},\n",
       "   'profitabilityIndicatorRatios': {'niperEBT': '0.8352269858102308',\n",
       "    'ebtperEBIT': '1.0',\n",
       "    'ebitperRevenue': '0.2754625121713729',\n",
       "    'grossProfitMargin': '0.6983586034218946',\n",
       "    'operatingProfitMargin': '0.2754625121713729',\n",
       "    'pretaxProfitMargin': '0.2754625121713729',\n",
       "    'netProfitMargin': '0.23007372374460983',\n",
       "    'effectiveTaxRate': '0.16477301418976922',\n",
       "    'returnOnAssets': '0.11713217381451475',\n",
       "    'returnOnEquity': '0.2348831264733449',\n",
       "    'returnOnCapitalEmployed': '0.1723183752316809',\n",
       "    'nIperEBT': '0.8352269858102308',\n",
       "    'eBTperEBIT': '1.0',\n",
       "    'eBITperRevenue': '0.2754625121713729'},\n",
       "   'operatingPerformanceRatios': {'receivablesTurnover': '6.144969655526113',\n",
       "    'payablesTurnover': '3.134576467187048',\n",
       "    'inventoryTurnover': '2.662696463654224',\n",
       "    'fixedAssetTurnover': '4.51797385620915',\n",
       "    'assetTurnover': '0.5091071327403547'},\n",
       "   'liquidityMeasurementRatios': {'currentRatio': '2.473922471183475',\n",
       "    'quickRatio': '2.0392589492905238',\n",
       "    'cashRatio': '0.7217255677711416',\n",
       "    'daysOfSalesOutstanding': '59.39817777159549',\n",
       "    'daysOfInventoryOutstanding': '137.07908692644685',\n",
       "    'operatingCycle': '196.47726469804235',\n",
       "    'daysOfPayablesOutstanding': '116.44316347705788',\n",
       "    'cashConversionCycle': '-57.04498570546239'},\n",
       "   'debtRatios': {'debtRatio': '0.5013172058240326',\n",
       "    'debtEquityRatio': '1.0052827402084694',\n",
       "    'longtermDebtToCapitalization': '0.2416756407495154',\n",
       "    'totalDebtToCapitalization': '2.244200000004802E10',\n",
       "    'interestCoverage': '27.276859504132233',\n",
       "    'cashFlowToDebtRatio': '0.6918454619184546',\n",
       "    'companyEquityMultiplier': '2.0052827402084694'},\n",
       "   'cashFlowIndicatorRatios': {'operatingCashFlowPerShare': '6.856026011032769',\n",
       "    'freeCashFlowPerShare': '5.677492419537501',\n",
       "    'cashPerShare': '15.309611661125928',\n",
       "    'payoutRatio': '0.5212212817412334',\n",
       "    'receivablesTurnover': '6.144969655526113',\n",
       "    'operatingCashFlowSalesRatio': '0.2610516066212269',\n",
       "    'freeCashFlowOperatingCashFlowRatio': '0.8281025203815208',\n",
       "    'cashFlowCoverageRatios': '0.6918454619184546',\n",
       "    'shortTermCoverageRatios': '4.006618274978651',\n",
       "    'capitalExpenditureCoverageRatios': '5.817420954742715',\n",
       "    'dividendpaidAndCapexCoverageRatios': '1.5841141217185786',\n",
       "    'dividendPayoutRatio': '0.5212212817412334'}},\n",
       "  {'date': '2016-01-03',\n",
       "   'investmentValuationRatios': {'priceBookValueRatio': '4.010636823612088',\n",
       "    'priceToBookRatio': '4.010636823612088',\n",
       "    'priceToSalesRatio': '4.072220937865685',\n",
       "    'priceEarningsRatio': '18.51884028814329',\n",
       "    'receivablesTurnover': '6.528228060368921',\n",
       "    'priceToFreeCashFlowsRatio': '18.042286924633284',\n",
       "    'priceToOperatingCashFlowsRatio': '14.801432128222418',\n",
       "    'priceCashFlowRatio': '14.801432128222418',\n",
       "    'priceEarningsToGrowthRatio': '39.48501654667352',\n",
       "    'priceSalesRatio': '4.072220937865685',\n",
       "    'dividendYield': '0.028641335035950254',\n",
       "    'enterpriseValueMultiple': '12.705335628977421',\n",
       "    'priceFairValue': '4.010636823612088'},\n",
       "   'profitabilityIndicatorRatios': {'niperEBT': '0.8027193165242759',\n",
       "    'ebtperEBIT': '1.0',\n",
       "    'ebitperRevenue': '0.2739389787938465',\n",
       "    'grossProfitMargin': '0.6926677512344094',\n",
       "    'operatingProfitMargin': '0.2739389787938465',\n",
       "    'pretaxProfitMargin': '0.2739389787938465',\n",
       "    'netProfitMargin': '0.21989610982675456',\n",
       "    'effectiveTaxRate': '0.1972806834757241',\n",
       "    'returnOnAssets': '0.1155002211211969',\n",
       "    'returnOnEquity': '0.21657062543921293',\n",
       "    'returnOnCapitalEmployed': '0.1816701998788613',\n",
       "    'nIperEBT': '0.8027193165242759',\n",
       "    'eBTperEBIT': '1.0',\n",
       "    'eBITperRevenue': '0.2739389787938465'},\n",
       "   'operatingPerformanceRatios': {'receivablesTurnover': '6.528228060368921',\n",
       "    'payablesTurnover': '3.229754049190162',\n",
       "    'inventoryTurnover': '2.674282875946852',\n",
       "    'fixedAssetTurnover': '4.40578434454574',\n",
       "    'assetTurnover': '0.5252490424327829'},\n",
       "   'liquidityMeasurementRatios': {'currentRatio': '2.1699643204670775',\n",
       "    'quickRatio': '1.7699210725483836',\n",
       "    'cashRatio': '0.4949003495873428',\n",
       "    'daysOfSalesOutstanding': '55.91103690384451',\n",
       "    'daysOfInventoryOutstanding': '136.48518759286776',\n",
       "    'operatingCycle': '192.39622449671228',\n",
       "    'daysOfPayablesOutstanding': '113.01170133729569',\n",
       "    'cashConversionCycle': '-57.10066443345118'},\n",
       "   'debtRatios': {'debtRatio': '0.4666856556056097',\n",
       "    'debtEquityRatio': '0.8750667603654252',\n",
       "    'longtermDebtToCapitalization': '0.15304676991203114',\n",
       "    'totalDebtToCapitalization': '1.2857000000076958E10',\n",
       "    'interestCoverage': '34.77536231884058',\n",
       "    'cashFlowToDebtRatio': '0.9706963395599416',\n",
       "    'companyEquityMultiplier': '1.8750667603654252'},\n",
       "   'cashFlowIndicatorRatios': {'operatingCashFlowPerShare': '6.955408038097987',\n",
       "    'freeCashFlowPerShare': '5.7060393967818746',\n",
       "    'cashPerShare': '13.84515477307165',\n",
       "    'payoutRatio': '0.5304043091699656',\n",
       "    'receivablesTurnover': '6.528228060368921',\n",
       "    'operatingCashFlowSalesRatio': '0.2751234409338699',\n",
       "    'freeCashFlowOperatingCashFlowRatio': '0.8203745007521137',\n",
       "    'cashFlowCoverageRatios': '0.9706963395599416',\n",
       "    'shortTermCoverageRatios': '2.752569960022844',\n",
       "    'capitalExpenditureCoverageRatios': '5.567138319376263',\n",
       "    'dividendpaidAndCapexCoverageRatios': '1.6568408387762117',\n",
       "    'dividendPayoutRatio': '0.5304043091699655'}},\n",
       "  {'date': '2014-12-28',\n",
       "   'investmentValuationRatios': {'priceBookValueRatio': '4.368984401880949',\n",
       "    'priceToBookRatio': '4.368984401880949',\n",
       "    'priceToSalesRatio': '4.099842595955927',\n",
       "    'priceEarningsRatio': '18.66969307112663',\n",
       "    'receivablesTurnover': '6.76659080564406',\n",
       "    'priceToFreeCashFlowsRatio': '20.65090465541777',\n",
       "    'priceToOperatingCashFlowsRatio': '16.498586974175733',\n",
       "    'priceCashFlowRatio': '16.498586974175733',\n",
       "    'priceEarningsToGrowthRatio': '40.42993841064284',\n",
       "    'priceSalesRatio': '4.099842595955927',\n",
       "    'dividendYield': '0.025490130449877173',\n",
       "    'enterpriseValueMultiple': '12.633183416469048',\n",
       "    'priceFairValue': '4.368984401880949'},\n",
       "   'profitabilityIndicatorRatios': {'niperEBT': '0.7938044059718913',\n",
       "    'ebtperEBIT': '1.0',\n",
       "    'ebitperRevenue': '0.27664097079280514',\n",
       "    'grossProfitMargin': '0.6939903943173104',\n",
       "    'operatingProfitMargin': '0.27664097079280514',\n",
       "    'pretaxProfitMargin': '0.27664097079280514',\n",
       "    'netProfitMargin': '0.21959882148767002',\n",
       "    'effectiveTaxRate': '0.20619559402810875',\n",
       "    'returnOnAssets': '0.12448996712909648',\n",
       "    'returnOnEquity': '0.23401479527468746',\n",
       "    'returnOnCapitalEmployed': '0.19392836260067525',\n",
       "    'nIperEBT': '0.7938044059718913',\n",
       "    'eBTperEBIT': '1.0',\n",
       "    'eBITperRevenue': '0.27664097079280514'},\n",
       "   'operatingPerformanceRatios': {'receivablesTurnover': '6.76659080564406',\n",
       "    'payablesTurnover': '2.979955456570156',\n",
       "    'inventoryTurnover': '2.779325513196481',\n",
       "    'fixedAssetTurnover': '4.60938856505023',\n",
       "    'assetTurnover': '0.5668972460131636'},\n",
       "   'liquidityMeasurementRatios': {'currentRatio': '2.3644010364759818',\n",
       "    'quickRatio': '1.7569862467610124',\n",
       "    'cashRatio': '0.5789515646800877',\n",
       "    'daysOfSalesOutstanding': '53.94149143695093',\n",
       "    'daysOfInventoryOutstanding': '131.3268266948035',\n",
       "    'operatingCycle': '185.26831813175443',\n",
       "    'daysOfPayablesOutstanding': '122.48505231689089',\n",
       "    'cashConversionCycle': '-68.54356087993995'},\n",
       "   'debtRatios': {'debtRatio': '0.46802522899045906',\n",
       "    'debtEquityRatio': '0.8797883931643538',\n",
       "    'longtermDebtToCapitalization': '0.1781699931663407',\n",
       "    'totalDebtToCapitalization': '1.5122000000041101E10',\n",
       "    'interestCoverage': '38.5797373358349',\n",
       "    'cashFlowToDebtRatio': '0.9845948827292111',\n",
       "    'companyEquityMultiplier': '1.8797883931643538'},\n",
       "   'cashFlowIndicatorRatios': {'operatingCashFlowPerShare': '6.5611679454390455',\n",
       "    'freeCashFlowPerShare': '5.241901108269395',\n",
       "    'cashPerShare': '11.753694231315714',\n",
       "    'payoutRatio': '0.47589291184218585',\n",
       "    'receivablesTurnover': '6.76659080564406',\n",
       "    'operatingCashFlowSalesRatio': '0.24849658957904508',\n",
       "    'freeCashFlowOperatingCashFlowRatio': '0.7989280493746954',\n",
       "    'cashFlowCoverageRatios': '0.9845948827292111',\n",
       "    'shortTermCoverageRatios': '5.077240241891149',\n",
       "    'capitalExpenditureCoverageRatios': '4.973344103392568',\n",
       "    'dividendpaidAndCapexCoverageRatios': '1.6086918655286535',\n",
       "    'dividendPayoutRatio': '0.4758929118421858'}},\n",
       "  {'date': '2013-12-29',\n",
       "   'investmentValuationRatios': {'priceBookValueRatio': '3.5909263905581135',\n",
       "    'priceToBookRatio': '3.5909263905581135',\n",
       "    'priceToSalesRatio': '3.7289498541619923',\n",
       "    'priceEarningsRatio': '19.226293977297377',\n",
       "    'receivablesTurnover': '6.088277981729702',\n",
       "    'priceToFreeCashFlowsRatio': '19.24298950720023',\n",
       "    'priceToOperatingCashFlowsRatio': '15.270407258527621',\n",
       "    'priceCashFlowRatio': '15.270407258527621',\n",
       "    'priceEarningsToGrowthRatio': '41.54654233924907',\n",
       "    'priceSalesRatio': '3.7289498541619923',\n",
       "    'dividendYield': '0.02739933403447951',\n",
       "    'enterpriseValueMultiple': '14.673647727906328',\n",
       "    'priceFairValue': '3.5909263905581135'},\n",
       "   'profitabilityIndicatorRatios': {'niperEBT': '0.824205947202193',\n",
       "    'ebtperEBIT': '1.213288988504085',\n",
       "    'ebitperRevenue': '0.19395052726048911',\n",
       "    'grossProfitMargin': '0.6867006955351133',\n",
       "    'operatingProfitMargin': '0.19395052726048911',\n",
       "    'pretaxProfitMargin': '0.23531803903971282',\n",
       "    'netProfitMargin': '0.19395052726048911',\n",
       "    'effectiveTaxRate': '0.09772957511471307',\n",
       "    'returnOnAssets': '0.104240935161249',\n",
       "    'returnOnEquity': '0.18677163653059295',\n",
       "    'returnOnCapitalEmployed': '0.12925201854066987',\n",
       "    'nIperEBT': '0.824205947202193',\n",
       "    'eBTperEBIT': '1.213288988504085',\n",
       "    'eBITperRevenue': '0.19395052726048911'},\n",
       "   'operatingPerformanceRatios': {'receivablesTurnover': '6.088277981729702',\n",
       "    'payablesTurnover': '3.5655920842642836',\n",
       "    'inventoryTurnover': '2.835998984513836',\n",
       "    'fixedAssetTurnover': '4.267624177139438',\n",
       "    'assetTurnover': '0.5374614683116903'},\n",
       "   'liquidityMeasurementRatios': {'currentRatio': '2.1969620253164557',\n",
       "    'quickRatio': '1.5937293086660176',\n",
       "    'cashRatio': '0.8150730282375852',\n",
       "    'daysOfSalesOutstanding': '59.951270473412606',\n",
       "    'daysOfInventoryOutstanding': '128.70244382776832',\n",
       "    'operatingCycle': '188.6537143011809',\n",
       "    'daysOfPayablesOutstanding': '102.36729030525467',\n",
       "    'cashConversionCycle': '-42.416019831842064'},\n",
       "   'debtRatios': {'debtRatio': '0.44188027102190935',\n",
       "    'debtEquityRatio': '0.7917302472553441',\n",
       "    'longtermDebtToCapitalization': '0.15252743731474805',\n",
       "    'totalDebtToCapitalization': '1.3328000000052607E10',\n",
       "    'interestCoverage': '28.695020746887966',\n",
       "    'cashFlowToDebtRatio': '0.9578657865786578',\n",
       "    'companyEquityMultiplier': '1.7917302472553442'},\n",
       "   'cashFlowIndicatorRatios': {'operatingCashFlowPerShare': '6.198917841378329',\n",
       "    'freeCashFlowPerShare': '4.919194076605439',\n",
       "    'cashPerShare': '10.39655417912573',\n",
       "    'payoutRatio': '0.5267876509290724',\n",
       "    'receivablesTurnover': '6.088277981729702',\n",
       "    'operatingCashFlowSalesRatio': '0.24419452546555978',\n",
       "    'freeCashFlowOperatingCashFlowRatio': '0.7935569082347537',\n",
       "    'cashFlowCoverageRatios': '0.9578657865786578',\n",
       "    'shortTermCoverageRatios': '3.589035449299258',\n",
       "    'capitalExpenditureCoverageRatios': '4.843949930458971',\n",
       "    'dividendpaidAndCapexCoverageRatios': '1.600404374597923',\n",
       "    'dividendPayoutRatio': '0.5267876509290724'}},\n",
       "  {'date': '2012-12-30',\n",
       "   'investmentValuationRatios': {'priceBookValueRatio': '2.9615834541696233',\n",
       "    'priceToBookRatio': '2.9615834541696233',\n",
       "    'priceToSalesRatio': '2.855938489230037',\n",
       "    'priceEarningsRatio': '17.68981931263245',\n",
       "    'receivablesTurnover': '5.944292156689363',\n",
       "    'priceToFreeCashFlowsRatio': '15.405842481142674',\n",
       "    'priceToOperatingCashFlowsRatio': '12.469966809560926',\n",
       "    'priceCashFlowRatio': '12.469966809560926',\n",
       "    'priceEarningsToGrowthRatio': '37.465676548823794',\n",
       "    'priceSalesRatio': '2.855938489230037',\n",
       "    'dividendYield': '0.03445013995668855',\n",
       "    'enterpriseValueMultiple': '11.079732182787684',\n",
       "    'priceFairValue': '2.9615834541696233'},\n",
       "   'profitabilityIndicatorRatios': {'niperEBT': '0.7878765880217786',\n",
       "    'ebtperEBIT': '1.0',\n",
       "    'ebitperRevenue': '0.20491193621325718',\n",
       "    'grossProfitMargin': '0.6778233964060455',\n",
       "    'operatingProfitMargin': '0.20491193621325718',\n",
       "    'pretaxProfitMargin': '0.20491193621325718',\n",
       "    'netProfitMargin': '0.16144531714863739',\n",
       "    'effectiveTaxRate': '0.23673321234119782',\n",
       "    'returnOnAssets': '0.08943772816798108',\n",
       "    'returnOnEquity': '0.16741739425539134',\n",
       "    'returnOnCapitalEmployed': '0.14188597620641705',\n",
       "    'nIperEBT': '0.7878765880217786',\n",
       "    'eBTperEBIT': '1.0',\n",
       "    'eBITperRevenue': '0.20491193621325718'},\n",
       "   'operatingPerformanceRatios': {'receivablesTurnover': '5.944292156689363',\n",
       "    'payablesTurnover': '3.7142857142857144',\n",
       "    'inventoryTurnover': '2.8896597731821214',\n",
       "    'fixedAssetTurnover': '4.176181897247934',\n",
       "    'assetTurnover': '0.5539815570224232'},\n",
       "   'liquidityMeasurementRatios': {'currentRatio': '1.9007501442585113',\n",
       "    'quickRatio': '1.3353392135850302',\n",
       "    'cashRatio': '0.6145824746517188',\n",
       "    'daysOfSalesOutstanding': '61.40344222301559',\n",
       "    'daysOfInventoryOutstanding': '126.31244805614554',\n",
       "    'operatingCycle': '187.71589027916113',\n",
       "    'daysOfPayablesOutstanding': '98.26923076923077',\n",
       "    'cashConversionCycle': '-36.865788546215185'},\n",
       "   'debtRatios': {'debtRatio': '0.4657799533569021',\n",
       "    'debtEquityRatio': '0.8718878227871533',\n",
       "    'longtermDebtToCapitalization': '0.1505470746249099',\n",
       "    'totalDebtToCapitalization': '1.1489000000057735E10',\n",
       "    'interestCoverage': '25.892857142857142',\n",
       "    'cashFlowToDebtRatio': '0.9524280853696258',\n",
       "    'companyEquityMultiplier': '1.8718878227871534'},\n",
       "   'cashFlowIndicatorRatios': {'operatingCashFlowPerShare': '5.591835252242763',\n",
       "    'freeCashFlowPerShare': '4.526204917735082',\n",
       "    'cashPerShare': '7.6595358297315945',\n",
       "    'payoutRatio': '0.6094167511287202',\n",
       "    'receivablesTurnover': '5.944292156689363',\n",
       "    'operatingCashFlowSalesRatio': '0.22902534808996786',\n",
       "    'freeCashFlowOperatingCashFlowRatio': '0.8094310210444271',\n",
       "    'cashFlowCoverageRatios': '0.9524280853696258',\n",
       "    'shortTermCoverageRatios': '3.292557741659538',\n",
       "    'capitalExpenditureCoverageRatios': '5.247443762781186',\n",
       "    'dividendpaidAndCapexCoverageRatios': '1.6124842899036447',\n",
       "    'dividendPayoutRatio': '0.6094167511287201'}},\n",
       "  {'date': '2012-01-01',\n",
       "   'investmentValuationRatios': {'priceBookValueRatio': '3.042290119131044',\n",
       "    'priceToBookRatio': '3.042290119131044',\n",
       "    'priceToSalesRatio': '2.6703662924803937',\n",
       "    'priceEarningsRatio': '17.954292803970223',\n",
       "    'receivablesTurnover': '6.145921935544845',\n",
       "    'priceToFreeCashFlowsRatio': '15.226121876370014',\n",
       "    'priceToOperatingCashFlowsRatio': '12.145329416701635',\n",
       "    'priceCashFlowRatio': '12.145329416701635',\n",
       "    'priceEarningsToGrowthRatio': '37.78688085512502',\n",
       "    'priceSalesRatio': '2.6703662924803937',\n",
       "    'dividendYield': '0.03544981881203718',\n",
       "    'enterpriseValueMultiple': '10.873053676138927',\n",
       "    'priceFairValue': '3.042290119131044'},\n",
       "   'profitabilityIndicatorRatios': {'niperEBT': '0.7824609659412669',\n",
       "    'ebtperEBIT': '1.0',\n",
       "    'ebitperRevenue': '0.1900815008457635',\n",
       "    'grossProfitMargin': '0.6869137321236353',\n",
       "    'operatingProfitMargin': '0.1900815008457635',\n",
       "    'pretaxProfitMargin': '0.1900815008457635',\n",
       "    'netProfitMargin': '0.14873135475934185',\n",
       "    'effectiveTaxRate': '0.21753903405873312',\n",
       "    'returnOnAssets': '0.08510788075041358',\n",
       "    'returnOnEquity': '0.16944639103013315',\n",
       "    'returnOnCapitalEmployed': '0.13608490306386445',\n",
       "    'nIperEBT': '0.7824609659412669',\n",
       "    'eBTperEBIT': '1.0',\n",
       "    'eBITperRevenue': '0.1900815008457635'},\n",
       "   'operatingPerformanceRatios': {'receivablesTurnover': '6.145921935544845',\n",
       "    'payablesTurnover': '3.556331877729258',\n",
       "    'inventoryTurnover': '3.2394590294351633',\n",
       "    'fixedAssetTurnover': '4.41210394192279',\n",
       "    'assetTurnover': '0.572225546443279'},\n",
       "   'liquidityMeasurementRatios': {'currentRatio': '2.3811319100434',\n",
       "    'quickRatio': '1.8781289728639692',\n",
       "    'cashRatio': '1.0758844417167157',\n",
       "    'daysOfSalesOutstanding': '59.38897431954482',\n",
       "    'daysOfInventoryOutstanding': '112.67313359528487',\n",
       "    'operatingCycle': '172.06210791482968',\n",
       "    'daysOfPayablesOutstanding': '102.63384086444007',\n",
       "    'cashConversionCycle': '-43.24486654489525'},\n",
       "   'debtRatios': {'debtRatio': '0.4977297525606279',\n",
       "    'debtEquityRatio': '0.9909600560616678',\n",
       "    'longtermDebtToCapitalization': '0.18514182929092493',\n",
       "    'totalDebtToCapitalization': '1.2969000000086798E10',\n",
       "    'interestCoverage': '21.64798598949212',\n",
       "    'cashFlowToDebtRatio': '0.7284862689152698',\n",
       "    'companyEquityMultiplier': '1.9909600560616678'},\n",
       "   'cashFlowIndicatorRatios': {'operatingCashFlowPerShare': '5.225877192982456',\n",
       "    'freeCashFlowPerShare': '4.168494152046784',\n",
       "    'cashPerShare': '11.791301169590643',\n",
       "    'payoutRatio': '0.6364764267990074',\n",
       "    'receivablesTurnover': '6.145921935544845',\n",
       "    'operatingCashFlowSalesRatio': '0.21986775334461017',\n",
       "    'freeCashFlowOperatingCashFlowRatio': '0.797664008952301',\n",
       "    'cashFlowCoverageRatios': '0.7284862689152698',\n",
       "    'shortTermCoverageRatios': '2.1474917392610395',\n",
       "    'capitalExpenditureCoverageRatios': '4.9422744555824405',\n",
       "    'dividendpaidAndCapexCoverageRatios': '1.5800640954801635',\n",
       "    'dividendPayoutRatio': '0.6364764267990074'}},\n",
       "  {'date': '2011-01-02',\n",
       "   'investmentValuationRatios': {'priceBookValueRatio': '3.0549',\n",
       "    'priceToBookRatio': '7.035',\n",
       "    'priceToSalesRatio': '2.8012',\n",
       "    'priceEarningsRatio': '12.9526',\n",
       "    'receivablesTurnover': '6.3426',\n",
       "    'priceToFreeCashFlowsRatio': '12.345',\n",
       "    'priceToOperatingCashFlowsRatio': '10.5291',\n",
       "    'priceCashFlowRatio': '0',\n",
       "    'priceEarningsToGrowthRatio': '0',\n",
       "    'priceSalesRatio': '0',\n",
       "    'dividendYield': '',\n",
       "    'enterpriseValueMultiple': '1.5021601685985',\n",
       "    'priceFairValue': '0'},\n",
       "   'profitabilityIndicatorRatios': {'niperEBT': '0.72378592081194',\n",
       "    'ebtperEBIT': '1.0457238059978',\n",
       "    'ebitperRevenue': '0.26313994836573',\n",
       "    'grossProfitMargin': '0.69487067075844',\n",
       "    'operatingProfitMargin': '1',\n",
       "    'pretaxProfitMargin': '0.26835208729115',\n",
       "    'netProfitMargin': '0.19916540828422',\n",
       "    'effectiveTaxRate': '0.21319407564761',\n",
       "    'returnOnAssets': '0.3766',\n",
       "    'returnOnEquity': '0.2425',\n",
       "    'returnOnCapitalEmployed': '0.1628',\n",
       "    'nIperEBT': '0.72378592081194',\n",
       "    'eBTperEBIT': '1.0457238059978',\n",
       "    'eBITperRevenue': '0.26313994836573'},\n",
       "   'operatingPerformanceRatios': {'receivablesTurnover': '6.3426',\n",
       "    'payablesTurnover': '2.8026',\n",
       "    'inventoryTurnover': '11.6664',\n",
       "    'fixedAssetTurnover': '4.2319109461967',\n",
       "    'assetTurnover': '0.59846659151864'},\n",
       "   'liquidityMeasurementRatios': {'currentRatio': '1.82',\n",
       "    'quickRatio': '1.622399445215',\n",
       "    'cashRatio': '0.83889563106796',\n",
       "    'daysOfSalesOutstanding': '-104.4577',\n",
       "    'daysOfInventoryOutstanding': '57.9263',\n",
       "    'operatingCycle': '',\n",
       "    'daysOfPayablesOutstanding': '33.3251',\n",
       "    'cashConversionCycle': ''},\n",
       "   'debtRatios': {'debtRatio': '0.1536',\n",
       "    'debtEquityRatio': '0.2874',\n",
       "    'longtermDebtToCapitalization': '0.13928652924622',\n",
       "    'totalDebtToCapitalization': '0.21475858048936',\n",
       "    'interestCoverage': '',\n",
       "    'cashFlowToDebtRatio': '1.0588729481711',\n",
       "    'companyEquityMultiplier': '1.8188373778257'},\n",
       "   'cashFlowIndicatorRatios': {'operatingCashFlowPerShare': '6.0051',\n",
       "    'freeCashFlowPerShare': '5.148',\n",
       "    'cashPerShare': '5.7293',\n",
       "    'payoutRatio': '0.434',\n",
       "    'receivablesTurnover': '6.3426',\n",
       "    'operatingCashFlowSalesRatio': '0.26604640589735',\n",
       "    'freeCashFlowOperatingCashFlowRatio': '0.86701251144339',\n",
       "    'cashFlowCoverageRatios': '1.0588729481711',\n",
       "    'shortTermCoverageRatios': '2.5933839822729',\n",
       "    'capitalExpenditureCoverageRatios': '6.8729026845638',\n",
       "    'dividendpaidAndCapexCoverageRatios': '2.1248865257424',\n",
       "    'dividendPayoutRatio': '0.43428990706017'}},\n",
       "  {'date': '2010-01-03',\n",
       "   'investmentValuationRatios': {'priceBookValueRatio': '3.5263',\n",
       "    'priceToBookRatio': '9.1938',\n",
       "    'priceToSalesRatio': '2.8832',\n",
       "    'priceEarningsRatio': '14.5348',\n",
       "    'receivablesTurnover': '6.3927',\n",
       "    'priceToFreeCashFlowsRatio': '12.564',\n",
       "    'priceToOperatingCashFlowsRatio': '10.7693',\n",
       "    'priceCashFlowRatio': '',\n",
       "    'priceEarningsToGrowthRatio': '',\n",
       "    'priceSalesRatio': '',\n",
       "    'dividendYield': '',\n",
       "    'enterpriseValueMultiple': '',\n",
       "    'priceFairValue': ''},\n",
       "   'profitabilityIndicatorRatios': {'niperEBT': '0',\n",
       "    'ebtperEBIT': '',\n",
       "    'ebitperRevenue': '0',\n",
       "    'grossProfitMargin': '0.70197263195308',\n",
       "    'operatingProfitMargin': '1',\n",
       "    'pretaxProfitMargin': '0.25187004216683',\n",
       "    'netProfitMargin': '0',\n",
       "    'effectiveTaxRate': '0.22145350682323',\n",
       "    'returnOnAssets': '',\n",
       "    'returnOnEquity': '',\n",
       "    'returnOnCapitalEmployed': '',\n",
       "    'nIperEBT': '0',\n",
       "    'eBTperEBIT': '',\n",
       "    'eBITperRevenue': '0'},\n",
       "   'operatingPerformanceRatios': {'receivablesTurnover': '6.3927',\n",
       "    'payablesTurnover': '2.5377',\n",
       "    'inventoryTurnover': '12.0987',\n",
       "    'fixedAssetTurnover': '4.1938478216681',\n",
       "    'assetTurnover': '0.65373566253353'},\n",
       "   'liquidityMeasurementRatios': {'currentRatio': '1.8195665178777',\n",
       "    'quickRatio': '1.3377663246054',\n",
       "    'cashRatio': '0.72753209700428',\n",
       "    'daysOfSalesOutstanding': '-102.4936',\n",
       "    'daysOfInventoryOutstanding': '56.8814',\n",
       "    'operatingCycle': '',\n",
       "    'daysOfPayablesOutstanding': '32.6747',\n",
       "    'cashConversionCycle': ''},\n",
       "   'debtRatios': {'debtRatio': '',\n",
       "    'debtEquityRatio': '',\n",
       "    'longtermDebtToCapitalization': '0.13982078182653',\n",
       "    'totalDebtToCapitalization': '0.13982078182653',\n",
       "    'interestCoverage': '',\n",
       "    'cashFlowToDebtRatio': '2.0152012647452',\n",
       "    'companyEquityMultiplier': '1.8716296354867'},\n",
       "   'cashFlowIndicatorRatios': {'operatingCashFlowPerShare': '',\n",
       "    'freeCashFlowPerShare': '',\n",
       "    'cashPerShare': '',\n",
       "    'payoutRatio': '',\n",
       "    'receivablesTurnover': '6.3927',\n",
       "    'operatingCashFlowSalesRatio': '0.26771895245327',\n",
       "    'freeCashFlowOperatingCashFlowRatio': '0',\n",
       "    'cashFlowCoverageRatios': '2.0152012647452',\n",
       "    'shortTermCoverageRatios': '',\n",
       "    'capitalExpenditureCoverageRatios': '7.0067653276956',\n",
       "    'dividendpaidAndCapexCoverageRatios': '7.0067653276956',\n",
       "    'dividendPayoutRatio': ''}}]}"
      ]
     },
     "execution_count": 5,
     "metadata": {},
     "output_type": "execute_result"
    }
   ],
   "source": [
    "fr = fr.json()\n",
    "fr"
   ]
  },
  {
   "cell_type": "code",
   "execution_count": 6,
   "metadata": {},
   "outputs": [
    {
     "data": {
      "text/plain": [
       "'JNJ'"
      ]
     },
     "execution_count": 6,
     "metadata": {},
     "output_type": "execute_result"
    }
   ],
   "source": [
    "fr['symbol']"
   ]
  },
  {
   "cell_type": "code",
   "execution_count": 7,
   "metadata": {},
   "outputs": [
    {
     "data": {
      "text/plain": [
       "11"
      ]
     },
     "execution_count": 7,
     "metadata": {},
     "output_type": "execute_result"
    }
   ],
   "source": [
    "len(fr['ratios'])"
   ]
  },
  {
   "cell_type": "code",
   "execution_count": 8,
   "metadata": {},
   "outputs": [
    {
     "name": "stdout",
     "output_type": "stream",
     "text": [
      "2018-12-31\n",
      "2018-12-30\n",
      "2017-12-31\n",
      "2017-01-01\n",
      "2016-01-03\n",
      "2014-12-28\n",
      "2013-12-29\n",
      "2012-12-30\n",
      "2012-01-01\n",
      "2011-01-02\n",
      "2010-01-03\n"
     ]
    }
   ],
   "source": [
    "for i in range(len(fr['ratios'])):\n",
    "    print(fr['ratios'][i]['date'])"
   ]
  },
  {
   "cell_type": "code",
   "execution_count": 9,
   "metadata": {},
   "outputs": [
    {
     "name": "stdout",
     "output_type": "stream",
     "text": [
      "['2018', '2018', '2017', '2017', '2016', '2014', '2013', '2012', '2012', '2011', '2010']\n"
     ]
    }
   ],
   "source": [
    "\n",
    "years=[]\n",
    "for i in range(len(fr['ratios'])):\n",
    "    years.append(fr['ratios'][i]['date'][0:4])\n",
    "print (years)"
   ]
  },
  {
   "cell_type": "code",
   "execution_count": 10,
   "metadata": {},
   "outputs": [
    {
     "name": "stdout",
     "output_type": "stream",
     "text": [
      "7.341786313630431\n",
      "7.3404778963715644\n",
      "6.7964338781575035\n",
      "15.309611661125928\n",
      "13.84515477307165\n",
      "11.753694231315714\n",
      "10.39655417912573\n",
      "7.6595358297315945\n",
      "11.791301169590643\n",
      "5.7293\n",
      "\n"
     ]
    }
   ],
   "source": [
    "for i in range(len(fr['ratios'])):\n",
    "    print(fr['ratios'][i]['cashFlowIndicatorRatios']['cashPerShare'])"
   ]
  },
  {
   "cell_type": "code",
   "execution_count": 11,
   "metadata": {},
   "outputs": [
    {
     "data": {
      "text/html": [
       "<div>\n",
       "<style scoped>\n",
       "    .dataframe tbody tr th:only-of-type {\n",
       "        vertical-align: middle;\n",
       "    }\n",
       "\n",
       "    .dataframe tbody tr th {\n",
       "        vertical-align: top;\n",
       "    }\n",
       "\n",
       "    .dataframe thead th {\n",
       "        text-align: right;\n",
       "    }\n",
       "</style>\n",
       "<table border=\"1\" class=\"dataframe\">\n",
       "  <thead>\n",
       "    <tr style=\"text-align: right;\">\n",
       "      <th></th>\n",
       "      <th>Year</th>\n",
       "      <th>currentRatio</th>\n",
       "    </tr>\n",
       "  </thead>\n",
       "  <tbody>\n",
       "    <tr>\n",
       "      <th>0</th>\n",
       "      <td>2018</td>\n",
       "      <td>1.473999</td>\n",
       "    </tr>\n",
       "    <tr>\n",
       "      <th>1</th>\n",
       "      <td>2018</td>\n",
       "      <td>1.473999</td>\n",
       "    </tr>\n",
       "    <tr>\n",
       "      <th>2</th>\n",
       "      <td>2017</td>\n",
       "      <td>1.411010</td>\n",
       "    </tr>\n",
       "    <tr>\n",
       "      <th>3</th>\n",
       "      <td>2017</td>\n",
       "      <td>2.473922</td>\n",
       "    </tr>\n",
       "    <tr>\n",
       "      <th>4</th>\n",
       "      <td>2016</td>\n",
       "      <td>2.169964</td>\n",
       "    </tr>\n",
       "    <tr>\n",
       "      <th>5</th>\n",
       "      <td>2014</td>\n",
       "      <td>2.364401</td>\n",
       "    </tr>\n",
       "    <tr>\n",
       "      <th>6</th>\n",
       "      <td>2013</td>\n",
       "      <td>2.196962</td>\n",
       "    </tr>\n",
       "    <tr>\n",
       "      <th>7</th>\n",
       "      <td>2012</td>\n",
       "      <td>1.900750</td>\n",
       "    </tr>\n",
       "    <tr>\n",
       "      <th>8</th>\n",
       "      <td>2012</td>\n",
       "      <td>2.381132</td>\n",
       "    </tr>\n",
       "    <tr>\n",
       "      <th>9</th>\n",
       "      <td>2011</td>\n",
       "      <td>1.820000</td>\n",
       "    </tr>\n",
       "    <tr>\n",
       "      <th>10</th>\n",
       "      <td>2010</td>\n",
       "      <td>1.819567</td>\n",
       "    </tr>\n",
       "  </tbody>\n",
       "</table>\n",
       "</div>"
      ],
      "text/plain": [
       "    Year  currentRatio\n",
       "0   2018      1.473999\n",
       "1   2018      1.473999\n",
       "2   2017      1.411010\n",
       "3   2017      2.473922\n",
       "4   2016      2.169964\n",
       "5   2014      2.364401\n",
       "6   2013      2.196962\n",
       "7   2012      1.900750\n",
       "8   2012      2.381132\n",
       "9   2011      1.820000\n",
       "10  2010      1.819567"
      ]
     },
     "execution_count": 11,
     "metadata": {},
     "output_type": "execute_result"
    }
   ],
   "source": [
    "cat = 'liquidityMeasurementRatios'\n",
    "indicator = 'currentRatio'\n",
    "\n",
    "df = simple_df(cat,indicator)\n",
    "df"
   ]
  },
  {
   "cell_type": "markdown",
   "metadata": {},
   "source": [
    "# Current Ratio of > 2 - \n",
    "\n",
    "- tells how well a company can pay its short term bills"
   ]
  },
  {
   "cell_type": "code",
   "execution_count": 12,
   "metadata": {},
   "outputs": [
    {
     "name": "stdout",
     "output_type": "stream",
     "text": [
      "6.910684318478464\n",
      "6.6283169382738505\n",
      "6.603640416047548\n",
      "5.677492419537501\n",
      "5.7060393967818746\n",
      "5.241901108269395\n",
      "4.919194076605439\n",
      "4.526204917735082\n",
      "4.168494152046784\n",
      "5.148\n",
      "\n"
     ]
    }
   ],
   "source": [
    "for i in range(len(fr['ratios'])):\n",
    "    print(fr['ratios'][i]['cashFlowIndicatorRatios']['freeCashFlowPerShare'])"
   ]
  },
  {
   "cell_type": "code",
   "execution_count": 13,
   "metadata": {},
   "outputs": [
    {
     "name": "stdout",
     "output_type": "stream",
     "text": [
      "8.279321275405557\n",
      "8.277845775249915\n",
      "7.8216939078751855\n",
      "6.856026011032769\n",
      "6.955408038097987\n",
      "6.5611679454390455\n",
      "6.198917841378329\n",
      "5.591835252242763\n",
      "5.225877192982456\n",
      "6.0051\n",
      "\n"
     ]
    }
   ],
   "source": [
    "indicator = 'operatingCashFlowPerShare'\n",
    "\n",
    "for i in range(len(fr['ratios'])):\n",
    "    print(fr['ratios'][i]['cashFlowIndicatorRatios'][indicator])"
   ]
  },
  {
   "cell_type": "markdown",
   "metadata": {},
   "source": [
    "## Free Cash Flow vs. Operating Cash Flow: An Overview\n",
    "\n",
    "- Free cash flow is most commonly defined as operating cash flow minus capital expenditures. \n",
    "- Free cash flow also includes dividend outlays as a capital expenditure. \n",
    "- Capital expenditures are considered necessary to maintain a company's competitive position and operating efficiency.\n",
    "\n",
    "- Operating cash flow should always be higher and maybe less indicative of success - tony\n",
    "\n",
    "### So free cash flow\n",
    " is what is left over after **operating cash flow** pays for capital expenditures - things like land, buildings and machinery\n",
    " \n",
    "## single best predictor of excess return\n"
   ]
  },
  {
   "cell_type": "markdown",
   "metadata": {},
   "source": [
    " 'investmentValuationRatios': {'priceBookValueRatio': '3.346073149216258',\n",
    "    'priceToBookRatio': '3.346073149216258',\n",
    "    'priceToSalesRatio': '1.5019670433431818',\n",
    "    'priceEarningsRatio': '36.99255813953488',\n",
    "    'receivablesTurnover': '5.914429832462619',\n",
    "    'priceToFreeCashFlowsRatio': '15.167972931405721',\n",
    "    'priceToOperatingCashFlowsRatio': '12.518679867986798',\n",
    "    'priceCashFlowRatio': '12.518679867986798',\n",
    "    'priceEarningsToGrowthRatio': '6.591641766222246',\n",
    "    'priceSalesRatio': '1.5019670433431818',\n",
    "    'dividendYield': '0.018900417512656385',\n",
    "    'enterpriseValueMultiple': '17.068873108984253',"
   ]
  },
  {
   "cell_type": "code",
   "execution_count": 39,
   "metadata": {},
   "outputs": [
    {
     "name": "stdout",
     "output_type": "stream",
     "text": [
      "2.4215550640489707\n",
      "2.269897407955639\n",
      "2.3732428767684284\n",
      "2.8130170073030896\n",
      "2.8641335035950255\n",
      "2.5490130449877175\n",
      "2.739933403447951\n",
      "3.4450139956688552\n"
     ]
    }
   ],
   "source": [
    "indicator = 'dividendYield'\n",
    "\n",
    "for i in range(len(fr['ratios'])-3):\n",
    "    yieldr = float(fr['ratios'][i]['investmentValuationRatios'][indicator]) * 100\n",
    "    print(yieldr)\n",
    "    "
   ]
  },
  {
   "cell_type": "code",
   "execution_count": null,
   "metadata": {},
   "outputs": [],
   "source": []
  },
  {
   "cell_type": "code",
   "execution_count": null,
   "metadata": {},
   "outputs": [],
   "source": []
  },
  {
   "cell_type": "code",
   "execution_count": 15,
   "metadata": {},
   "outputs": [],
   "source": [
    "cat = 'investmentValuationRatios'\n",
    "indicator = 'priceEarningsRatio'\n",
    "\n",
    "df = simple_df(cat,indicator)"
   ]
  },
  {
   "cell_type": "code",
   "execution_count": 16,
   "metadata": {},
   "outputs": [
    {
     "data": {
      "text/html": [
       "<div>\n",
       "<style scoped>\n",
       "    .dataframe tbody tr th:only-of-type {\n",
       "        vertical-align: middle;\n",
       "    }\n",
       "\n",
       "    .dataframe tbody tr th {\n",
       "        vertical-align: top;\n",
       "    }\n",
       "\n",
       "    .dataframe thead th {\n",
       "        text-align: right;\n",
       "    }\n",
       "</style>\n",
       "<table border=\"1\" class=\"dataframe\">\n",
       "  <thead>\n",
       "    <tr style=\"text-align: right;\">\n",
       "      <th></th>\n",
       "      <th>Year</th>\n",
       "      <th>priceEarningsRatio</th>\n",
       "    </tr>\n",
       "  </thead>\n",
       "  <tbody>\n",
       "    <tr>\n",
       "      <th>0</th>\n",
       "      <td>2018</td>\n",
       "      <td>25.630000</td>\n",
       "    </tr>\n",
       "    <tr>\n",
       "      <th>1</th>\n",
       "      <td>2018</td>\n",
       "      <td>303.063510</td>\n",
       "    </tr>\n",
       "    <tr>\n",
       "      <th>2</th>\n",
       "      <td>2017</td>\n",
       "      <td>289.866277</td>\n",
       "    </tr>\n",
       "    <tr>\n",
       "      <th>3</th>\n",
       "      <td>2017</td>\n",
       "      <td>18.528906</td>\n",
       "    </tr>\n",
       "    <tr>\n",
       "      <th>4</th>\n",
       "      <td>2016</td>\n",
       "      <td>18.518840</td>\n",
       "    </tr>\n",
       "    <tr>\n",
       "      <th>5</th>\n",
       "      <td>2014</td>\n",
       "      <td>18.669693</td>\n",
       "    </tr>\n",
       "    <tr>\n",
       "      <th>6</th>\n",
       "      <td>2013</td>\n",
       "      <td>19.226294</td>\n",
       "    </tr>\n",
       "    <tr>\n",
       "      <th>7</th>\n",
       "      <td>2012</td>\n",
       "      <td>17.689819</td>\n",
       "    </tr>\n",
       "    <tr>\n",
       "      <th>8</th>\n",
       "      <td>2012</td>\n",
       "      <td>17.954293</td>\n",
       "    </tr>\n",
       "    <tr>\n",
       "      <th>9</th>\n",
       "      <td>2011</td>\n",
       "      <td>12.952600</td>\n",
       "    </tr>\n",
       "    <tr>\n",
       "      <th>10</th>\n",
       "      <td>2010</td>\n",
       "      <td>14.534800</td>\n",
       "    </tr>\n",
       "  </tbody>\n",
       "</table>\n",
       "</div>"
      ],
      "text/plain": [
       "    Year  priceEarningsRatio\n",
       "0   2018           25.630000\n",
       "1   2018          303.063510\n",
       "2   2017          289.866277\n",
       "3   2017           18.528906\n",
       "4   2016           18.518840\n",
       "5   2014           18.669693\n",
       "6   2013           19.226294\n",
       "7   2012           17.689819\n",
       "8   2012           17.954293\n",
       "9   2011           12.952600\n",
       "10  2010           14.534800"
      ]
     },
     "execution_count": 16,
     "metadata": {},
     "output_type": "execute_result"
    }
   ],
   "source": [
    "df"
   ]
  },
  {
   "cell_type": "code",
   "execution_count": 17,
   "metadata": {},
   "outputs": [
    {
     "data": {
      "text/plain": [
       "<matplotlib.axes._subplots.AxesSubplot at 0x7f2b140ea438>"
      ]
     },
     "execution_count": 17,
     "metadata": {},
     "output_type": "execute_result"
    },
    {
     "data": {
      "image/png": "[encoded data removed]",
      "text/plain": [
       "<Figure size 432x288 with 1 Axes>"
      ]
     },
     "metadata": {
      "needs_background": "light"
     },
     "output_type": "display_data"
    }
   ],
   "source": [
    "df.plot.bar(x='Year')"
   ]
  },
  {
   "cell_type": "code",
   "execution_count": 18,
   "metadata": {},
   "outputs": [
    {
     "data": {
      "text/plain": [
       "68.7850030333615"
      ]
     },
     "execution_count": 18,
     "metadata": {},
     "output_type": "execute_result"
    }
   ],
   "source": [
    "df[indicator].mean()"
   ]
  },
  {
   "cell_type": "markdown",
   "metadata": {},
   "source": [
    "# Toss out outliers "
   ]
  },
  {
   "cell_type": "code",
   "execution_count": 19,
   "metadata": {},
   "outputs": [],
   "source": [
    "q_low = df[indicator].quantile(0.01)\n",
    "q_hi  = df[indicator].quantile(0.99)\n",
    "\n",
    "df_filtered = df[(df[indicator] < q_hi) & (df[indicator] > q_low)]"
   ]
  },
  {
   "cell_type": "code",
   "execution_count": 20,
   "metadata": {},
   "outputs": [
    {
     "data": {
      "text/html": [
       "<div>\n",
       "<style scoped>\n",
       "    .dataframe tbody tr th:only-of-type {\n",
       "        vertical-align: middle;\n",
       "    }\n",
       "\n",
       "    .dataframe tbody tr th {\n",
       "        vertical-align: top;\n",
       "    }\n",
       "\n",
       "    .dataframe thead th {\n",
       "        text-align: right;\n",
       "    }\n",
       "</style>\n",
       "<table border=\"1\" class=\"dataframe\">\n",
       "  <thead>\n",
       "    <tr style=\"text-align: right;\">\n",
       "      <th></th>\n",
       "      <th>Year</th>\n",
       "      <th>priceEarningsRatio</th>\n",
       "    </tr>\n",
       "  </thead>\n",
       "  <tbody>\n",
       "    <tr>\n",
       "      <th>0</th>\n",
       "      <td>2018</td>\n",
       "      <td>25.630000</td>\n",
       "    </tr>\n",
       "    <tr>\n",
       "      <th>2</th>\n",
       "      <td>2017</td>\n",
       "      <td>289.866277</td>\n",
       "    </tr>\n",
       "    <tr>\n",
       "      <th>3</th>\n",
       "      <td>2017</td>\n",
       "      <td>18.528906</td>\n",
       "    </tr>\n",
       "    <tr>\n",
       "      <th>4</th>\n",
       "      <td>2016</td>\n",
       "      <td>18.518840</td>\n",
       "    </tr>\n",
       "    <tr>\n",
       "      <th>5</th>\n",
       "      <td>2014</td>\n",
       "      <td>18.669693</td>\n",
       "    </tr>\n",
       "    <tr>\n",
       "      <th>6</th>\n",
       "      <td>2013</td>\n",
       "      <td>19.226294</td>\n",
       "    </tr>\n",
       "    <tr>\n",
       "      <th>7</th>\n",
       "      <td>2012</td>\n",
       "      <td>17.689819</td>\n",
       "    </tr>\n",
       "    <tr>\n",
       "      <th>8</th>\n",
       "      <td>2012</td>\n",
       "      <td>17.954293</td>\n",
       "    </tr>\n",
       "    <tr>\n",
       "      <th>10</th>\n",
       "      <td>2010</td>\n",
       "      <td>14.534800</td>\n",
       "    </tr>\n",
       "  </tbody>\n",
       "</table>\n",
       "</div>"
      ],
      "text/plain": [
       "    Year  priceEarningsRatio\n",
       "0   2018           25.630000\n",
       "2   2017          289.866277\n",
       "3   2017           18.528906\n",
       "4   2016           18.518840\n",
       "5   2014           18.669693\n",
       "6   2013           19.226294\n",
       "7   2012           17.689819\n",
       "8   2012           17.954293\n",
       "10  2010           14.534800"
      ]
     },
     "execution_count": 20,
     "metadata": {},
     "output_type": "execute_result"
    }
   ],
   "source": [
    "df_filtered"
   ]
  },
  {
   "cell_type": "markdown",
   "metadata": {},
   "source": [
    "# Filtered PE - more the norm"
   ]
  },
  {
   "cell_type": "code",
   "execution_count": 21,
   "metadata": {},
   "outputs": [
    {
     "name": "stdout",
     "output_type": "stream",
     "text": [
      "AVG  priceEarningsRatio\n"
     ]
    },
    {
     "data": {
      "text/plain": [
       "48"
      ]
     },
     "execution_count": 21,
     "metadata": {},
     "output_type": "execute_result"
    }
   ],
   "source": [
    "print(\"AVG \",indicator)\n",
    "int(df_filtered[indicator].mean())"
   ]
  },
  {
   "cell_type": "markdown",
   "metadata": {},
   "source": [
    "## Earnings per share is a measure \n",
    "\n",
    "- of how much profit a company has generated. \n",
    "- Companies usually report their earnings per share on a quarterly or yearly basis.\n",
    "\n",
    "\n",
    "- the difference between a company's net income and dividends paid for preferred stock and then dividing that figure by the average number of shares outstanding.\n",
    "\n",
    "\n",
    "### Diluted earnings per share\n",
    "\n",
    "- the diluted earnings-per-share calculation takes all convertible securities into consideration. A company might have convertible preferred shares or stock options that could theoretically become common stock. \n",
    "\n",
    "\n",
    "### Limitations of earnings per share\n",
    "When a company's earnings increase, it's an indication that the company is doing well financially and that it's potentially a worthwhile investment. \n",
    "\n",
    "- But as a measure of a company's financial health, the earnings-per-share calculation has its limitations. \n",
    "    - Because companies have the option to buy back their own shares, they can improve their earnings per share by reducing their number of shares outstanding without actually increasing their net income. \n",
    "    - In this regard, companies can essentially manipulate investors into thinking they're doing better than they actually are. Furthermore, earnings per share does not take factors such as a company's outstanding debt into account.\n",
    "\n",
    "- Finally, earnings per share does not consider the capital needed to generate the earnings in question. \n",
    "    - If two companies report the same earnings per share but one uses less capital to bring in that income\n",
    "\n"
   ]
  },
  {
   "cell_type": "code",
   "execution_count": 27,
   "metadata": {},
   "outputs": [],
   "source": [
    "def func(i):\n",
    "    return float(fr['ratios'][i][cat][indicator])"
   ]
  },
  {
   "cell_type": "code",
   "execution_count": 28,
   "metadata": {},
   "outputs": [
    {
     "name": "stdout",
     "output_type": "stream",
     "text": [
      "[4.805801779826186, 4.829342170923376, 4.929053760627861, 4.263014438725831, 4.072220937865685, 4.099842595955927, 3.7289498541619923, 2.855938489230037]\n"
     ]
    }
   ],
   "source": [
    "cat = 'investmentValuationRatios'\n",
    "indicator = 'priceSalesRatio'\n",
    "\n",
    "r = list(map(func, range(len(fr['ratios'])-3)))\n",
    "print(r)"
   ]
  },
  {
   "cell_type": "code",
   "execution_count": 29,
   "metadata": {},
   "outputs": [
    {
     "data": {
      "text/html": [
       "<div>\n",
       "<style scoped>\n",
       "    .dataframe tbody tr th:only-of-type {\n",
       "        vertical-align: middle;\n",
       "    }\n",
       "\n",
       "    .dataframe tbody tr th {\n",
       "        vertical-align: top;\n",
       "    }\n",
       "\n",
       "    .dataframe thead th {\n",
       "        text-align: right;\n",
       "    }\n",
       "</style>\n",
       "<table border=\"1\" class=\"dataframe\">\n",
       "  <thead>\n",
       "    <tr style=\"text-align: right;\">\n",
       "      <th></th>\n",
       "      <th>Year</th>\n",
       "      <th>priceSalesRatio</th>\n",
       "    </tr>\n",
       "  </thead>\n",
       "  <tbody>\n",
       "    <tr>\n",
       "      <th>0</th>\n",
       "      <td>2018</td>\n",
       "      <td>4.805802</td>\n",
       "    </tr>\n",
       "    <tr>\n",
       "      <th>1</th>\n",
       "      <td>2018</td>\n",
       "      <td>4.829342</td>\n",
       "    </tr>\n",
       "    <tr>\n",
       "      <th>2</th>\n",
       "      <td>2017</td>\n",
       "      <td>4.929054</td>\n",
       "    </tr>\n",
       "    <tr>\n",
       "      <th>3</th>\n",
       "      <td>2017</td>\n",
       "      <td>4.263014</td>\n",
       "    </tr>\n",
       "    <tr>\n",
       "      <th>4</th>\n",
       "      <td>2016</td>\n",
       "      <td>4.072221</td>\n",
       "    </tr>\n",
       "    <tr>\n",
       "      <th>5</th>\n",
       "      <td>2014</td>\n",
       "      <td>4.099843</td>\n",
       "    </tr>\n",
       "    <tr>\n",
       "      <th>6</th>\n",
       "      <td>2013</td>\n",
       "      <td>3.728950</td>\n",
       "    </tr>\n",
       "    <tr>\n",
       "      <th>7</th>\n",
       "      <td>2012</td>\n",
       "      <td>2.855938</td>\n",
       "    </tr>\n",
       "  </tbody>\n",
       "</table>\n",
       "</div>"
      ],
      "text/plain": [
       "   Year  priceSalesRatio\n",
       "0  2018         4.805802\n",
       "1  2018         4.829342\n",
       "2  2017         4.929054\n",
       "3  2017         4.263014\n",
       "4  2016         4.072221\n",
       "5  2014         4.099843\n",
       "6  2013         3.728950\n",
       "7  2012         2.855938"
      ]
     },
     "execution_count": 29,
     "metadata": {},
     "output_type": "execute_result"
    }
   ],
   "source": [
    "df = make_df(years,r,indicator)\n",
    "df"
   ]
  },
  {
   "cell_type": "code",
   "execution_count": 30,
   "metadata": {},
   "outputs": [
    {
     "data": {
      "text/plain": [
       "<matplotlib.axes._subplots.AxesSubplot at 0x7f2b12b19710>"
      ]
     },
     "execution_count": 30,
     "metadata": {},
     "output_type": "execute_result"
    },
    {
     "data": {
      "image/png": "[encoded data removed]",
      "text/plain": [
       "<Figure size 432x288 with 1 Axes>"
      ]
     },
     "metadata": {
      "needs_background": "light"
     },
     "output_type": "display_data"
    }
   ],
   "source": [
    "df.plot.bar(x='Year')"
   ]
  },
  {
   "cell_type": "code",
   "execution_count": 31,
   "metadata": {},
   "outputs": [
    {
     "name": "stdout",
     "output_type": "stream",
     "text": [
      "so below this the stock may be a value\n",
      "AVG  priceSalesRatio\n"
     ]
    },
    {
     "data": {
      "text/plain": [
       "4.198020503414612"
      ]
     },
     "execution_count": 31,
     "metadata": {},
     "output_type": "execute_result"
    }
   ],
   "source": [
    "# Price to Sales is harder to manipulate - \n",
    "\n",
    "avgr=df[indicator].mean()\n",
    "print( \"so below this the stock may be a value\")\n",
    "print(\"AVG \",indicator)\n",
    "df[indicator].mean()\n",
    "\n",
    "\n"
   ]
  },
  {
   "cell_type": "markdown",
   "metadata": {},
   "source": [
    "# macrotrends pretty cool\n",
    "https://www.macrotrends.net/stocks/charts/JNJ"
   ]
  },
  {
   "cell_type": "markdown",
   "metadata": {},
   "source": [
    "profitabilityIndicatorRatios': {'niperEBT': '0.6852850374880849',\n",
    "    'ebtperEBIT': '0.8889183976730216',\n",
    "    'ebitperRevenue': '0.10813344423942998',\n",
    "    'grossProfitMargin': '0.34745437345747704',\n",
    "    'operatingProfitMargin': '0.10813344423942998',\n",
    "    'pretaxProfitMargin': '0.09612180798817914',\n",
    "    'netProfitMargin': '0.06587083679060184',"
   ]
  },
  {
   "cell_type": "code",
   "execution_count": null,
   "metadata": {},
   "outputs": [],
   "source": [
    "cat = 'profitabilityIndicatorRatios'\n",
    "indicator = 'netProfitMargin'\n",
    "\n",
    "for i in range(len(fr['ratios'])):\n",
    "    yieldr = float(fr['ratios'][i][cat][indicator]) * 100\n",
    "    print(yieldr)"
   ]
  },
  {
   "cell_type": "code",
   "execution_count": null,
   "metadata": {},
   "outputs": [],
   "source": []
  },
  {
   "cell_type": "markdown",
   "metadata": {},
   "source": [
    "# What Is Net Profit Margin?\n",
    "\n",
    "The net profit margin is equal to how much net income or profit is generated as a percentage of revenue. \n",
    "\n",
    "- Net profit margin is the ratio of net profits to revenues for a company or business segment. \n",
    "\n",
    "The net profit margin illustrates how much of each dollar in revenue collected by a company translates into profit.\n"
   ]
  },
  {
   "cell_type": "code",
   "execution_count": null,
   "metadata": {},
   "outputs": [],
   "source": [
    "cat = 'profitabilityIndicatorRatios'\n",
    "indicator = 'operatingProfitMargin'\n",
    "\n",
    "for i in range(len(fr['ratios'])):\n",
    "    yieldr = float(fr['ratios'][i][cat][indicator]) * 100\n",
    "    print(yieldr)"
   ]
  },
  {
   "cell_type": "code",
   "execution_count": null,
   "metadata": {},
   "outputs": [],
   "source": [
    "def func(i):\n",
    "    return float(fr['ratios'][i][cat][indicator]) * 100\n",
    "r = list(map(func, range(len(fr['ratios']))))\n",
    "print(r)\n",
    "                            "
   ]
  },
  {
   "cell_type": "code",
   "execution_count": null,
   "metadata": {},
   "outputs": [],
   "source": [
    "\n",
    "# import pandas as pd \n",
    "import pandas as pd \n",
    "  \n",
    "# list of strings \n",
    "lst = ['Geeks', 'For', 'Geeks', 'is', 'portal', 'for', 'Geeks'] \n",
    "  \n",
    "# list of int \n",
    "lst2 = [11, 22, 33, 44, 55, 66, 77] \n",
    "  \n",
    "# Calling DataFrame constructor after zipping \n",
    "# both lists, with columns specified \n",
    "df = pd.DataFrame(list(zip(lst, lst2)), \n",
    "               columns =['Name', 'val']) \n",
    "df \n"
   ]
  },
  {
   "cell_type": "code",
   "execution_count": null,
   "metadata": {},
   "outputs": [],
   "source": [
    "def func(i):\n",
    "    return float(fr['ratios'][i][cat][indicator]) * 100\n",
    "r = list(map(func, range(len(fr['ratios']))))\n",
    "print(r)\n",
    "\n",
    "years=[]\n",
    "for i in range(len(fr['ratios'])):\n",
    "    years.append(fr['ratios'][i]['date'][0:4])\n",
    "print (years)"
   ]
  },
  {
   "cell_type": "code",
   "execution_count": null,
   "metadata": {},
   "outputs": [],
   "source": [
    "df = pd.DataFrame(list(zip(years, r)), \n",
    "               columns =['Year', 'operatingProfitMargin']) \n",
    "df \n"
   ]
  },
  {
   "cell_type": "markdown",
   "metadata": {},
   "source": [
    "# avg operating profit margin for s&p is 10\n",
    "\n"
   ]
  },
  {
   "cell_type": "code",
   "execution_count": null,
   "metadata": {},
   "outputs": [],
   "source": [
    "df.plot.bar(x='Year')"
   ]
  },
  {
   "cell_type": "code",
   "execution_count": null,
   "metadata": {},
   "outputs": [],
   "source": [
    "#priceToFreeCashFlowsRatio\n",
    "\n",
    "def func(i):\n",
    "    return float(fr['ratios'][i][cat][indicator])\n",
    "\n",
    "\n",
    "r = list(map(func, range(len(fr['ratios']))))\n",
    "print(r)\n",
    "\n",
    "\n"
   ]
  },
  {
   "cell_type": "code",
   "execution_count": null,
   "metadata": {},
   "outputs": [],
   "source": [
    "cat = 'investmentValuationRatios'\n",
    "indicator = 'priceToFreeCashFlowsRatio'\n",
    "\n",
    "def func(i):\n",
    "    return float(fr['ratios'][i][cat][indicator])\n",
    "r = list(map(func, range(len(fr['ratios']))))\n",
    "print(r)\n",
    "\n",
    "df = make_df(years,r,indicator)"
   ]
  },
  {
   "cell_type": "code",
   "execution_count": null,
   "metadata": {},
   "outputs": [],
   "source": [
    "df"
   ]
  },
  {
   "cell_type": "code",
   "execution_count": null,
   "metadata": {},
   "outputs": [],
   "source": [
    "def simple_df(cat, indicator):\n",
    "    def func(i):\n",
    "        return float(fr['ratios'][i][cat][indicator])\n",
    "    r = list(map(func, range(len(fr['ratios']))))\n",
    "\n",
    "    df = make_df(years,r,indicator)\n",
    "    return df"
   ]
  },
  {
   "cell_type": "code",
   "execution_count": null,
   "metadata": {},
   "outputs": [],
   "source": [
    "my_df = simple_df(cat, indicator)"
   ]
  },
  {
   "cell_type": "code",
   "execution_count": null,
   "metadata": {},
   "outputs": [],
   "source": [
    "my_df.plot.bar(x='Year')"
   ]
  },
  {
   "cell_type": "markdown",
   "metadata": {},
   "source": [
    "https://www.macrotrends.net/stocks/charts/CR/crane/price-fcf"
   ]
  },
  {
   "cell_type": "markdown",
   "metadata": {},
   "source": [
    "https://www.macrotrends.net/stocks/charts/CR/crane/total-assets\n",
    "\n",
    "https://www.macrotrends.net/stocks/charts/CR/crane/net-worth"
   ]
  },
  {
   "cell_type": "code",
   "execution_count": null,
   "metadata": {},
   "outputs": [],
   "source": [
    " #Price to FCF is harder to manipulate - \n",
    "\n",
    "avgr=df[indicator].mean()\n",
    "print( \"so below this the stock may be a value\")\n",
    "print(\"AVG \",indicator)\n",
    "my_df[indicator].mean()"
   ]
  },
  {
   "cell_type": "code",
   "execution_count": null,
   "metadata": {},
   "outputs": [],
   "source": [
    "def toss_outliers(df):\n",
    "    q_low = df[indicator].quantile(0.01)\n",
    "    q_hi  = df[indicator].quantile(0.99)\n",
    "\n",
    "    df_filtered = df[(df[indicator] < q_hi) & (df[indicator] > q_low)]\n",
    "    return df_filtered"
   ]
  },
  {
   "cell_type": "code",
   "execution_count": null,
   "metadata": {},
   "outputs": [],
   "source": [
    "my_df=toss_outliers(my_df)\n",
    "avgr=df[indicator].mean()\n",
    "print( \"so below this the stock may be a value\")\n",
    "print(\"AVG \",indicator)\n",
    "my_df[indicator].mean()"
   ]
  },
  {
   "cell_type": "markdown",
   "metadata": {},
   "source": [
    "profitabilityIndicatorRatios': {'niperEBT': '0.7809021675454013',\n",
    "    'ebtperEBIT': '0.8113117870722434',\n",
    "    'ebitperRevenue': '0.06408577259297615',\n",
    "    'grossProfitMargin': '0.3591118150528464',\n",
    "    'operatingProfitMargin': '0.06408577259297615',\n",
    "    'pretaxProfitMargin': '0.051993542688312876',\n",
    "    'netProfitMargin': '0.04060187018366788',\n",
    "    'effectiveTaxRate': '0.2173403632103105',cat = 'investmentValuationRatios'\n",
    "indicator = 'priceToFreeCashFlowsRatio'\n",
    "\n",
    "    'returnOnAssets': '0.030133146461107218',\n",
    "    'returnOnEquity': '0.09045260229354686',"
   ]
  },
  {
   "cell_type": "code",
   "execution_count": null,
   "metadata": {},
   "outputs": [],
   "source": [
    "cat = 'profitabilityIndicatorRatios'\n",
    "indicator = 'returnOnEquity'\n",
    "\n",
    "my_df = simple_df(cat, indicator)\n",
    "\n",
    "my_df.plot.bar(x='Year')\n"
   ]
  },
  {
   "cell_type": "markdown",
   "metadata": {},
   "source": [
    "# ROE\n",
    "\n",
    "some people consider this the ultimate measure of a stocks success"
   ]
  },
  {
   "cell_type": "markdown",
   "metadata": {},
   "source": [
    "|market cap | measure|\n",
    "\n",
    "| Market Cap | Measure |\n",
    "| ------ | ----------- |\n",
    "| Gigantic  | > $25 Billion |\n",
    "| Large | 5 to 25 Billion |\n",
    "| Medium | 1 to 5 Billion |\n",
    "| Small | up to 1 Billion |\n",
    "| Micro | up to 250 Million|"
   ]
  },
  {
   "cell_type": "markdown",
   "metadata": {},
   "source": [
    "https://www.macrotrends.net/stocks/charts/CR/crane/net-worth\n",
    "\n",
    "on March 24, 2020 fell to 2.2 Billion from 5.2 Billion just months earlier\n",
    "    \n",
    "https://www.macrotrends.net/stocks/charts/AAPL/apple/net-worth\n",
    "\n",
    "https://www.macrotrends.net/stocks/charts/AAPL/apple/net-worth\n",
    "\n",
    "1.3 Trillion to 1.0 Trillion"
   ]
  },
  {
   "cell_type": "markdown",
   "metadata": {},
   "source": [
    "# Buying what the headlines tell you\n",
    "\n",
    "## **Doesn't WORK**\n",
    "\n",
    "### *Nobody Ever knows what THE MARKET will do*!!!\n",
    "\n",
    "### Every STock has\n",
    "\n",
    "1. A business Valuation\n",
    "2. A market valuation\n",
    "\n",
    "### Graham\n",
    "1. price to book near 1\n",
    "2. PE lower - less than 15 - oversimplification?"
   ]
  },
  {
   "cell_type": "markdown",
   "metadata": {},
   "source": [
    "A few superior companies are better than a slew of mediocre ones - Fischer"
   ]
  },
  {
   "cell_type": "code",
   "execution_count": null,
   "metadata": {},
   "outputs": [],
   "source": []
  }
 ],
 "metadata": {
  "kernelspec": {
   "display_name": "Python 3",
   "language": "python",
   "name": "python3"
  },
  "language_info": {
   "codemirror_mode": {
    "name": "ipython",
    "version": 3
   },
   "file_extension": ".py",
   "mimetype": "text/x-python",
   "name": "python",
   "nbconvert_exporter": "python",
   "pygments_lexer": "ipython3",
   "version": "3.7.3"
  }
 },
 "nbformat": 4,
 "nbformat_minor": 4
}
