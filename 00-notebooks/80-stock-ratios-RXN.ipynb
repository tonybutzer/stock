{
 "cells": [
  {
   "cell_type": "code",
   "execution_count": 1,
   "metadata": {},
   "outputs": [],
   "source": [
    "import pandas as pd\n",
    "import requests\n",
    "import json"
   ]
  },
  {
   "cell_type": "code",
   "execution_count": 2,
   "metadata": {},
   "outputs": [],
   "source": [
    "symbol = 'RXN'\n",
    "#symbol = 'F'\n",
    "url = 'https://financialmodelingprep.com/api/v3/financial-ratios/' + symbol\n",
    "fr = requests.get(url)"
   ]
  },
  {
   "cell_type": "code",
   "execution_count": 45,
   "metadata": {},
   "outputs": [],
   "source": [
    "def simple_df(cat, indicator):\n",
    "    def func(i):\n",
    "        return float(fr['ratios'][i][cat][indicator])\n",
    "    r = list(map(func, range(len(fr['ratios']))))\n",
    "\n",
    "    df = make_df(years,r,indicator)\n",
    "    return df"
   ]
  },
  {
   "cell_type": "code",
   "execution_count": 3,
   "metadata": {},
   "outputs": [
    {
     "data": {
      "text/plain": [
       "{'symbol': 'RXN',\n",
       " 'ratios': [{'date': '2019-03-31',\n",
       "   'investmentValuationRatios': {'priceBookValueRatio': '2.3098134461989255',\n",
       "    'priceToBookRatio': '2.3098134461989255',\n",
       "    'priceToSalesRatio': '1.3837031547125653',\n",
       "    'priceEarningsRatio': '82.7357667638484',\n",
       "    'receivablesTurnover': '6.13490876458271',\n",
       "    'priceToFreeCashFlowsRatio': '13.162508348794063',\n",
       "    'priceToOperatingCashFlowsRatio': '10.995105772956219',\n",
       "    'priceCashFlowRatio': '10.995105772956219',\n",
       "    'priceEarningsToGrowthRatio': '114.0641717281831',\n",
       "    'priceSalesRatio': '1.3837031547125653',\n",
       "    'dividendYield': '0.008175241085040549',\n",
       "    'enterpriseValueMultiple': '9.47255082623936',\n",
       "    'priceFairValue': '2.3098134461989255'},\n",
       "   'profitabilityIndicatorRatios': {'niperEBT': '0.14363484087102177',\n",
       "    'ebtperEBIT': '0.7814136125654451',\n",
       "    'ebitperRevenue': '0.14900775269393923',\n",
       "    'grossProfitMargin': '0.3826612706616607',\n",
       "    'operatingProfitMargin': '0.14900775269393923',\n",
       "    'pretaxProfitMargin': '0.11643668633282948',\n",
       "    'netProfitMargin': '0.01672436491296504',\n",
       "    'effectiveTaxRate': '0.2236180904522613',\n",
       "    'returnOnAssets': '0.010522440715403258',\n",
       "    'returnOnEquity': '0.02791795539638613',\n",
       "    'returnOnCapitalEmployed': '0.10675236664687184',\n",
       "    'nIperEBT': '0.14363484087102177',\n",
       "    'eBTperEBIT': '0.7814136125654451',\n",
       "    'eBITperRevenue': '0.14900775269393923'},\n",
       "   'operatingPerformanceRatios': {'receivablesTurnover': '6.13490876458271',\n",
       "    'payablesTurnover': '6.6045905059989565',\n",
       "    'inventoryTurnover': '4.000315955766193',\n",
       "    'fixedAssetTurnover': '5.3548302872062665',\n",
       "    'assetTurnover': '0.6291683283737767'},\n",
       "   'liquidityMeasurementRatios': {'currentRatio': '2.4758186397984887',\n",
       "    'quickRatio': '1.587153652392947',\n",
       "    'cashRatio': '0.7367758186397985',\n",
       "    'daysOfSalesOutstanding': '59.49558730313521',\n",
       "    'daysOfInventoryOutstanding': '91.24279282837058',\n",
       "    'operatingCycle': '150.73838013150578',\n",
       "    'daysOfPayablesOutstanding': '55.2645920543401',\n",
       "    'cashConversionCycle': '4.230995248795111'},\n",
       "   'debtRatios': {'debtRatio': '0.6230941497683836',\n",
       "    'debtEquityRatio': '1.653182484128276',\n",
       "    'longtermDebtToCapitalization': '0.501663016143425',\n",
       "    'totalDebtToCapitalization': '1.2368000000004866E9',\n",
       "    'interestCoverage': '4.371959942775393',\n",
       "    'cashFlowToDebtRatio': '0.20848142164781908',\n",
       "    'companyEquityMultiplier': '2.6531824841282763'},\n",
       "   'cashFlowIndicatorRatios': {'operatingCashFlowPerShare': '2.466551987767584',\n",
       "    'freeCashFlowPerShare': '2.0603975535168195',\n",
       "    'cashPerShare': '2.8268348623853212',\n",
       "    'payoutRatio': '0.6763848396501457',\n",
       "    'receivablesTurnover': '6.13490876458271',\n",
       "    'operatingCashFlowSalesRatio': '0.1258471890389585',\n",
       "    'freeCashFlowOperatingCashFlowRatio': '0.835335141418055',\n",
       "    'cashFlowCoverageRatios': '0.20848142164781908',\n",
       "    'shortTermCoverageRatios': '215.08333333333334',\n",
       "    'capitalExpenditureCoverageRatios': '6.0729411764705885',\n",
       "    'dividendpaidAndCapexCoverageRatios': '3.928462709284627',\n",
       "    'dividendPayoutRatio': '0.6763848396501458'}},\n",
       "  {'date': '2018-03-31',\n",
       "   'investmentValuationRatios': {'priceBookValueRatio': '2.4252474560897173',\n",
       "    'priceToBookRatio': '2.4252474560897173',\n",
       "    'priceToSalesRatio': '1.423570953533398',\n",
       "    'priceEarningsRatio': '38.74963886693017',\n",
       "    'receivablesTurnover': '5.535905680600214',\n",
       "    'priceToFreeCashFlowsRatio': '15.66079653887114',\n",
       "    'priceToOperatingCashFlowsRatio': '12.871324245076588',\n",
       "    'priceCashFlowRatio': '12.871324245076588',\n",
       "    'priceEarningsToGrowthRatio': '53.0390149176088',\n",
       "    'priceSalesRatio': '1.423570953533398',\n",
       "    'dividendYield': '0.007888211557101035',\n",
       "    'enterpriseValueMultiple': '17.090480058651025',\n",
       "    'priceFairValue': '2.4252474560897173'},\n",
       "   'profitabilityIndicatorRatios': {'niperEBT': '1.343362831858407',\n",
       "    'ebtperEBIT': '0.3840924541128484',\n",
       "    'ebitperRevenue': '0.07120038722168441',\n",
       "    'grossProfitMargin': '0.3663601161665053',\n",
       "    'operatingProfitMargin': '0.07120038722168441',\n",
       "    'pretaxProfitMargin': '0.02734753146176186',\n",
       "    'netProfitMargin': '0.03673765730880929',\n",
       "    'effectiveTaxRate': '-0.34513274336283184',\n",
       "    'returnOnAssets': '0.02216899845196717',\n",
       "    'returnOnEquity': '0.06258761441411725',\n",
       "    'returnOnCapitalEmployed': '0.04953695908402088',\n",
       "    'nIperEBT': '1.343362831858407',\n",
       "    'eBTperEBIT': '0.3840924541128484',\n",
       "    'eBITperRevenue': '0.07120038722168441'},\n",
       "   'operatingPerformanceRatios': {'receivablesTurnover': '5.535905680600214',\n",
       "    'payablesTurnover': '5.792477876106195',\n",
       "    'inventoryTurnover': '3.79669373549884',\n",
       "    'fixedAssetTurnover': '4.526730937773882',\n",
       "    'assetTurnover': '0.6034407220258784'},\n",
       "   'liquidityMeasurementRatios': {'currentRatio': '2.1966094231616027',\n",
       "    'quickRatio': '1.3428005284015851',\n",
       "    'cashRatio': '0.47908410391897843',\n",
       "    'daysOfSalesOutstanding': '65.93320425943853',\n",
       "    'daysOfInventoryOutstanding': '96.1362768314109',\n",
       "    'operatingCycle': '162.06948109084942',\n",
       "    'daysOfPayablesOutstanding': '63.01275685585517',\n",
       "    'cashConversionCycle': '2.9204474035833528'},\n",
       "   'debtRatios': {'debtRatio': '0.6457925636007827',\n",
       "    'debtEquityRatio': '1.8232044198895028',\n",
       "    'longtermDebtToCapitalization': '0.5271756082345602',\n",
       "    'totalDebtToCapitalization': '1.3521000000015182E9',\n",
       "    'interestCoverage': '1.9457671957671958',\n",
       "    'cashFlowToDebtRatio': '0.16851032448377581',\n",
       "    'companyEquityMultiplier': '2.8232044198895028'},\n",
       "   'cashFlowIndicatorRatios': {'operatingCashFlowPerShare': '2.1994628882749856',\n",
       "    'freeCashFlowPerShare': '1.80769860139187',\n",
       "    'cashPerShare': '2.2783932851408717',\n",
       "    'payoutRatio': '0.30566534914361',\n",
       "    'receivablesTurnover': '5.535905680600214',\n",
       "    'operatingCashFlowSalesRatio': '0.11060019361084221',\n",
       "    'freeCashFlowOperatingCashFlowRatio': '0.8218818380743983',\n",
       "    'cashFlowCoverageRatios': '0.16851032448377581',\n",
       "    'shortTermCoverageRatios': '58.58974358974359',\n",
       "    'capitalExpenditureCoverageRatios': '5.614250614250614',\n",
       "    'dividendpaidAndCapexCoverageRatios': '3.575899843505477',\n",
       "    'dividendPayoutRatio': '0.30566534914361'}},\n",
       "  {'date': '2017-03-31',\n",
       "   'investmentValuationRatios': {'priceBookValueRatio': '2.2122703624135998',\n",
       "    'priceToBookRatio': '2.2122703624135998',\n",
       "    'priceToSalesRatio': '1.2347287300594307',\n",
       "    'priceEarningsRatio': '31.962977732793522',\n",
       "    'receivablesTurnover': '5.940538866522143',\n",
       "    'priceToFreeCashFlowsRatio': '16.845353129445236',\n",
       "    'priceToOperatingCashFlowsRatio': '12.13970604818042',\n",
       "    'priceCashFlowRatio': '12.13970604818042',\n",
       "    'priceEarningsToGrowthRatio': '43.27130238442336',\n",
       "    'priceSalesRatio': '1.2347287300594307',\n",
       "    'dividendYield': '0.0018577498557974452',\n",
       "    'enterpriseValueMultiple': '12.010485934819897',\n",
       "    'priceFairValue': '2.2122703624135998'},\n",
       "   'profitabilityIndicatorRatios': {'niperEBT': '0.9036585365853659',\n",
       "    'ebtperEBIT': '0.4463799673380512',\n",
       "    'ebitperRevenue': '0.09576686476905433',\n",
       "    'grossProfitMargin': '0.348243144614743',\n",
       "    'operatingProfitMargin': '0.09576686476905433',\n",
       "    'pretaxProfitMargin': '0.04274840996767803',\n",
       "    'netProfitMargin': '0.0386299655927432',\n",
       "    'effectiveTaxRate': '0.09634146341463415',\n",
       "    'returnOnAssets': '0.020936343344729182',\n",
       "    'returnOnEquity': '0.06921352512609752',\n",
       "    'returnOnCapitalEmployed': '0.05852182223638101',\n",
       "    'nIperEBT': '0.9036585365853659',\n",
       "    'eBTperEBIT': '0.4463799673380512',\n",
       "    'eBITperRevenue': '0.09576686476905433'},\n",
       "   'operatingPerformanceRatios': {'receivablesTurnover': '5.940538866522143',\n",
       "    'payablesTurnover': '6.320525783619818',\n",
       "    'inventoryTurnover': '3.970149253731343',\n",
       "    'fixedAssetTurnover': '4.784734347717635',\n",
       "    'assetTurnover': '0.5419715763003984'},\n",
       "   'liquidityMeasurementRatios': {'currentRatio': '2.943042717961529',\n",
       "    'quickRatio': '2.030976767424432',\n",
       "    'cashRatio': '1.22433175118661',\n",
       "    'daysOfSalesOutstanding': '61.442237514336355',\n",
       "    'daysOfInventoryOutstanding': '91.9360902255639',\n",
       "    'operatingCycle': '153.37832773990027',\n",
       "    'daysOfPayablesOutstanding': '57.74836026235802',\n",
       "    'cashConversionCycle': '3.6938772519783356'},\n",
       "   'debtRatios': {'debtRatio': '0.6975108072217671',\n",
       "    'debtEquityRatio': '2.3059032318326174',\n",
       "    'longtermDebtToCapitalization': '0.6000448296473401',\n",
       "    'totalDebtToCapitalization': '1.6062000000061264E9',\n",
       "    'interestCoverage': '2.0710259301014657',\n",
       "    'cashFlowToDebtRatio': '0.12023171257780242',\n",
       "    'companyEquityMultiplier': '3.3059032318326174'},\n",
       "   'cashFlowIndicatorRatios': {'operatingCashFlowPerShare': '1.89872801767345',\n",
       "    'freeCashFlowPerShare': '1.3683298784463713',\n",
       "    'cashPerShare': '4.769690422664058',\n",
       "    'payoutRatio': '0.059379217273954114',\n",
       "    'receivablesTurnover': '5.940538866522143',\n",
       "    'operatingCashFlowSalesRatio': '0.10170993639870712',\n",
       "    'freeCashFlowOperatingCashFlowRatio': '0.7206560738083034',\n",
       "    'cashFlowCoverageRatios': '0.12023171257780242',\n",
       "    'shortTermCoverageRatios': '11.824242424242424',\n",
       "    'capitalExpenditureCoverageRatios': '3.5798165137614677',\n",
       "    'dividendpaidAndCapexCoverageRatios': '3.3123938879456705',\n",
       "    'dividendPayoutRatio': '0.05937921727395412'}},\n",
       "  {'date': '2016-03-31',\n",
       "   'investmentValuationRatios': {'priceBookValueRatio': '3.2020358307849137',\n",
       "    'priceToBookRatio': '3.2020358307849137',\n",
       "    'priceToSalesRatio': '0.9796851491839069',\n",
       "    'priceEarningsRatio': '27.75726494845361',\n",
       "    'receivablesTurnover': '6.057304785894207',\n",
       "    'priceToFreeCashFlowsRatio': '11.292500239664472',\n",
       "    'priceToOperatingCashFlowsRatio': '8.606019589041097',\n",
       "    'priceCashFlowRatio': '8.606019589041097',\n",
       "    'priceEarningsToGrowthRatio': '36.87839729469052',\n",
       "    'priceSalesRatio': '0.9796851491839069',\n",
       "    'dividendYield': '-0',\n",
       "    'enterpriseValueMultiple': '11.382304730887899',\n",
       "    'priceFairValue': '3.2020358307849137'},\n",
       "   'profitabilityIndicatorRatios': {'niperEBT': '0.7895348837209303',\n",
       "    'ebtperEBIT': '0.4934021801491681',\n",
       "    'ebitperRevenue': '0.09060193367293898',\n",
       "    'grossProfitMargin': '0.34577398898014344',\n",
       "    'operatingProfitMargin': '0.09060193367293898',\n",
       "    'pretaxProfitMargin': '0.04470319159995841',\n",
       "    'netProfitMargin': '0.03529472918182763',\n",
       "    'effectiveTaxRate': '0.19883720930232557',\n",
       "    'returnOnAssets': '0.02023965661142244',\n",
       "    'returnOnEquity': '0.11535847774379884',\n",
       "    'returnOnCapitalEmployed': '0.05907673535791757',\n",
       "    'nIperEBT': '0.7895348837209303',\n",
       "    'eBTperEBIT': '0.4934021801491681',\n",
       "    'eBITperRevenue': '0.09060193367293898'},\n",
       "   'operatingPerformanceRatios': {'receivablesTurnover': '6.057304785894207',\n",
       "    'payablesTurnover': '6.26792828685259',\n",
       "    'inventoryTurnover': '3.8465770171149143',\n",
       "    'fixedAssetTurnover': '4.843403826787513',\n",
       "    'assetTurnover': '0.5734470013115536'},\n",
       "   'liquidityMeasurementRatios': {'currentRatio': '2.908259149357072',\n",
       "    'quickRatio': '1.9836795252225519',\n",
       "    'cashRatio': '1.198318496538081',\n",
       "    'daysOfSalesOutstanding': '60.25782305853',\n",
       "    'daysOfInventoryOutstanding': '94.88955982838074',\n",
       "    'operatingCycle': '155.14738288691075',\n",
       "    'daysOfPayablesOutstanding': '58.23295725409184',\n",
       "    'cashConversionCycle': '2.024865804438157'},\n",
       "   'debtRatios': {'debtRatio': '0.8245498986526768',\n",
       "    'debtEquityRatio': '4.699626231736324',\n",
       "    'longtermDebtToCapitalization': '0.7634719710669078',\n",
       "    'totalDebtToCapitalization': '1.8999000000080519E9',\n",
       "    'interestCoverage': '1.9070021881838075',\n",
       "    'cashFlowToDebtRatio': '0.11405655955418989',\n",
       "    'companyEquityMultiplier': '5.699626231736324'},\n",
       "   'cashFlowIndicatorRatios': {'operatingCashFlowPerShare': '2.171735702739957',\n",
       "    'freeCashFlowPerShare': '1.6550807707182595',\n",
       "    'cashPerShare': '4.805585029898553',\n",
       "    'payoutRatio': '0.0',\n",
       "    'receivablesTurnover': '6.057304785894207',\n",
       "    'operatingCashFlowSalesRatio': '0.1138371972138476',\n",
       "    'freeCashFlowOperatingCashFlowRatio': '0.7621004566210046',\n",
       "    'cashFlowCoverageRatios': '0.11405655955418989',\n",
       "    'shortTermCoverageRatios': '10.841584158415841',\n",
       "    'capitalExpenditureCoverageRatios': '4.203454894433781',\n",
       "    'dividendpaidAndCapexCoverageRatios': '4.7300215982721',\n",
       "    'dividendPayoutRatio': '-0'}},\n",
       "  {'date': '2015-03-31',\n",
       "   'investmentValuationRatios': {'priceBookValueRatio': '5.160052450714415',\n",
       "    'priceToBookRatio': '5.160052450714415',\n",
       "    'priceToSalesRatio': '1.3915681396936883',\n",
       "    'priceEarningsRatio': '34.04526252983294',\n",
       "    'receivablesTurnover': '6.101785714285715',\n",
       "    'priceToFreeCashFlowsRatio': '14.474850329781837',\n",
       "    'priceToOperatingCashFlowsRatio': '11.602248881659213',\n",
       "    'priceCashFlowRatio': '11.602248881659213',\n",
       "    'priceEarningsToGrowthRatio': '45.54170625367507',\n",
       "    'priceSalesRatio': '1.3915681396936883',\n",
       "    'dividendYield': '-0',\n",
       "    'enterpriseValueMultiple': '13.940858490566038',\n",
       "    'priceFairValue': '5.160052450714415'},\n",
       "   'profitabilityIndicatorRatios': {'niperEBT': '0.7716390423572744',\n",
       "    'ebtperEBIT': '0.5331369661266568',\n",
       "    'ebitperRevenue': '0.0993561603745976',\n",
       "    'grossProfitMargin': '0.3639644912691445',\n",
       "    'operatingProfitMargin': '0.0993561603745976',\n",
       "    'pretaxProfitMargin': '0.05297044190810653',\n",
       "    'netProfitMargin': '0.040874061067212954',\n",
       "    'effectiveTaxRate': '0.15469613259668508',\n",
       "    'returnOnAssets': '0.024556776556776558',\n",
       "    'returnOnEquity': '0.15156447820582383',\n",
       "    'returnOnCapitalEmployed': '0.06863438795107651',\n",
       "    'nIperEBT': '0.7716390423572744',\n",
       "    'eBTperEBIT': '0.5331369661266568',\n",
       "    'eBITperRevenue': '0.0993561603745976'},\n",
       "   'operatingPerformanceRatios': {'receivablesTurnover': '6.101785714285715',\n",
       "    'payablesTurnover': '5.570269115762494',\n",
       "    'inventoryTurnover': '3.5463693228175144',\n",
       "    'fixedAssetTurnover': '4.9094827586206895',\n",
       "    'assetTurnover': '0.6007912087912088'},\n",
       "   'liquidityMeasurementRatios': {'currentRatio': '2.533288349077823',\n",
       "    'quickRatio': '1.5944669365721997',\n",
       "    'cashRatio': '0.8328834907782277',\n",
       "    'daysOfSalesOutstanding': '59.8185542873866',\n",
       "    'daysOfInventoryOutstanding': '102.92216257668711',\n",
       "    'operatingCycle': '162.7407168640737',\n",
       "    'daysOfPayablesOutstanding': '65.52645705521472',\n",
       "    'cashConversionCycle': '-5.707902767828124'},\n",
       "   'debtRatios': {'debtRatio': '0.837978021978022',\n",
       "    'debtEquityRatio': '5.172002170374389',\n",
       "    'longtermDebtToCapitalization': '0.7769755153079747',\n",
       "    'totalDebtToCapitalization': '1.9262000000097067E9',\n",
       "    'interestCoverage': '2.31740614334471',\n",
       "    'cashFlowToDebtRatio': '0.12607023840041015',\n",
       "    'companyEquityMultiplier': '6.172002170374389'},\n",
       "   'cashFlowIndicatorRatios': {'operatingCashFlowPerShare': '2.4219442529301682',\n",
       "    'freeCashFlowPerShare': '1.9412981384812371',\n",
       "    'cashPerShare': '3.672806067172264',\n",
       "    'payoutRatio': '0.0',\n",
       "    'receivablesTurnover': '6.101785714285715',\n",
       "    'operatingCashFlowSalesRatio': '0.11993951809579553',\n",
       "    'freeCashFlowOperatingCashFlowRatio': '0.8015453436356242',\n",
       "    'cashFlowCoverageRatios': '0.12607023840041015',\n",
       "    'shortTermCoverageRatios': '10.119341563786008',\n",
       "    'capitalExpenditureCoverageRatios': '5.038934426229508',\n",
       "    'dividendpaidAndCapexCoverageRatios': '5.0910973084886',\n",
       "    'dividendPayoutRatio': '-0'}},\n",
       "  {'date': '2014-03-31',\n",
       "   'investmentValuationRatios': {'priceBookValueRatio': '5.089316823759559',\n",
       "    'priceToBookRatio': '5.089316823759559',\n",
       "    'priceToSalesRatio': '1.374506652257445',\n",
       "    'priceEarningsRatio': '94.75903476821193',\n",
       "    'receivablesTurnover': '5.653000271517785',\n",
       "    'priceToFreeCashFlowsRatio': '20.64735101010101',\n",
       "    'priceToOperatingCashFlowsRatio': '14.99854743186583',\n",
       "    'priceCashFlowRatio': '14.99854743186583',\n",
       "    'priceEarningsToGrowthRatio': '122.4813584444721',\n",
       "    'priceSalesRatio': '1.374506652257445',\n",
       "    'dividendYield': '',\n",
       "    'enterpriseValueMultiple': '11.504281673918607',\n",
       "    'priceFairValue': '5.089316823759559'},\n",
       "   'profitabilityIndicatorRatios': {'niperEBT': '-1.6777777777777778',\n",
       "    'ebtperEBIT': '-0.06437768240343347',\n",
       "    'ebitperRevenue': '0.13429394812680115',\n",
       "    'grossProfitMargin': '0.36676272814601346',\n",
       "    'operatingProfitMargin': '0.13429394812680115',\n",
       "    'pretaxProfitMargin': '-0.008645533141210375',\n",
       "    'netProfitMargin': '0.014505283381364073',\n",
       "    'effectiveTaxRate': '0.4111111111111111',\n",
       "    'returnOnAssets': '0.008925668686271612',\n",
       "    'returnOnEquity': '0.05370798506135515',\n",
       "    'returnOnCapitalEmployed': '0.09529652351738241',\n",
       "    'nIperEBT': '-1.6777777777777778',\n",
       "    'eBTperEBIT': '-0.06437768240343347',\n",
       "    'eBITperRevenue': '0.13429394812680115'},\n",
       "   'operatingPerformanceRatios': {'receivablesTurnover': '5.653000271517785',\n",
       "    'payablesTurnover': '5.468270427208627',\n",
       "    'inventoryTurnover': '3.6652766194050597',\n",
       "    'fixedAssetTurnover': '4.722159219777727',\n",
       "    'assetTurnover': '0.615339145854884'},\n",
       "   'liquidityMeasurementRatios': {'currentRatio': '2.493437152391546',\n",
       "    'quickRatio': '1.5735261401557286',\n",
       "    'cashRatio': '0.7541713014460512',\n",
       "    'daysOfSalesOutstanding': '64.56748318924112',\n",
       "    'daysOfInventoryOutstanding': '99.58320691747572',\n",
       "    'operatingCycle': '164.15069010671684',\n",
       "    'daysOfPayablesOutstanding': '66.74871055825243',\n",
       "    'cashConversionCycle': '-2.18122736901131'},\n",
       "   'debtRatios': {'debtRatio': '0.8338111423082607',\n",
       "    'debtEquityRatio': '5.017250577983283',\n",
       "    'longtermDebtToCapitalization': '0.7755558216580849',\n",
       "    'totalDebtToCapitalization': '1.943000000011443E9',\n",
       "    'interestCoverage': '2.5627864344637947',\n",
       "    'cashFlowToDebtRatio': '0.09675456389452333',\n",
       "    'companyEquityMultiplier': '6.017250577983283'},\n",
       "   'cashFlowIndicatorRatios': {'operatingCashFlowPerShare': '1.944855002293461',\n",
       "    'freeCashFlowPerShare': '1.4127720299678916',\n",
       "    'cashPerShare': '3.4554813719993884',\n",
       "    'payoutRatio': '0.0',\n",
       "    'receivablesTurnover': '5.653000271517785',\n",
       "    'operatingCashFlowSalesRatio': '0.09164265129682997',\n",
       "    'freeCashFlowOperatingCashFlowRatio': '0.7264150943396226',\n",
       "    'cashFlowCoverageRatios': '0.09675456389452333',\n",
       "    'shortTermCoverageRatios': '6.5793103448275865',\n",
       "    'capitalExpenditureCoverageRatios': '3.6551724137931036',\n",
       "    'dividendpaidAndCapexCoverageRatios': '3.6833976833977',\n",
       "    'dividendPayoutRatio': '-0'}},\n",
       "  {'date': '2013-03-31',\n",
       "   'investmentValuationRatios': {'priceBookValueRatio': '4.5466315052508754',\n",
       "    'priceToBookRatio': '4.5466315052508754',\n",
       "    'priceToSalesRatio': '0.9716381227868935',\n",
       "    'priceEarningsRatio': '38.886858283433135',\n",
       "    'receivablesTurnover': '5.722317351598173',\n",
       "    'priceToFreeCashFlowsRatio': '23.08331279620853',\n",
       "    'priceToOperatingCashFlowsRatio': '13.482571626297577',\n",
       "    'priceCashFlowRatio': '13.482571626297577',\n",
       "    'priceEarningsToGrowthRatio': '49.17061348060138',\n",
       "    'priceSalesRatio': '0.9716381227868935',\n",
       "    'dividendYield': '',\n",
       "    'enterpriseValueMultiple': '9.566132902878666',\n",
       "    'priceFairValue': '4.5466315052508754'},\n",
       "   'profitabilityIndicatorRatios': {'niperEBT': '1.3012987012987014',\n",
       "    'ebtperEBIT': '0.15074393108848866',\n",
       "    'ebitperRevenue': '0.12737519325719415',\n",
       "    'grossProfitMargin': '0.36476983691586456',\n",
       "    'operatingProfitMargin': '0.12737519325719415',\n",
       "    'pretaxProfitMargin': '0.0192010373547454',\n",
       "    'netProfitMargin': '0.024986284973318038',\n",
       "    'effectiveTaxRate': '0.5272727272727272',\n",
       "    'returnOnAssets': '0.014422246531176233',\n",
       "    'returnOnEquity': '0.11691948658109685',\n",
       "    'returnOnCapitalEmployed': '0.08912618648799553',\n",
       "    'nIperEBT': '1.3012987012987014',\n",
       "    'eBTperEBIT': '0.15074393108848866',\n",
       "    'eBITperRevenue': '0.12737519325719415'},\n",
       "   'operatingPerformanceRatios': {'receivablesTurnover': '5.722317351598173',\n",
       "    'payablesTurnover': '6.114738358137302',\n",
       "    'inventoryTurnover': '3.904659717964439',\n",
       "    'fixedAssetTurnover': '4.882152422692963',\n",
       "    'assetTurnover': '0.5772065173585122'},\n",
       "   'liquidityMeasurementRatios': {'currentRatio': '2.050476816836567',\n",
       "    'quickRatio': '1.4378493916474844',\n",
       "    'cashRatio': '0.8617231173955936',\n",
       "    'daysOfSalesOutstanding': '63.78534736422124',\n",
       "    'daysOfInventoryOutstanding': '93.47805605715631',\n",
       "    'operatingCycle': '157.26340342137755',\n",
       "    'daysOfPayablesOutstanding': '59.69184266310748',\n",
       "    'cashConversionCycle': '4.093504701113758'},\n",
       "   'debtRatios': {'debtRatio': '0.8766480511255685',\n",
       "    'debtEquityRatio': '7.106884480746791',\n",
       "    'longtermDebtToCapitalization': '0.8207712899447883',\n",
       "    'totalDebtToCapitalization': '1.9623000000661302E9',\n",
       "    'interestCoverage': '1.6660143509458578',\n",
       "    'cashFlowToDebtRatio': '0.0677894539313192',\n",
       "    'companyEquityMultiplier': '8.10688448074679'},\n",
       "   'cashFlowIndicatorRatios': {'operatingCashFlowPerShare': '1.5056474805151503',\n",
       "    'freeCashFlowPerShare': '0.8794231650898179',\n",
       "    'cashPerShare': '5.460967782269829',\n",
       "    'payoutRatio': '0.0',\n",
       "    'receivablesTurnover': '5.722317351598173',\n",
       "    'operatingCashFlowSalesRatio': '0.0720662311106678',\n",
       "    'freeCashFlowOperatingCashFlowRatio': '0.5840830449826989',\n",
       "    'cashFlowCoverageRatios': '0.0677894539313192',\n",
       "    'shortTermCoverageRatios': '0.8535144713526285',\n",
       "    'capitalExpenditureCoverageRatios': '2.40432612312812',\n",
       "    'dividendpaidAndCapexCoverageRatios': '2.7059925093633',\n",
       "    'dividendPayoutRatio': '-0'}},\n",
       "  {'date': '2012-03-31',\n",
       "   'investmentValuationRatios': {'priceBookValueRatio': '-16.70863579474343',\n",
       "    'priceToBookRatio': '-16.70863579474343',\n",
       "    'priceToSalesRatio': '0.6778127538586515',\n",
       "    'priceEarningsRatio': '44.6494983277592',\n",
       "    'receivablesTurnover': '5.7590643274853806',\n",
       "    'priceToFreeCashFlowsRatio': '16.52252475247525',\n",
       "    'priceToOperatingCashFlowsRatio': '9.583776022972003',\n",
       "    'priceCashFlowRatio': '9.583776022972003',\n",
       "    'priceEarningsToGrowthRatio': '39.26743956358701',\n",
       "    'priceSalesRatio': '0.6778127538586515',\n",
       "    'dividendYield': '',\n",
       "    'enterpriseValueMultiple': '9.507472527472528',\n",
       "    'priceFairValue': '-16.70863579474343'},\n",
       "   'profitabilityIndicatorRatios': {'niperEBT': '0.7222222222222222',\n",
       "    'ebtperEBIT': '0.17121588089330025',\n",
       "    'ebitperRevenue': '0.12276604386677498',\n",
       "    'grossProfitMargin': '0.3521019496344435',\n",
       "    'operatingProfitMargin': '0.12276604386677498',\n",
       "    'pretaxProfitMargin': '0.02101949634443542',\n",
       "    'netProfitMargin': '0.015180747359870024',\n",
       "    'effectiveTaxRate': '0.2777777777777778',\n",
       "    'returnOnAssets': '0.009085660457625573',\n",
       "    'returnOnEquity': '-0.3742177722152691',\n",
       "    'returnOnCapitalEmployed': '0.0856353591160221',\n",
       "    'nIperEBT': '0.7222222222222222',\n",
       "    'eBTperEBIT': '0.17121588089330025',\n",
       "    'eBITperRevenue': '0.12276604386677498'},\n",
       "   'operatingPerformanceRatios': {'receivablesTurnover': '5.7590643274853806',\n",
       "    'payablesTurnover': '5.78467815049864',\n",
       "    'inventoryTurnover': '3.9532218091697646',\n",
       "    'fixedAssetTurnover': '4.698473282442748',\n",
       "    'assetTurnover': '0.598498890880914'},\n",
       "   'liquidityMeasurementRatios': {'currentRatio': '2.1791140594906913',\n",
       "    'quickRatio': '1.3695698694628717',\n",
       "    'cashRatio': '0.6377059704686497',\n",
       "    'daysOfSalesOutstanding': '63.37835093419984',\n",
       "    'daysOfInventoryOutstanding': '92.32975472141682',\n",
       "    'operatingCycle': '155.70810565561666',\n",
       "    'daysOfPayablesOutstanding': '63.09771961445028',\n",
       "    'cashConversionCycle': '0.2806313197495598'},\n",
       "   'debtRatios': {'debtRatio': '1.024279072594123',\n",
       "    'debtEquityRatio': '-42.187734668335416',\n",
       "    'longtermDebtToCapitalization': '1.0342404113991859',\n",
       "    'totalDebtToCapitalization': '2.4134000000043945E9',\n",
       "    'interestCoverage': '1.3723041997729852',\n",
       "    'cashFlowToDebtRatio': '0.057474109832074925',\n",
       "    'companyEquityMultiplier': '-41.187734668335416'},\n",
       "   'cashFlowIndicatorRatios': {'operatingCashFlowPerShare': '2.0868601219457386',\n",
       "    'freeCashFlowPerShare': '1.2104687570223667',\n",
       "    'cashPerShare': '4.46435259396863',\n",
       "    'payoutRatio': '0.0',\n",
       "    'receivablesTurnover': '5.7590643274853806',\n",
       "    'operatingCashFlowSalesRatio': '0.07072502030869213',\n",
       "    'freeCashFlowOperatingCashFlowRatio': '0.5800430725053841',\n",
       "    'cashFlowCoverageRatios': '0.057474109832074925',\n",
       "    'shortTermCoverageRatios': '13.524271844660195',\n",
       "    'capitalExpenditureCoverageRatios': '2.381196581196581',\n",
       "    'dividendpaidAndCapexCoverageRatios': '2.6332703213611',\n",
       "    'dividendPayoutRatio': '-0'}},\n",
       "  {'date': '2011-03-31',\n",
       "   'investmentValuationRatios': {'priceBookValueRatio': '0.0',\n",
       "    'priceToBookRatio': '0.0',\n",
       "    'priceToSalesRatio': '0.9807',\n",
       "    'priceEarningsRatio': '55.5556',\n",
       "    'receivablesTurnover': '',\n",
       "    'priceToFreeCashFlowsRatio': '13.701',\n",
       "    'priceToOperatingCashFlowsRatio': '12.1755',\n",
       "    'priceCashFlowRatio': '0',\n",
       "    'priceEarningsToGrowthRatio': '',\n",
       "    'priceSalesRatio': '0',\n",
       "    'dividendYield': '',\n",
       "    'enterpriseValueMultiple': '11.549289520426',\n",
       "    'priceFairValue': ''},\n",
       "   'profitabilityIndicatorRatios': {'niperEBT': '',\n",
       "    'ebtperEBIT': '-0.51550712489522',\n",
       "    'ebitperRevenue': '0.071228133022867',\n",
       "    'grossProfitMargin': '0.3537524628336',\n",
       "    'operatingProfitMargin': '1',\n",
       "    'pretaxProfitMargin': '0.12967938384381',\n",
       "    'netProfitMargin': '-0.030628694250403',\n",
       "    'effectiveTaxRate': '',\n",
       "    'returnOnAssets': '-0.0609',\n",
       "    'returnOnEquity': '0.5816',\n",
       "    'returnOnCapitalEmployed': '0.0586',\n",
       "    'nIperEBT': '',\n",
       "    'eBTperEBIT': '-0.51550712489522',\n",
       "    'eBITperRevenue': '0.071228133022867'},\n",
       "   'operatingPerformanceRatios': {'receivablesTurnover': '',\n",
       "    'payablesTurnover': '',\n",
       "    'inventoryTurnover': '',\n",
       "    'fixedAssetTurnover': '4.6732700892857',\n",
       "    'assetTurnover': '0.54034261380134'},\n",
       "   'liquidityMeasurementRatios': {'currentRatio': '1.971',\n",
       "    'quickRatio': '1.32804339092',\n",
       "    'cashRatio': '0.78545600642828',\n",
       "    'daysOfSalesOutstanding': '-95.7012',\n",
       "    'daysOfInventoryOutstanding': '58.8611',\n",
       "    'operatingCycle': '',\n",
       "    'daysOfPayablesOutstanding': '39.5967',\n",
       "    'cashConversionCycle': ''},\n",
       "   'debtRatios': {'debtRatio': '0.7466',\n",
       "    'debtEquityRatio': '-26.237',\n",
       "    'longtermDebtToCapitalization': '1.0415704387991',\n",
       "    'totalDebtToCapitalization': '1.0396244215823',\n",
       "    'interestCoverage': '0.6598',\n",
       "    'cashFlowToDebtRatio': '0.071085951341774',\n",
       "    'companyEquityMultiplier': ''},\n",
       "   'cashFlowIndicatorRatios': {'operatingCashFlowPerShare': '2.4642',\n",
       "    'freeCashFlowPerShare': '2.0',\n",
       "    'cashPerShare': '5.8571',\n",
       "    'payoutRatio': '0.0',\n",
       "    'receivablesTurnover': '',\n",
       "    'operatingCashFlowSalesRatio': '0.098214818795152',\n",
       "    'freeCashFlowOperatingCashFlowRatio': '0.77142857142857',\n",
       "    'cashFlowCoverageRatios': '0.071085951341774',\n",
       "    'shortTermCoverageRatios': '1.5786948176583',\n",
       "    'capitalExpenditureCoverageRatios': '4.375',\n",
       "    'dividendpaidAndCapexCoverageRatios': '4.375',\n",
       "    'dividendPayoutRatio': ''}}]}"
      ]
     },
     "execution_count": 3,
     "metadata": {},
     "output_type": "execute_result"
    }
   ],
   "source": [
    "fr = fr.json()\n",
    "fr"
   ]
  },
  {
   "cell_type": "code",
   "execution_count": 4,
   "metadata": {},
   "outputs": [
    {
     "data": {
      "text/plain": [
       "'RXN'"
      ]
     },
     "execution_count": 4,
     "metadata": {},
     "output_type": "execute_result"
    }
   ],
   "source": [
    "fr['symbol']"
   ]
  },
  {
   "cell_type": "code",
   "execution_count": 5,
   "metadata": {},
   "outputs": [
    {
     "data": {
      "text/plain": [
       "9"
      ]
     },
     "execution_count": 5,
     "metadata": {},
     "output_type": "execute_result"
    }
   ],
   "source": [
    "len(fr['ratios'])"
   ]
  },
  {
   "cell_type": "code",
   "execution_count": 6,
   "metadata": {},
   "outputs": [
    {
     "name": "stdout",
     "output_type": "stream",
     "text": [
      "2019-03-31\n",
      "2018-03-31\n",
      "2017-03-31\n",
      "2016-03-31\n",
      "2015-03-31\n",
      "2014-03-31\n",
      "2013-03-31\n",
      "2012-03-31\n",
      "2011-03-31\n"
     ]
    }
   ],
   "source": [
    "for i in range(len(fr['ratios'])):\n",
    "    print(fr['ratios'][i]['date'])"
   ]
  },
  {
   "cell_type": "code",
   "execution_count": 7,
   "metadata": {},
   "outputs": [
    {
     "name": "stdout",
     "output_type": "stream",
     "text": [
      "['2019', '2018', '2017', '2016', '2015', '2014', '2013', '2012', '2011']\n"
     ]
    }
   ],
   "source": [
    "\n",
    "years=[]\n",
    "for i in range(len(fr['ratios'])):\n",
    "    years.append(fr['ratios'][i]['date'][0:4])\n",
    "print (years)"
   ]
  },
  {
   "cell_type": "code",
   "execution_count": 8,
   "metadata": {},
   "outputs": [
    {
     "name": "stdout",
     "output_type": "stream",
     "text": [
      "2.8268348623853212\n",
      "2.2783932851408717\n",
      "4.769690422664058\n",
      "4.805585029898553\n",
      "3.672806067172264\n",
      "3.4554813719993884\n",
      "5.460967782269829\n",
      "4.46435259396863\n",
      "5.8571\n"
     ]
    }
   ],
   "source": [
    "for i in range(len(fr['ratios'])):\n",
    "    print(fr['ratios'][i]['cashFlowIndicatorRatios']['cashPerShare'])"
   ]
  },
  {
   "cell_type": "code",
   "execution_count": 47,
   "metadata": {},
   "outputs": [
    {
     "data": {
      "text/html": [
       "<div>\n",
       "<style scoped>\n",
       "    .dataframe tbody tr th:only-of-type {\n",
       "        vertical-align: middle;\n",
       "    }\n",
       "\n",
       "    .dataframe tbody tr th {\n",
       "        vertical-align: top;\n",
       "    }\n",
       "\n",
       "    .dataframe thead th {\n",
       "        text-align: right;\n",
       "    }\n",
       "</style>\n",
       "<table border=\"1\" class=\"dataframe\">\n",
       "  <thead>\n",
       "    <tr style=\"text-align: right;\">\n",
       "      <th></th>\n",
       "      <th>Year</th>\n",
       "      <th>currentRatio</th>\n",
       "    </tr>\n",
       "  </thead>\n",
       "  <tbody>\n",
       "    <tr>\n",
       "      <th>0</th>\n",
       "      <td>2019</td>\n",
       "      <td>2.475819</td>\n",
       "    </tr>\n",
       "    <tr>\n",
       "      <th>1</th>\n",
       "      <td>2018</td>\n",
       "      <td>2.196609</td>\n",
       "    </tr>\n",
       "    <tr>\n",
       "      <th>2</th>\n",
       "      <td>2017</td>\n",
       "      <td>2.943043</td>\n",
       "    </tr>\n",
       "    <tr>\n",
       "      <th>3</th>\n",
       "      <td>2016</td>\n",
       "      <td>2.908259</td>\n",
       "    </tr>\n",
       "    <tr>\n",
       "      <th>4</th>\n",
       "      <td>2015</td>\n",
       "      <td>2.533288</td>\n",
       "    </tr>\n",
       "    <tr>\n",
       "      <th>5</th>\n",
       "      <td>2014</td>\n",
       "      <td>2.493437</td>\n",
       "    </tr>\n",
       "    <tr>\n",
       "      <th>6</th>\n",
       "      <td>2013</td>\n",
       "      <td>2.050477</td>\n",
       "    </tr>\n",
       "    <tr>\n",
       "      <th>7</th>\n",
       "      <td>2012</td>\n",
       "      <td>2.179114</td>\n",
       "    </tr>\n",
       "    <tr>\n",
       "      <th>8</th>\n",
       "      <td>2011</td>\n",
       "      <td>1.971000</td>\n",
       "    </tr>\n",
       "  </tbody>\n",
       "</table>\n",
       "</div>"
      ],
      "text/plain": [
       "   Year  currentRatio\n",
       "0  2019      2.475819\n",
       "1  2018      2.196609\n",
       "2  2017      2.943043\n",
       "3  2016      2.908259\n",
       "4  2015      2.533288\n",
       "5  2014      2.493437\n",
       "6  2013      2.050477\n",
       "7  2012      2.179114\n",
       "8  2011      1.971000"
      ]
     },
     "execution_count": 47,
     "metadata": {},
     "output_type": "execute_result"
    }
   ],
   "source": [
    "cat = 'liquidityMeasurementRatios'\n",
    "indicator = 'currentRatio'\n",
    "\n",
    "df = simple_df(cat,indicator)\n",
    "df"
   ]
  },
  {
   "cell_type": "markdown",
   "metadata": {},
   "source": [
    "# Current Ratio of > 2 - \n",
    "\n",
    "- tells how well a company can pay its short term bills"
   ]
  },
  {
   "cell_type": "code",
   "execution_count": 10,
   "metadata": {},
   "outputs": [
    {
     "name": "stdout",
     "output_type": "stream",
     "text": [
      "2.0603975535168195\n",
      "1.80769860139187\n",
      "1.3683298784463713\n",
      "1.6550807707182595\n",
      "1.9412981384812371\n",
      "1.4127720299678916\n",
      "0.8794231650898179\n",
      "1.2104687570223667\n",
      "2.0\n"
     ]
    }
   ],
   "source": [
    "for i in range(len(fr['ratios'])):\n",
    "    print(fr['ratios'][i]['cashFlowIndicatorRatios']['freeCashFlowPerShare'])"
   ]
  },
  {
   "cell_type": "code",
   "execution_count": 11,
   "metadata": {},
   "outputs": [
    {
     "name": "stdout",
     "output_type": "stream",
     "text": [
      "2.466551987767584\n",
      "2.1994628882749856\n",
      "1.89872801767345\n",
      "2.171735702739957\n",
      "2.4219442529301682\n",
      "1.944855002293461\n",
      "1.5056474805151503\n",
      "2.0868601219457386\n",
      "2.4642\n"
     ]
    }
   ],
   "source": [
    "indicator = 'operatingCashFlowPerShare'\n",
    "\n",
    "for i in range(len(fr['ratios'])):\n",
    "    print(fr['ratios'][i]['cashFlowIndicatorRatios'][indicator])"
   ]
  },
  {
   "cell_type": "markdown",
   "metadata": {},
   "source": [
    "## Free Cash Flow vs. Operating Cash Flow: An Overview\n",
    "\n",
    "- Free cash flow is most commonly defined as operating cash flow minus capital expenditures. \n",
    "- Free cash flow also includes dividend outlays as a capital expenditure. \n",
    "- Capital expenditures are considered necessary to maintain a company's competitive position and operating efficiency.\n",
    "\n",
    "- Operating cash flow should always be higher and maybe less indicative of success - tony\n",
    "\n",
    "### So free cash flow\n",
    " is what is left over after **operating cash flow** pays for capital expenditures - things like land, buildings and machinery\n",
    " \n",
    "## single best predictor of excess return\n"
   ]
  },
  {
   "cell_type": "markdown",
   "metadata": {},
   "source": [
    " 'investmentValuationRatios': {'priceBookValueRatio': '3.346073149216258',\n",
    "    'priceToBookRatio': '3.346073149216258',\n",
    "    'priceToSalesRatio': '1.5019670433431818',\n",
    "    'priceEarningsRatio': '36.99255813953488',\n",
    "    'receivablesTurnover': '5.914429832462619',\n",
    "    'priceToFreeCashFlowsRatio': '15.167972931405721',\n",
    "    'priceToOperatingCashFlowsRatio': '12.518679867986798',\n",
    "    'priceCashFlowRatio': '12.518679867986798',\n",
    "    'priceEarningsToGrowthRatio': '6.591641766222246',\n",
    "    'priceSalesRatio': '1.5019670433431818',\n",
    "    'dividendYield': '0.018900417512656385',\n",
    "    'enterpriseValueMultiple': '17.068873108984253',"
   ]
  },
  {
   "cell_type": "code",
   "execution_count": 12,
   "metadata": {},
   "outputs": [
    {
     "name": "stdout",
     "output_type": "stream",
     "text": [
      "0.008175241085040549\n",
      "0.007888211557101035\n",
      "0.0018577498557974452\n",
      "-0\n",
      "-0\n",
      "\n",
      "\n",
      "\n",
      "\n"
     ]
    }
   ],
   "source": [
    "indicator = 'dividendYield'\n",
    "\n",
    "for i in range(len(fr['ratios'])):\n",
    "    yieldr = (fr['ratios'][i]['investmentValuationRatios'][indicator])\n",
    "    print(yieldr)"
   ]
  },
  {
   "cell_type": "code",
   "execution_count": null,
   "metadata": {},
   "outputs": [],
   "source": []
  },
  {
   "cell_type": "code",
   "execution_count": 13,
   "metadata": {},
   "outputs": [],
   "source": [
    "def make_df(list1, list2, cat):\n",
    "    df = pd.DataFrame(list(zip(list1, list2)), \n",
    "               columns =['Year', cat]) \n",
    "    return df"
   ]
  },
  {
   "cell_type": "code",
   "execution_count": 42,
   "metadata": {},
   "outputs": [],
   "source": [
    "cat = 'investmentValuationRatios'\n",
    "indicator = 'priceEarningsRatio'\n",
    "\n",
    "df = simple_df(cat,indicator)"
   ]
  },
  {
   "cell_type": "code",
   "execution_count": 43,
   "metadata": {},
   "outputs": [
    {
     "data": {
      "text/html": [
       "<div>\n",
       "<style scoped>\n",
       "    .dataframe tbody tr th:only-of-type {\n",
       "        vertical-align: middle;\n",
       "    }\n",
       "\n",
       "    .dataframe tbody tr th {\n",
       "        vertical-align: top;\n",
       "    }\n",
       "\n",
       "    .dataframe thead th {\n",
       "        text-align: right;\n",
       "    }\n",
       "</style>\n",
       "<table border=\"1\" class=\"dataframe\">\n",
       "  <thead>\n",
       "    <tr style=\"text-align: right;\">\n",
       "      <th></th>\n",
       "      <th>Year</th>\n",
       "      <th>priceEarningsRatio</th>\n",
       "    </tr>\n",
       "  </thead>\n",
       "  <tbody>\n",
       "    <tr>\n",
       "      <th>0</th>\n",
       "      <td>2019</td>\n",
       "      <td>82.735767</td>\n",
       "    </tr>\n",
       "    <tr>\n",
       "      <th>1</th>\n",
       "      <td>2018</td>\n",
       "      <td>38.749639</td>\n",
       "    </tr>\n",
       "    <tr>\n",
       "      <th>2</th>\n",
       "      <td>2017</td>\n",
       "      <td>31.962978</td>\n",
       "    </tr>\n",
       "    <tr>\n",
       "      <th>3</th>\n",
       "      <td>2016</td>\n",
       "      <td>27.757265</td>\n",
       "    </tr>\n",
       "    <tr>\n",
       "      <th>4</th>\n",
       "      <td>2015</td>\n",
       "      <td>34.045263</td>\n",
       "    </tr>\n",
       "    <tr>\n",
       "      <th>5</th>\n",
       "      <td>2014</td>\n",
       "      <td>94.759035</td>\n",
       "    </tr>\n",
       "    <tr>\n",
       "      <th>6</th>\n",
       "      <td>2013</td>\n",
       "      <td>38.886858</td>\n",
       "    </tr>\n",
       "    <tr>\n",
       "      <th>7</th>\n",
       "      <td>2012</td>\n",
       "      <td>44.649498</td>\n",
       "    </tr>\n",
       "    <tr>\n",
       "      <th>8</th>\n",
       "      <td>2011</td>\n",
       "      <td>55.555600</td>\n",
       "    </tr>\n",
       "  </tbody>\n",
       "</table>\n",
       "</div>"
      ],
      "text/plain": [
       "   Year  priceEarningsRatio\n",
       "0  2019           82.735767\n",
       "1  2018           38.749639\n",
       "2  2017           31.962978\n",
       "3  2016           27.757265\n",
       "4  2015           34.045263\n",
       "5  2014           94.759035\n",
       "6  2013           38.886858\n",
       "7  2012           44.649498\n",
       "8  2011           55.555600"
      ]
     },
     "execution_count": 43,
     "metadata": {},
     "output_type": "execute_result"
    }
   ],
   "source": [
    "df"
   ]
  },
  {
   "cell_type": "code",
   "execution_count": 44,
   "metadata": {},
   "outputs": [
    {
     "data": {
      "text/plain": [
       "<matplotlib.axes._subplots.AxesSubplot at 0x7fdc1f92c630>"
      ]
     },
     "execution_count": 44,
     "metadata": {},
     "output_type": "execute_result"
    },
    {
     "data": {
      "image/png": "[encoded data removed]",
      "text/plain": [
       "<Figure size 432x288 with 1 Axes>"
      ]
     },
     "metadata": {
      "needs_background": "light"
     },
     "output_type": "display_data"
    }
   ],
   "source": [
    "df.plot.bar(x='Year')"
   ]
  },
  {
   "cell_type": "code",
   "execution_count": 17,
   "metadata": {},
   "outputs": [
    {
     "data": {
      "text/plain": [
       "49.900211357918096"
      ]
     },
     "execution_count": 17,
     "metadata": {},
     "output_type": "execute_result"
    }
   ],
   "source": [
    "df[indicator].mean()"
   ]
  },
  {
   "cell_type": "markdown",
   "metadata": {},
   "source": [
    "# Toss out outliers "
   ]
  },
  {
   "cell_type": "code",
   "execution_count": 18,
   "metadata": {},
   "outputs": [],
   "source": [
    "q_low = df[indicator].quantile(0.01)\n",
    "q_hi  = df[indicator].quantile(0.99)\n",
    "\n",
    "df_filtered = df[(df[indicator] < q_hi) & (df[indicator] > q_low)]"
   ]
  },
  {
   "cell_type": "code",
   "execution_count": 19,
   "metadata": {},
   "outputs": [
    {
     "data": {
      "text/html": [
       "<div>\n",
       "<style scoped>\n",
       "    .dataframe tbody tr th:only-of-type {\n",
       "        vertical-align: middle;\n",
       "    }\n",
       "\n",
       "    .dataframe tbody tr th {\n",
       "        vertical-align: top;\n",
       "    }\n",
       "\n",
       "    .dataframe thead th {\n",
       "        text-align: right;\n",
       "    }\n",
       "</style>\n",
       "<table border=\"1\" class=\"dataframe\">\n",
       "  <thead>\n",
       "    <tr style=\"text-align: right;\">\n",
       "      <th></th>\n",
       "      <th>Year</th>\n",
       "      <th>priceEarningsRatio</th>\n",
       "    </tr>\n",
       "  </thead>\n",
       "  <tbody>\n",
       "    <tr>\n",
       "      <th>0</th>\n",
       "      <td>2019</td>\n",
       "      <td>82.735767</td>\n",
       "    </tr>\n",
       "    <tr>\n",
       "      <th>1</th>\n",
       "      <td>2018</td>\n",
       "      <td>38.749639</td>\n",
       "    </tr>\n",
       "    <tr>\n",
       "      <th>2</th>\n",
       "      <td>2017</td>\n",
       "      <td>31.962978</td>\n",
       "    </tr>\n",
       "    <tr>\n",
       "      <th>4</th>\n",
       "      <td>2015</td>\n",
       "      <td>34.045263</td>\n",
       "    </tr>\n",
       "    <tr>\n",
       "      <th>6</th>\n",
       "      <td>2013</td>\n",
       "      <td>38.886858</td>\n",
       "    </tr>\n",
       "    <tr>\n",
       "      <th>7</th>\n",
       "      <td>2012</td>\n",
       "      <td>44.649498</td>\n",
       "    </tr>\n",
       "    <tr>\n",
       "      <th>8</th>\n",
       "      <td>2011</td>\n",
       "      <td>55.555600</td>\n",
       "    </tr>\n",
       "  </tbody>\n",
       "</table>\n",
       "</div>"
      ],
      "text/plain": [
       "   Year  priceEarningsRatio\n",
       "0  2019           82.735767\n",
       "1  2018           38.749639\n",
       "2  2017           31.962978\n",
       "4  2015           34.045263\n",
       "6  2013           38.886858\n",
       "7  2012           44.649498\n",
       "8  2011           55.555600"
      ]
     },
     "execution_count": 19,
     "metadata": {},
     "output_type": "execute_result"
    }
   ],
   "source": [
    "df_filtered"
   ]
  },
  {
   "cell_type": "markdown",
   "metadata": {},
   "source": [
    "# Filtered PE - more the norm"
   ]
  },
  {
   "cell_type": "code",
   "execution_count": 20,
   "metadata": {},
   "outputs": [
    {
     "name": "stdout",
     "output_type": "stream",
     "text": [
      "AVG  priceEarningsRatio\n"
     ]
    },
    {
     "data": {
      "text/plain": [
       "46"
      ]
     },
     "execution_count": 20,
     "metadata": {},
     "output_type": "execute_result"
    }
   ],
   "source": [
    "print(\"AVG \",indicator)\n",
    "int(df_filtered[indicator].mean())"
   ]
  },
  {
   "cell_type": "markdown",
   "metadata": {},
   "source": [
    "## Earnings per share is a measure \n",
    "\n",
    "- of how much profit a company has generated. \n",
    "- Companies usually report their earnings per share on a quarterly or yearly basis.\n",
    "\n",
    "\n",
    "- the difference between a company's net income and dividends paid for preferred stock and then dividing that figure by the average number of shares outstanding.\n",
    "\n",
    "\n",
    "### Diluted earnings per share\n",
    "\n",
    "- the diluted earnings-per-share calculation takes all convertible securities into consideration. A company might have convertible preferred shares or stock options that could theoretically become common stock. \n",
    "\n",
    "\n",
    "### Limitations of earnings per share\n",
    "When a company's earnings increase, it's an indication that the company is doing well financially and that it's potentially a worthwhile investment. \n",
    "\n",
    "- But as a measure of a company's financial health, the earnings-per-share calculation has its limitations. \n",
    "    - Because companies have the option to buy back their own shares, they can improve their earnings per share by reducing their number of shares outstanding without actually increasing their net income. \n",
    "    - In this regard, companies can essentially manipulate investors into thinking they're doing better than they actually are. Furthermore, earnings per share does not take factors such as a company's outstanding debt into account.\n",
    "\n",
    "- Finally, earnings per share does not consider the capital needed to generate the earnings in question. \n",
    "    - If two companies report the same earnings per share but one uses less capital to bring in that income\n",
    "\n"
   ]
  },
  {
   "cell_type": "code",
   "execution_count": 21,
   "metadata": {},
   "outputs": [
    {
     "name": "stdout",
     "output_type": "stream",
     "text": [
      "[1.3837031547125653, 1.423570953533398, 1.2347287300594307, 0.9796851491839069, 1.3915681396936883, 1.374506652257445, 0.9716381227868935, 0.6778127538586515, 0.0]\n"
     ]
    }
   ],
   "source": [
    "cat = 'investmentValuationRatios'\n",
    "indicator = 'priceSalesRatio'\n",
    "\n",
    "r = list(map(func, range(len(fr['ratios']))))\n",
    "print(r)"
   ]
  },
  {
   "cell_type": "code",
   "execution_count": 22,
   "metadata": {},
   "outputs": [
    {
     "data": {
      "text/html": [
       "<div>\n",
       "<style scoped>\n",
       "    .dataframe tbody tr th:only-of-type {\n",
       "        vertical-align: middle;\n",
       "    }\n",
       "\n",
       "    .dataframe tbody tr th {\n",
       "        vertical-align: top;\n",
       "    }\n",
       "\n",
       "    .dataframe thead th {\n",
       "        text-align: right;\n",
       "    }\n",
       "</style>\n",
       "<table border=\"1\" class=\"dataframe\">\n",
       "  <thead>\n",
       "    <tr style=\"text-align: right;\">\n",
       "      <th></th>\n",
       "      <th>Year</th>\n",
       "      <th>priceSalesRatio</th>\n",
       "    </tr>\n",
       "  </thead>\n",
       "  <tbody>\n",
       "    <tr>\n",
       "      <th>0</th>\n",
       "      <td>2019</td>\n",
       "      <td>1.383703</td>\n",
       "    </tr>\n",
       "    <tr>\n",
       "      <th>1</th>\n",
       "      <td>2018</td>\n",
       "      <td>1.423571</td>\n",
       "    </tr>\n",
       "    <tr>\n",
       "      <th>2</th>\n",
       "      <td>2017</td>\n",
       "      <td>1.234729</td>\n",
       "    </tr>\n",
       "    <tr>\n",
       "      <th>3</th>\n",
       "      <td>2016</td>\n",
       "      <td>0.979685</td>\n",
       "    </tr>\n",
       "    <tr>\n",
       "      <th>4</th>\n",
       "      <td>2015</td>\n",
       "      <td>1.391568</td>\n",
       "    </tr>\n",
       "    <tr>\n",
       "      <th>5</th>\n",
       "      <td>2014</td>\n",
       "      <td>1.374507</td>\n",
       "    </tr>\n",
       "    <tr>\n",
       "      <th>6</th>\n",
       "      <td>2013</td>\n",
       "      <td>0.971638</td>\n",
       "    </tr>\n",
       "    <tr>\n",
       "      <th>7</th>\n",
       "      <td>2012</td>\n",
       "      <td>0.677813</td>\n",
       "    </tr>\n",
       "    <tr>\n",
       "      <th>8</th>\n",
       "      <td>2011</td>\n",
       "      <td>0.000000</td>\n",
       "    </tr>\n",
       "  </tbody>\n",
       "</table>\n",
       "</div>"
      ],
      "text/plain": [
       "   Year  priceSalesRatio\n",
       "0  2019         1.383703\n",
       "1  2018         1.423571\n",
       "2  2017         1.234729\n",
       "3  2016         0.979685\n",
       "4  2015         1.391568\n",
       "5  2014         1.374507\n",
       "6  2013         0.971638\n",
       "7  2012         0.677813\n",
       "8  2011         0.000000"
      ]
     },
     "execution_count": 22,
     "metadata": {},
     "output_type": "execute_result"
    }
   ],
   "source": [
    "df = make_df(years,r,indicator)\n",
    "df"
   ]
  },
  {
   "cell_type": "code",
   "execution_count": 23,
   "metadata": {},
   "outputs": [
    {
     "data": {
      "text/plain": [
       "<matplotlib.axes._subplots.AxesSubplot at 0x7fdc1fab6f28>"
      ]
     },
     "execution_count": 23,
     "metadata": {},
     "output_type": "execute_result"
    },
    {
     "data": {
      "image/png": "[encoded data removed]",
      "text/plain": [
       "<Figure size 432x288 with 1 Axes>"
      ]
     },
     "metadata": {
      "needs_background": "light"
     },
     "output_type": "display_data"
    }
   ],
   "source": [
    "df.plot.bar(x='Year')"
   ]
  },
  {
   "cell_type": "code",
   "execution_count": 24,
   "metadata": {},
   "outputs": [
    {
     "name": "stdout",
     "output_type": "stream",
     "text": [
      "so below this the stock may be a value\n",
      "AVG  priceSalesRatio\n"
     ]
    },
    {
     "data": {
      "text/plain": [
       "1.0485792951206643"
      ]
     },
     "execution_count": 24,
     "metadata": {},
     "output_type": "execute_result"
    }
   ],
   "source": [
    "# Price to Sales is harder to manipulate - \n",
    "\n",
    "avgr=df[indicator].mean()\n",
    "print( \"so below this the stock may be a value\")\n",
    "print(\"AVG \",indicator)\n",
    "df[indicator].mean()\n",
    "\n",
    "\n"
   ]
  },
  {
   "cell_type": "markdown",
   "metadata": {},
   "source": [
    "# macrotrends pretty cool\n",
    "https://www.macrotrends.net/stocks/charts/RXN"
   ]
  },
  {
   "cell_type": "markdown",
   "metadata": {},
   "source": [
    "profitabilityIndicatorRatios': {'niperEBT': '0.6852850374880849',\n",
    "    'ebtperEBIT': '0.8889183976730216',\n",
    "    'ebitperRevenue': '0.10813344423942998',\n",
    "    'grossProfitMargin': '0.34745437345747704',\n",
    "    'operatingProfitMargin': '0.10813344423942998',\n",
    "    'pretaxProfitMargin': '0.09612180798817914',\n",
    "    'netProfitMargin': '0.06587083679060184',"
   ]
  },
  {
   "cell_type": "code",
   "execution_count": 25,
   "metadata": {},
   "outputs": [
    {
     "name": "stdout",
     "output_type": "stream",
     "text": [
      "1.672436491296504\n",
      "3.673765730880929\n",
      "3.8629965592743196\n",
      "3.5294729181827633\n",
      "4.0874061067212955\n",
      "1.4505283381364074\n",
      "2.498628497331804\n",
      "1.5180747359870024\n",
      "-3.0628694250403\n"
     ]
    }
   ],
   "source": [
    "cat = 'profitabilityIndicatorRatios'\n",
    "indicator = 'netProfitMargin'\n",
    "\n",
    "for i in range(len(fr['ratios'])):\n",
    "    yieldr = float(fr['ratios'][i][cat][indicator]) * 100\n",
    "    print(yieldr)"
   ]
  },
  {
   "cell_type": "code",
   "execution_count": null,
   "metadata": {},
   "outputs": [],
   "source": []
  },
  {
   "cell_type": "markdown",
   "metadata": {},
   "source": [
    "# What Is Net Profit Margin?\n",
    "\n",
    "The net profit margin is equal to how much net income or profit is generated as a percentage of revenue. \n",
    "\n",
    "- Net profit margin is the ratio of net profits to revenues for a company or business segment. \n",
    "\n",
    "The net profit margin illustrates how much of each dollar in revenue collected by a company translates into profit.\n"
   ]
  },
  {
   "cell_type": "code",
   "execution_count": 26,
   "metadata": {},
   "outputs": [
    {
     "name": "stdout",
     "output_type": "stream",
     "text": [
      "14.900775269393923\n",
      "7.120038722168441\n",
      "9.576686476905433\n",
      "9.060193367293898\n",
      "9.93561603745976\n",
      "13.429394812680115\n",
      "12.737519325719415\n",
      "12.276604386677498\n",
      "100.0\n"
     ]
    }
   ],
   "source": [
    "cat = 'profitabilityIndicatorRatios'\n",
    "indicator = 'operatingProfitMargin'\n",
    "\n",
    "for i in range(len(fr['ratios'])):\n",
    "    yieldr = float(fr['ratios'][i][cat][indicator]) * 100\n",
    "    print(yieldr)"
   ]
  },
  {
   "cell_type": "code",
   "execution_count": 27,
   "metadata": {},
   "outputs": [
    {
     "name": "stdout",
     "output_type": "stream",
     "text": [
      "[14.900775269393923, 7.120038722168441, 9.576686476905433, 9.060193367293898, 9.93561603745976, 13.429394812680115, 12.737519325719415, 12.276604386677498, 100.0]\n"
     ]
    }
   ],
   "source": [
    "def func(i):\n",
    "    return float(fr['ratios'][i][cat][indicator]) * 100\n",
    "r = list(map(func, range(len(fr['ratios']))))\n",
    "print(r)\n",
    "                            "
   ]
  },
  {
   "cell_type": "code",
   "execution_count": 28,
   "metadata": {},
   "outputs": [
    {
     "data": {
      "text/html": [
       "<div>\n",
       "<style scoped>\n",
       "    .dataframe tbody tr th:only-of-type {\n",
       "        vertical-align: middle;\n",
       "    }\n",
       "\n",
       "    .dataframe tbody tr th {\n",
       "        vertical-align: top;\n",
       "    }\n",
       "\n",
       "    .dataframe thead th {\n",
       "        text-align: right;\n",
       "    }\n",
       "</style>\n",
       "<table border=\"1\" class=\"dataframe\">\n",
       "  <thead>\n",
       "    <tr style=\"text-align: right;\">\n",
       "      <th></th>\n",
       "      <th>Name</th>\n",
       "      <th>val</th>\n",
       "    </tr>\n",
       "  </thead>\n",
       "  <tbody>\n",
       "    <tr>\n",
       "      <th>0</th>\n",
       "      <td>Geeks</td>\n",
       "      <td>11</td>\n",
       "    </tr>\n",
       "    <tr>\n",
       "      <th>1</th>\n",
       "      <td>For</td>\n",
       "      <td>22</td>\n",
       "    </tr>\n",
       "    <tr>\n",
       "      <th>2</th>\n",
       "      <td>Geeks</td>\n",
       "      <td>33</td>\n",
       "    </tr>\n",
       "    <tr>\n",
       "      <th>3</th>\n",
       "      <td>is</td>\n",
       "      <td>44</td>\n",
       "    </tr>\n",
       "    <tr>\n",
       "      <th>4</th>\n",
       "      <td>portal</td>\n",
       "      <td>55</td>\n",
       "    </tr>\n",
       "    <tr>\n",
       "      <th>5</th>\n",
       "      <td>for</td>\n",
       "      <td>66</td>\n",
       "    </tr>\n",
       "    <tr>\n",
       "      <th>6</th>\n",
       "      <td>Geeks</td>\n",
       "      <td>77</td>\n",
       "    </tr>\n",
       "  </tbody>\n",
       "</table>\n",
       "</div>"
      ],
      "text/plain": [
       "     Name  val\n",
       "0   Geeks   11\n",
       "1     For   22\n",
       "2   Geeks   33\n",
       "3      is   44\n",
       "4  portal   55\n",
       "5     for   66\n",
       "6   Geeks   77"
      ]
     },
     "execution_count": 28,
     "metadata": {},
     "output_type": "execute_result"
    }
   ],
   "source": [
    "\n",
    "# import pandas as pd \n",
    "import pandas as pd \n",
    "  \n",
    "# list of strings \n",
    "lst = ['Geeks', 'For', 'Geeks', 'is', 'portal', 'for', 'Geeks'] \n",
    "  \n",
    "# list of int \n",
    "lst2 = [11, 22, 33, 44, 55, 66, 77] \n",
    "  \n",
    "# Calling DataFrame constructor after zipping \n",
    "# both lists, with columns specified \n",
    "df = pd.DataFrame(list(zip(lst, lst2)), \n",
    "               columns =['Name', 'val']) \n",
    "df \n"
   ]
  },
  {
   "cell_type": "code",
   "execution_count": 29,
   "metadata": {},
   "outputs": [
    {
     "name": "stdout",
     "output_type": "stream",
     "text": [
      "[14.900775269393923, 7.120038722168441, 9.576686476905433, 9.060193367293898, 9.93561603745976, 13.429394812680115, 12.737519325719415, 12.276604386677498, 100.0]\n",
      "['2019', '2018', '2017', '2016', '2015', '2014', '2013', '2012', '2011']\n"
     ]
    }
   ],
   "source": [
    "def func(i):\n",
    "    return float(fr['ratios'][i][cat][indicator]) * 100\n",
    "r = list(map(func, range(len(fr['ratios']))))\n",
    "print(r)\n",
    "\n",
    "years=[]\n",
    "for i in range(len(fr['ratios'])):\n",
    "    years.append(fr['ratios'][i]['date'][0:4])\n",
    "print (years)"
   ]
  },
  {
   "cell_type": "code",
   "execution_count": 30,
   "metadata": {},
   "outputs": [
    {
     "data": {
      "text/html": [
       "<div>\n",
       "<style scoped>\n",
       "    .dataframe tbody tr th:only-of-type {\n",
       "        vertical-align: middle;\n",
       "    }\n",
       "\n",
       "    .dataframe tbody tr th {\n",
       "        vertical-align: top;\n",
       "    }\n",
       "\n",
       "    .dataframe thead th {\n",
       "        text-align: right;\n",
       "    }\n",
       "</style>\n",
       "<table border=\"1\" class=\"dataframe\">\n",
       "  <thead>\n",
       "    <tr style=\"text-align: right;\">\n",
       "      <th></th>\n",
       "      <th>Year</th>\n",
       "      <th>operatingProfitMargin</th>\n",
       "    </tr>\n",
       "  </thead>\n",
       "  <tbody>\n",
       "    <tr>\n",
       "      <th>0</th>\n",
       "      <td>2019</td>\n",
       "      <td>14.900775</td>\n",
       "    </tr>\n",
       "    <tr>\n",
       "      <th>1</th>\n",
       "      <td>2018</td>\n",
       "      <td>7.120039</td>\n",
       "    </tr>\n",
       "    <tr>\n",
       "      <th>2</th>\n",
       "      <td>2017</td>\n",
       "      <td>9.576686</td>\n",
       "    </tr>\n",
       "    <tr>\n",
       "      <th>3</th>\n",
       "      <td>2016</td>\n",
       "      <td>9.060193</td>\n",
       "    </tr>\n",
       "    <tr>\n",
       "      <th>4</th>\n",
       "      <td>2015</td>\n",
       "      <td>9.935616</td>\n",
       "    </tr>\n",
       "    <tr>\n",
       "      <th>5</th>\n",
       "      <td>2014</td>\n",
       "      <td>13.429395</td>\n",
       "    </tr>\n",
       "    <tr>\n",
       "      <th>6</th>\n",
       "      <td>2013</td>\n",
       "      <td>12.737519</td>\n",
       "    </tr>\n",
       "    <tr>\n",
       "      <th>7</th>\n",
       "      <td>2012</td>\n",
       "      <td>12.276604</td>\n",
       "    </tr>\n",
       "    <tr>\n",
       "      <th>8</th>\n",
       "      <td>2011</td>\n",
       "      <td>100.000000</td>\n",
       "    </tr>\n",
       "  </tbody>\n",
       "</table>\n",
       "</div>"
      ],
      "text/plain": [
       "   Year  operatingProfitMargin\n",
       "0  2019              14.900775\n",
       "1  2018               7.120039\n",
       "2  2017               9.576686\n",
       "3  2016               9.060193\n",
       "4  2015               9.935616\n",
       "5  2014              13.429395\n",
       "6  2013              12.737519\n",
       "7  2012              12.276604\n",
       "8  2011             100.000000"
      ]
     },
     "execution_count": 30,
     "metadata": {},
     "output_type": "execute_result"
    }
   ],
   "source": [
    "df = pd.DataFrame(list(zip(years, r)), \n",
    "               columns =['Year', 'operatingProfitMargin']) \n",
    "df \n"
   ]
  },
  {
   "cell_type": "markdown",
   "metadata": {},
   "source": [
    "# avg operating profit margin for s&p is 10\n",
    "\n"
   ]
  },
  {
   "cell_type": "code",
   "execution_count": 31,
   "metadata": {},
   "outputs": [
    {
     "data": {
      "text/plain": [
       "<matplotlib.axes._subplots.AxesSubplot at 0x7fdc1fa61978>"
      ]
     },
     "execution_count": 31,
     "metadata": {},
     "output_type": "execute_result"
    },
    {
     "data": {
      "image/png": "[encoded data removed]",
      "text/plain": [
       "<Figure size 432x288 with 1 Axes>"
      ]
     },
     "metadata": {
      "needs_background": "light"
     },
     "output_type": "display_data"
    }
   ],
   "source": [
    "df.plot.bar(x='Year')"
   ]
  },
  {
   "cell_type": "code",
   "execution_count": 32,
   "metadata": {},
   "outputs": [
    {
     "name": "stdout",
     "output_type": "stream",
     "text": [
      "[0.14900775269393923, 0.07120038722168441, 0.09576686476905433, 0.09060193367293898, 0.0993561603745976, 0.13429394812680115, 0.12737519325719415, 0.12276604386677498, 1.0]\n"
     ]
    }
   ],
   "source": [
    "#priceToFreeCashFlowsRatio\n",
    "\n",
    "def func(i):\n",
    "    return float(fr['ratios'][i][cat][indicator])\n",
    "\n",
    "\n",
    "r = list(map(func, range(len(fr['ratios']))))\n",
    "print(r)\n",
    "\n",
    "\n"
   ]
  },
  {
   "cell_type": "code",
   "execution_count": 33,
   "metadata": {},
   "outputs": [
    {
     "name": "stdout",
     "output_type": "stream",
     "text": [
      "[13.162508348794063, 15.66079653887114, 16.845353129445236, 11.292500239664472, 14.474850329781837, 20.64735101010101, 23.08331279620853, 16.52252475247525, 13.701]\n"
     ]
    }
   ],
   "source": [
    "cat = 'investmentValuationRatios'\n",
    "indicator = 'priceToFreeCashFlowsRatio'\n",
    "\n",
    "def func(i):\n",
    "    return float(fr['ratios'][i][cat][indicator])\n",
    "r = list(map(func, range(len(fr['ratios']))))\n",
    "print(r)\n",
    "\n",
    "df = make_df(years,r,indicator)"
   ]
  },
  {
   "cell_type": "code",
   "execution_count": 34,
   "metadata": {},
   "outputs": [
    {
     "data": {
      "text/html": [
       "<div>\n",
       "<style scoped>\n",
       "    .dataframe tbody tr th:only-of-type {\n",
       "        vertical-align: middle;\n",
       "    }\n",
       "\n",
       "    .dataframe tbody tr th {\n",
       "        vertical-align: top;\n",
       "    }\n",
       "\n",
       "    .dataframe thead th {\n",
       "        text-align: right;\n",
       "    }\n",
       "</style>\n",
       "<table border=\"1\" class=\"dataframe\">\n",
       "  <thead>\n",
       "    <tr style=\"text-align: right;\">\n",
       "      <th></th>\n",
       "      <th>Year</th>\n",
       "      <th>priceToFreeCashFlowsRatio</th>\n",
       "    </tr>\n",
       "  </thead>\n",
       "  <tbody>\n",
       "    <tr>\n",
       "      <th>0</th>\n",
       "      <td>2019</td>\n",
       "      <td>13.162508</td>\n",
       "    </tr>\n",
       "    <tr>\n",
       "      <th>1</th>\n",
       "      <td>2018</td>\n",
       "      <td>15.660797</td>\n",
       "    </tr>\n",
       "    <tr>\n",
       "      <th>2</th>\n",
       "      <td>2017</td>\n",
       "      <td>16.845353</td>\n",
       "    </tr>\n",
       "    <tr>\n",
       "      <th>3</th>\n",
       "      <td>2016</td>\n",
       "      <td>11.292500</td>\n",
       "    </tr>\n",
       "    <tr>\n",
       "      <th>4</th>\n",
       "      <td>2015</td>\n",
       "      <td>14.474850</td>\n",
       "    </tr>\n",
       "    <tr>\n",
       "      <th>5</th>\n",
       "      <td>2014</td>\n",
       "      <td>20.647351</td>\n",
       "    </tr>\n",
       "    <tr>\n",
       "      <th>6</th>\n",
       "      <td>2013</td>\n",
       "      <td>23.083313</td>\n",
       "    </tr>\n",
       "    <tr>\n",
       "      <th>7</th>\n",
       "      <td>2012</td>\n",
       "      <td>16.522525</td>\n",
       "    </tr>\n",
       "    <tr>\n",
       "      <th>8</th>\n",
       "      <td>2011</td>\n",
       "      <td>13.701000</td>\n",
       "    </tr>\n",
       "  </tbody>\n",
       "</table>\n",
       "</div>"
      ],
      "text/plain": [
       "   Year  priceToFreeCashFlowsRatio\n",
       "0  2019                  13.162508\n",
       "1  2018                  15.660797\n",
       "2  2017                  16.845353\n",
       "3  2016                  11.292500\n",
       "4  2015                  14.474850\n",
       "5  2014                  20.647351\n",
       "6  2013                  23.083313\n",
       "7  2012                  16.522525\n",
       "8  2011                  13.701000"
      ]
     },
     "execution_count": 34,
     "metadata": {},
     "output_type": "execute_result"
    }
   ],
   "source": [
    "df"
   ]
  },
  {
   "cell_type": "code",
   "execution_count": 35,
   "metadata": {},
   "outputs": [],
   "source": [
    "def simple_df(cat, indicator):\n",
    "    def func(i):\n",
    "        return float(fr['ratios'][i][cat][indicator])\n",
    "    r = list(map(func, range(len(fr['ratios']))))\n",
    "\n",
    "    df = make_df(years,r,indicator)\n",
    "    return df"
   ]
  },
  {
   "cell_type": "code",
   "execution_count": 36,
   "metadata": {},
   "outputs": [],
   "source": [
    "my_df = simple_df(cat, indicator)"
   ]
  },
  {
   "cell_type": "code",
   "execution_count": 37,
   "metadata": {},
   "outputs": [
    {
     "data": {
      "text/plain": [
       "<matplotlib.axes._subplots.AxesSubplot at 0x7fdc1f9df6a0>"
      ]
     },
     "execution_count": 37,
     "metadata": {},
     "output_type": "execute_result"
    },
    {
     "data": {
      "image/png": "[encoded data removed]",
      "text/plain": [
       "<Figure size 432x288 with 1 Axes>"
      ]
     },
     "metadata": {
      "needs_background": "light"
     },
     "output_type": "display_data"
    }
   ],
   "source": [
    "my_df.plot.bar(x='Year')"
   ]
  },
  {
   "cell_type": "markdown",
   "metadata": {},
   "source": [
    "https://www.macrotrends.net/stocks/charts/CR/crane/price-fcf"
   ]
  },
  {
   "cell_type": "markdown",
   "metadata": {},
   "source": [
    "https://www.macrotrends.net/stocks/charts/CR/crane/total-assets\n",
    "\n",
    "https://www.macrotrends.net/stocks/charts/CR/crane/net-worth"
   ]
  },
  {
   "cell_type": "code",
   "execution_count": 38,
   "metadata": {},
   "outputs": [
    {
     "name": "stdout",
     "output_type": "stream",
     "text": [
      "so below this the stock may be a value\n",
      "AVG  priceToFreeCashFlowsRatio\n"
     ]
    },
    {
     "data": {
      "text/plain": [
       "16.15446634948239"
      ]
     },
     "execution_count": 38,
     "metadata": {},
     "output_type": "execute_result"
    }
   ],
   "source": [
    " #Price to FCF is harder to manipulate - \n",
    "\n",
    "avgr=df[indicator].mean()\n",
    "print( \"so below this the stock may be a value\")\n",
    "print(\"AVG \",indicator)\n",
    "my_df[indicator].mean()"
   ]
  },
  {
   "cell_type": "code",
   "execution_count": 39,
   "metadata": {},
   "outputs": [],
   "source": [
    "def toss_outliers(df):\n",
    "    q_low = df[indicator].quantile(0.01)\n",
    "    q_hi  = df[indicator].quantile(0.99)\n",
    "\n",
    "    df_filtered = df[(df[indicator] < q_hi) & (df[indicator] > q_low)]\n",
    "    return df_filtered"
   ]
  },
  {
   "cell_type": "code",
   "execution_count": 40,
   "metadata": {},
   "outputs": [
    {
     "name": "stdout",
     "output_type": "stream",
     "text": [
      "so below this the stock may be a value\n",
      "AVG  priceToFreeCashFlowsRatio\n"
     ]
    },
    {
     "data": {
      "text/plain": [
       "15.859197729924075"
      ]
     },
     "execution_count": 40,
     "metadata": {},
     "output_type": "execute_result"
    }
   ],
   "source": [
    "my_df=toss_outliers(my_df)\n",
    "avgr=df[indicator].mean()\n",
    "print( \"so below this the stock may be a value\")\n",
    "print(\"AVG \",indicator)\n",
    "my_df[indicator].mean()"
   ]
  },
  {
   "cell_type": "markdown",
   "metadata": {},
   "source": [
    "profitabilityIndicatorRatios': {'niperEBT': '0.7809021675454013',\n",
    "    'ebtperEBIT': '0.8113117870722434',\n",
    "    'ebitperRevenue': '0.06408577259297615',\n",
    "    'grossProfitMargin': '0.3591118150528464',\n",
    "    'operatingProfitMargin': '0.06408577259297615',\n",
    "    'pretaxProfitMargin': '0.051993542688312876',\n",
    "    'netProfitMargin': '0.04060187018366788',\n",
    "    'effectiveTaxRate': '0.2173403632103105',cat = 'investmentValuationRatios'\n",
    "indicator = 'priceToFreeCashFlowsRatio'\n",
    "\n",
    "    'returnOnAssets': '0.030133146461107218',\n",
    "    'returnOnEquity': '0.09045260229354686',"
   ]
  },
  {
   "cell_type": "code",
   "execution_count": 41,
   "metadata": {},
   "outputs": [
    {
     "data": {
      "text/plain": [
       "<matplotlib.axes._subplots.AxesSubplot at 0x7fdc1f944d30>"
      ]
     },
     "execution_count": 41,
     "metadata": {},
     "output_type": "execute_result"
    },
    {
     "data": {
      "image/png": "[encoded data removed]",
      "text/plain": [
       "<Figure size 432x288 with 1 Axes>"
      ]
     },
     "metadata": {
      "needs_background": "light"
     },
     "output_type": "display_data"
    }
   ],
   "source": [
    "cat = 'profitabilityIndicatorRatios'\n",
    "indicator = 'returnOnEquity'\n",
    "\n",
    "my_df = simple_df(cat, indicator)\n",
    "\n",
    "my_df.plot.bar(x='Year')\n"
   ]
  },
  {
   "cell_type": "markdown",
   "metadata": {},
   "source": [
    "# ROE\n",
    "\n",
    "some people consider this the ultimate measure of a stocks success"
   ]
  },
  {
   "cell_type": "markdown",
   "metadata": {},
   "source": [
    "|market cap | measure|\n",
    "\n",
    "| Market Cap | Measure |\n",
    "| ------ | ----------- |\n",
    "| Gigantic  | > $25 Billion |\n",
    "| Large | 5 to 25 Billion |\n",
    "| Medium | 1 to 5 Billion |\n",
    "| Small | up to 1 Billion |\n",
    "| Micro | up to 250 Million|"
   ]
  },
  {
   "cell_type": "markdown",
   "metadata": {},
   "source": [
    "https://www.macrotrends.net/stocks/charts/CR/crane/net-worth\n",
    "\n",
    "on March 24, 2020 fell to 2.2 Billion from 5.2 Billion just months earlier\n",
    "    \n",
    "https://www.macrotrends.net/stocks/charts/AAPL/apple/net-worth\n",
    "\n",
    "https://www.macrotrends.net/stocks/charts/AAPL/apple/net-worth\n",
    "\n",
    "1.3 Trillion to 1.0 Trillion"
   ]
  },
  {
   "cell_type": "markdown",
   "metadata": {},
   "source": [
    "# Buying what the headlines tell you\n",
    "\n",
    "## **Doesn't WORK**\n",
    "\n",
    "### *Nobody Ever knows what THE MARKET will do*!!!\n",
    "\n",
    "### Every STock has\n",
    "\n",
    "1. A business Valuation\n",
    "2. A market valuation\n",
    "\n",
    "### Graham\n",
    "1. price to book near 1\n",
    "2. PE lower - less than 15 - oversimplification?"
   ]
  },
  {
   "cell_type": "markdown",
   "metadata": {},
   "source": [
    "A few superior companies are better than a slew of mediocre ones - Fischer"
   ]
  },
  {
   "cell_type": "code",
   "execution_count": null,
   "metadata": {},
   "outputs": [],
   "source": []
  }
 ],
 "metadata": {
  "kernelspec": {
   "display_name": "Python 3",
   "language": "python",
   "name": "python3"
  },
  "language_info": {
   "codemirror_mode": {
    "name": "ipython",
    "version": 3
   },
   "file_extension": ".py",
   "mimetype": "text/x-python",
   "name": "python",
   "nbconvert_exporter": "python",
   "pygments_lexer": "ipython3",
   "version": "3.7.3"
  }
 },
 "nbformat": 4,
 "nbformat_minor": 4
}
