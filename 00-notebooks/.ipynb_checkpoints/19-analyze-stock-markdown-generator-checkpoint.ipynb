{
 "cells": [
  {
   "cell_type": "markdown",
   "metadata": {},
   "source": [
    "# Is this stock a value\n",
    "\n",
    "## Price to Book\n",
    "\n",
    "\n",
    "https://www.macrotrends.net/stocks/charts/KBR/kbr/price-book\n",
    "\n",
    "for KBR - below 1.4 is strong buy - above 2 is a strong sell time\n",
    "\n",
    "KBR is a tradable stock - does not suit the buy and hold model.\n",
    "\n",
    "other later \n",
    "https://www.macrotrends.net/stocks/charts/KBR/kbr/current-ratio\n"
   ]
  },
  {
   "cell_type": "markdown",
   "metadata": {},
   "source": [
    "# Price To Earnings\n",
    "\n",
    "https://www.macrotrends.net/stocks/charts/KBR/kbr/price-book"
   ]
  },
  {
   "cell_type": "markdown",
   "metadata": {},
   "source": [
    "# Price to Free Cash Flow\n",
    "\n",
    "https://www.macrotrends.net/stocks/charts/KBR/kbr/price-fcf\n",
    "\n",
    "for KBR its hard t find a data dependent trading strategy with this ratio"
   ]
  },
  {
   "cell_type": "markdown",
   "metadata": {},
   "source": [
    "# Market Cap Networth\n",
    "\n",
    "https://www.macrotrends.net/stocks/charts/KBR/kbr/net-worth"
   ]
  },
  {
   "cell_type": "markdown",
   "metadata": {},
   "source": [
    "# Stock Price history - nice\n",
    "\n",
    "Historical daily share price chart and data for KBR since 2020 adjusted for splits. The latest closing stock price for KBR as of March 24, 2020 is **18.15.**\n",
    "\n",
    "   The all-time high KBR stock closing price was **44.01** on October 12, 2007.\n",
    "    The KBR **52-week high stock price is 31.92, which is 75.9% above** the current share price.\n",
    "    The KBR **52-week low stock price is 12.00, which is 33.9% below** the current share price.\n",
    "    The **average** KBR stock price for the last 52 weeks is **25.49**.\n",
    "\n",
    "\n",
    "https://www.macrotrends.net/stocks/charts/KBR/kbr/stock-price-history"
   ]
  },
  {
   "cell_type": "markdown",
   "metadata": {},
   "source": [
    "# Current Ratio Short Term Debt Items\n",
    "\n",
    "KBR is typically less than 2 - so a little bit on the risk side more like 1.3\n",
    "\n",
    "https://www.macrotrends.net/stocks/charts/KBR/kbr/current-ratio"
   ]
  },
  {
   "cell_type": "markdown",
   "metadata": {},
   "source": [
    "# Income Statement\n",
    "\n",
    "1. Revenue SPORADIC\n",
    "2. Earnings per Share EPS - also SPORADIC\n",
    "\n",
    "opportunity to trade ?\n",
    "\n",
    "https://www.macrotrends.net/stocks/charts/KBR/kbr/income-statement"
   ]
  },
  {
   "cell_type": "markdown",
   "metadata": {},
   "source": [
    "# Balance Sheet\n",
    "\n",
    "Long Term Debt Growing\n",
    "\n",
    "Shareholder Equity Shrinking\n",
    "\n",
    "\n",
    "https://www.macrotrends.net/stocks/charts/KBR/kbr/balance-sheet"
   ]
  },
  {
   "cell_type": "markdown",
   "metadata": {},
   "source": [
    "# Key Financial Ratios\n",
    "\n",
    "https://www.macrotrends.net/stocks/charts/KBR/kbr/financial-ratios"
   ]
  },
  {
   "cell_type": "code",
   "execution_count": null,
   "metadata": {},
   "outputs": [],
   "source": []
  }
 ],
 "metadata": {
  "kernelspec": {
   "display_name": "Python 3",
   "language": "python",
   "name": "python3"
  },
  "language_info": {
   "codemirror_mode": {
    "name": "ipython",
    "version": 3
   },
   "file_extension": ".py",
   "mimetype": "text/x-python",
   "name": "python",
   "nbconvert_exporter": "python",
   "pygments_lexer": "ipython3",
   "version": "3.7.3"
  }
 },
 "nbformat": 4,
 "nbformat_minor": 4
}
