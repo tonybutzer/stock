{
 "cells": [
  {
   "cell_type": "code",
   "execution_count": 1,
   "metadata": {},
   "outputs": [],
   "source": [
    "import pandas as pd\n",
    "import requests\n",
    "import json"
   ]
  },
  {
   "cell_type": "code",
   "execution_count": 2,
   "metadata": {},
   "outputs": [],
   "source": [
    "symbol = 'CR'\n",
    "#symbol = 'F'\n",
    "url = 'https://financialmodelingprep.com/api/v3/financial-ratios/' + symbol\n",
    "fr = requests.get(url)"
   ]
  },
  {
   "cell_type": "code",
   "execution_count": null,
   "metadata": {},
   "outputs": [],
   "source": []
  },
  {
   "cell_type": "code",
   "execution_count": 3,
   "metadata": {},
   "outputs": [
    {
     "data": {
      "text/plain": [
       "{'symbol': 'CR',\n",
       " 'ratios': [{'date': '2019-12-31',\n",
       "   'investmentValuationRatios': {'priceBookValueRatio': '3.346073149216258',\n",
       "    'priceToBookRatio': '3.346073149216258',\n",
       "    'priceToSalesRatio': '1.5019670433431818',\n",
       "    'priceEarningsRatio': '36.99255813953488',\n",
       "    'receivablesTurnover': '5.914429832462619',\n",
       "    'priceToFreeCashFlowsRatio': '15.167972931405721',\n",
       "    'priceToOperatingCashFlowsRatio': '12.518679867986798',\n",
       "    'priceCashFlowRatio': '12.518679867986798',\n",
       "    'priceEarningsToGrowthRatio': '6.591641766222246',\n",
       "    'priceSalesRatio': '1.5019670433431818',\n",
       "    'dividendYield': '0.018900417512656385',\n",
       "    'enterpriseValueMultiple': '17.068873108984253',\n",
       "    'priceFairValue': '3.346073149216258'},\n",
       "   'profitabilityIndicatorRatios': {'niperEBT': '0.7809021675454013',\n",
       "    'ebtperEBIT': '0.8113117870722434',\n",
       "    'ebitperRevenue': '0.06408577259297615',\n",
       "    'grossProfitMargin': '0.3591118150528464',\n",
       "    'operatingProfitMargin': '0.06408577259297615',\n",
       "    'pretaxProfitMargin': '0.051993542688312876',\n",
       "    'netProfitMargin': '0.04060187018366788',\n",
       "    'effectiveTaxRate': '0.2173403632103105',\n",
       "    'returnOnAssets': '0.030133146461107218',\n",
       "    'returnOnEquity': '0.09045260229354686',\n",
       "    'returnOnCapitalEmployed': '0.05999429712004562',\n",
       "    'nIperEBT': '0.7809021675454013',\n",
       "    'eBTperEBIT': '0.8113117870722434',\n",
       "    'eBITperRevenue': '0.06408577259297615'},\n",
       "   'operatingPerformanceRatios': {'receivablesTurnover': '5.914429832462619',\n",
       "    'payablesTurnover': '6.763420122147219',\n",
       "    'inventoryTurnover': '4.60113710911874',\n",
       "    'fixedAssetTurnover': '5.32711341878955',\n",
       "    'assetTurnover': '0.7421615389832041'},\n",
       "   'liquidityMeasurementRatios': {'currentRatio': '1.63619504745282',\n",
       "    'quickRatio': '1.0506163412239555',\n",
       "    'cashRatio': '0.42969346569215666',\n",
       "    'daysOfSalesOutstanding': '61.71347202339253',\n",
       "    'daysOfInventoryOutstanding': '79.32821633952759',\n",
       "    'operatingCycle': '141.04168836292013',\n",
       "    'daysOfPayablesOutstanding': '53.96677914547788',\n",
       "    'cashConversionCycle': '7.746692877914647'},\n",
       "   'debtRatios': {'debtRatio': '0.6668625810972715',\n",
       "    'debtEquityRatio': '2.001764266811427',\n",
       "    'longtermDebtToCapitalization': '0.3636049574642657',\n",
       "    'totalDebtToCapitalization': '8.42000000060606E8',\n",
       "    'interestCoverage': '4.495726495726496',\n",
       "    'cashFlowToDebtRatio': '0.3973169255598144',\n",
       "    'companyEquityMultiplier': '3.001764266811427'},\n",
       "   'cashFlowIndicatorRatios': {'operatingCashFlowPerShare': '6.586956521739131',\n",
       "    'freeCashFlowPerShare': '5.436454849498328',\n",
       "    'cashPerShare': '6.822742474916388',\n",
       "    'payoutRatio': '0.6991747936984246',\n",
       "    'receivablesTurnover': '5.914429832462619',\n",
       "    'operatingCashFlowSalesRatio': '0.11997806950747769',\n",
       "    'freeCashFlowOperatingCashFlowRatio': '0.8253363797918253',\n",
       "    'cashFlowCoverageRatios': '0.3973169255598144',\n",
       "    'shortTermCoverageRatios': '2.6365461847389557',\n",
       "    'capitalExpenditureCoverageRatios': '5.725290697674419',\n",
       "    'dividendpaidAndCapexCoverageRatios': '2.4314814814814816',\n",
       "    'dividendPayoutRatio': '0.6991747936984246'}},\n",
       "  {'date': '2018-12-31',\n",
       "   'investmentValuationRatios': {'priceBookValueRatio': '3.3768901718934523',\n",
       "    'priceToBookRatio': '3.3768901718934523',\n",
       "    'priceToSalesRatio': '1.5385012703631744',\n",
       "    'priceEarningsRatio': '15.336877234803337',\n",
       "    'receivablesTurnover': '6.486041101202017',\n",
       "    'priceToFreeCashFlowsRatio': '16.87559344262295',\n",
       "    'priceToOperatingCashFlowsRatio': '12.438511358144032',\n",
       "    'priceCashFlowRatio': '12.438511358144032',\n",
       "    'priceEarningsToGrowthRatio': '2.723712405227291',\n",
       "    'priceSalesRatio': '1.5385012703631744',\n",
       "    'dividendYield': '0.016222866042257943',\n",
       "    'enterpriseValueMultiple': '10.249164439693569',\n",
       "    'priceFairValue': '3.3768901718934523'},\n",
       "   'profitabilityIndicatorRatios': {'niperEBT': '1.2536421367202093',\n",
       "    'ebtperEBIT': '0.6066168139587582',\n",
       "    'ebitperRevenue': '0.13190853385144224',\n",
       "    'grossProfitMargin': '0.35549245254819906',\n",
       "    'operatingProfitMargin': '0.13190853385144224',\n",
       "    'pretaxProfitMargin': '0.0800179345389329',\n",
       "    'netProfitMargin': '0.10031385443132566',\n",
       "    'effectiveTaxRate': '0.28352633545013073',\n",
       "    'returnOnAssets': '0.08301382739258416',\n",
       "    'returnOnEquity': '0.2201810785986091',\n",
       "    'returnOnCapitalEmployed': '0.13362604087812263',\n",
       "    'nIperEBT': '1.2536421367202093',\n",
       "    'eBTperEBIT': '0.6066168139587582',\n",
       "    'eBITperRevenue': '0.13190853385144224'},\n",
       "   'operatingPerformanceRatios': {'receivablesTurnover': '6.486041101202017',\n",
       "    'payablesTurnover': '6.5498177399756985',\n",
       "    'inventoryTurnover': '5.239854191980559',\n",
       "    'fixedAssetTurnover': '5.584209647805041',\n",
       "    'assetTurnover': '0.8275409998268484'},\n",
       "   'liquidityMeasurementRatios': {'currentRatio': '1.8412591191569847',\n",
       "    'quickRatio': '1.182383139691975',\n",
       "    'cashRatio': '0.46392866792758714',\n",
       "    'daysOfSalesOutstanding': '56.2746973546555',\n",
       "    'daysOfInventoryOutstanding': '69.65842686207216',\n",
       "    'operatingCycle': '125.93312421672766',\n",
       "    'daysOfPayablesOutstanding': '55.72674148965773',\n",
       "    'cashConversionCycle': '0.5479558649977676'},\n",
       "   'debtRatios': {'debtRatio': '0.6229747446013802',\n",
       "    'debtEquityRatio': '1.652342212308096',\n",
       "    'longtermDebtToCapitalization': '0.3820393269815528',\n",
       "    'totalDebtToCapitalization': '9.423000000027897E8',\n",
       "    'interestCoverage': '8.669941060903733',\n",
       "    'cashFlowToDebtRatio': '0.4359460598398652',\n",
       "    'companyEquityMultiplier': '2.652342212308096'},\n",
       "   'cashFlowIndicatorRatios': {'operatingCashFlowPerShare': '6.942953020134228',\n",
       "    'freeCashFlowPerShare': '5.117449664429531',\n",
       "    'cashPerShare': '6.030201342281879',\n",
       "    'payoutRatio': '0.24880810488676997',\n",
       "    'receivablesTurnover': '6.486041101202017',\n",
       "    'operatingCashFlowSalesRatio': '0.12368853684053206',\n",
       "    'freeCashFlowOperatingCashFlowRatio': '0.7370710488158531',\n",
       "    'cashFlowCoverageRatios': '0.4359460598398652',\n",
       "    'shortTermCoverageRatios': '59.971014492753625',\n",
       "    'capitalExpenditureCoverageRatios': '3.8033088235294117',\n",
       "    'dividendpaidAndCapexCoverageRatios': '2.151846073842954',\n",
       "    'dividendPayoutRatio': '0.24880810488677'}},\n",
       "  {'date': '2017-12-31',\n",
       "   'investmentValuationRatios': {'priceBookValueRatio': '3.681810883140053',\n",
       "    'priceToBookRatio': '3.681810883140053',\n",
       "    'priceToSalesRatio': '1.7777358219669777',\n",
       "    'priceEarningsRatio': '28.82870779976717',\n",
       "    'receivablesTurnover': '6.6586998087954115',\n",
       "    'priceToFreeCashFlowsRatio': '18.4460782122905',\n",
       "    'priceToOperatingCashFlowsRatio': '15.599281889763779',\n",
       "    'priceCashFlowRatio': '15.599281889763779',\n",
       "    'priceEarningsToGrowthRatio': '5.1025781981709475',\n",
       "    'priceSalesRatio': '1.7777358219669777',\n",
       "    'dividendYield': '0.0158295193075716',\n",
       "    'enterpriseValueMultiple': '10.514268857985671',\n",
       "    'priceFairValue': '3.681810883140053'},\n",
       "   'profitabilityIndicatorRatios': {'niperEBT': '0.46748299319727893',\n",
       "    'ebtperEBIT': '0.9144065687982085',\n",
       "    'ebitperRevenue': '0.1442569992821249',\n",
       "    'grossProfitMargin': '0.36435750179468773',\n",
       "    'operatingProfitMargin': '0.1442569992821249',\n",
       "    'pretaxProfitMargin': '0.13190954773869346',\n",
       "    'netProfitMargin': '0.061665470208183776',\n",
       "    'effectiveTaxRate': '0.5306122448979592',\n",
       "    'returnOnAssets': '0.04780854320300543',\n",
       "    'returnOnEquity': '0.12771335117454655',\n",
       "    'returnOnCapitalEmployed': '0.14582728592162555',\n",
       "    'nIperEBT': '0.46748299319727893',\n",
       "    'eBTperEBIT': '0.9144065687982085',\n",
       "    'eBITperRevenue': '0.1442569992821249'},\n",
       "   'operatingPerformanceRatios': {'receivablesTurnover': '6.6586998087954115',\n",
       "    'payablesTurnover': '7.158043654001617',\n",
       "    'inventoryTurnover': '5.069853993701689',\n",
       "    'fixedAssetTurnover': '9.865439093484419',\n",
       "    'assetTurnover': '0.775288715736747'},\n",
       "   'liquidityMeasurementRatios': {'currentRatio': '1.8131343283582089',\n",
       "    'quickRatio': '1.3726567164179104',\n",
       "    'cashRatio': '0.8432238805970149',\n",
       "    'daysOfSalesOutstanding': '54.81550610193826',\n",
       "    'daysOfInventoryOutstanding': '71.99418374837653',\n",
       "    'operatingCycle': '126.80968985031478',\n",
       "    'daysOfPayablesOutstanding': '50.99158619910779',\n",
       "    'cashConversionCycle': '3.8239199028304682'},\n",
       "   'debtRatios': {'debtRatio': '0.6256574370390984',\n",
       "    'debtEquityRatio': '1.6713499851323224',\n",
       "    'longtermDebtToCapitalization': '0.2686348067199478',\n",
       "    'totalDebtToCapitalization': '4.9410000011940444E8',\n",
       "    'interestCoverage': '11.132963988919668',\n",
       "    'cashFlowToDebtRatio': '0.4270342972427707',\n",
       "    'companyEquityMultiplier': '2.671349985132322'},\n",
       "   'cashFlowIndicatorRatios': {'operatingCashFlowPerShare': '5.345117845117845',\n",
       "    'freeCashFlowPerShare': '4.52020202020202',\n",
       "    'cashPerShare': '12.30976430976431',\n",
       "    'payoutRatio': '0.4563445867287544',\n",
       "    'receivablesTurnover': '6.6586998087954115',\n",
       "    'operatingCashFlowSalesRatio': '0.11396267049533382',\n",
       "    'freeCashFlowOperatingCashFlowRatio': '0.8456692913385827',\n",
       "    'cashFlowCoverageRatios': '0.4270342972427707',\n",
       "    'shortTermCoverageRatios': '1.2730553327987169',\n",
       "    'capitalExpenditureCoverageRatios': '6.479591836734694',\n",
       "    'dividendpaidAndCapexCoverageRatios': '2.4921507064364206',\n",
       "    'dividendPayoutRatio': '0.45634458672875433'}},\n",
       "  {'date': '2016-12-31',\n",
       "   'investmentValuationRatios': {'priceBookValueRatio': '3.84393191038984',\n",
       "    'priceToBookRatio': '3.84393191038984',\n",
       "    'priceToSalesRatio': '1.5859716157205241',\n",
       "    'priceEarningsRatio': '35.490635179153095',\n",
       "    'receivablesTurnover': '6.932391523713421',\n",
       "    'priceToFreeCashFlowsRatio': '16.347524381095273',\n",
       "    'priceToOperatingCashFlowsRatio': '13.700880226343916',\n",
       "    'priceCashFlowRatio': '13.700880226343916',\n",
       "    'priceEarningsToGrowthRatio': '6.1865380154364',\n",
       "    'priceSalesRatio': '1.5859716157205241',\n",
       "    'dividendYield': '0.01771353180749154',\n",
       "    'enterpriseValueMultiple': '17.160440791931265',\n",
       "    'priceFairValue': '3.84393191038984'},\n",
       "   'profitabilityIndicatorRatios': {'niperEBT': '0.7483241925655089',\n",
       "    'ebtperEBIT': '0.8192710933599601',\n",
       "    'ebitperRevenue': '0.07288937409024746',\n",
       "    'grossProfitMargin': '0.3601528384279476',\n",
       "    'operatingProfitMargin': '0.07288937409024746',\n",
       "    'pretaxProfitMargin': '0.05971615720524018',\n",
       "    'netProfitMargin': '0.04468704512372634',\n",
       "    'effectiveTaxRate': '0.24558196221815967',\n",
       "    'returnOnAssets': '0.035822637106184364',\n",
       "    'returnOnEquity': '0.10830834362321397',\n",
       "    'returnOnCapitalEmployed': '0.0688979086406164',\n",
       "    'nIperEBT': '0.7483241925655089',\n",
       "    'eBTperEBIT': '0.8192710933599601',\n",
       "    'eBITperRevenue': '0.07288937409024746'},\n",
       "   'operatingPerformanceRatios': {'receivablesTurnover': '6.932391523713421',\n",
       "    'payablesTurnover': '7.877688172043011',\n",
       "    'inventoryTurnover': '5.133722627737226',\n",
       "    'fixedAssetTurnover': '9.852993904625313',\n",
       "    'assetTurnover': '0.8016336056009334'},\n",
       "   'liquidityMeasurementRatios': {'currentRatio': '2.526305683563748',\n",
       "    'quickRatio': '1.831221198156682',\n",
       "    'cashRatio': '0.9786866359447005',\n",
       "    'daysOfSalesOutstanding': '52.651382823871906',\n",
       "    'daysOfInventoryOutstanding': '71.09850423704715',\n",
       "    'operatingCycle': '123.74988706091906',\n",
       "    'daysOfPayablesOutstanding': '46.333390206449415',\n",
       "    'cashConversionCycle': '6.31799261742249'},\n",
       "   'debtRatios': {'debtRatio': '0.6692532088681447',\n",
       "    'debtEquityRatio': '2.023460927853237',\n",
       "    'longtermDebtToCapitalization': '0.3966260443829493',\n",
       "    'totalDebtToCapitalization': '0.39662604438295',\n",
       "    'interestCoverage': '5.487671232876712',\n",
       "    'cashFlowToDebtRatio': '0.42680799677982',\n",
       "    'companyEquityMultiplier': '3.023460927853237'},\n",
       "   'cashFlowIndicatorRatios': {'operatingCashFlowPerShare': '5.437606837606838',\n",
       "    'freeCashFlowPerShare': '4.557264957264957',\n",
       "    'cashPerShare': '9.526495726495726',\n",
       "    'payoutRatio': '0.6286644951140065',\n",
       "    'receivablesTurnover': '6.932391523713421',\n",
       "    'operatingCashFlowSalesRatio': '0.11575691411935954',\n",
       "    'freeCashFlowOperatingCashFlowRatio': '0.8381012260295505',\n",
       "    'cashFlowCoverageRatios': '0.42680799677982',\n",
       "    'shortTermCoverageRatios': '',\n",
       "    'capitalExpenditureCoverageRatios': '6.176699029126214',\n",
       "    'dividendpaidAndCapexCoverageRatios': '2.4716394716394716',\n",
       "    'dividendPayoutRatio': '0.6286644951140065'}},\n",
       "  {'date': '2015-12-31',\n",
       "   'investmentValuationRatios': {'priceBookValueRatio': '2.646981744777953',\n",
       "    'priceToBookRatio': '2.646981744777953',\n",
       "    'priceToSalesRatio': '1.1005185185185185',\n",
       "    'priceEarningsRatio': '13.175932721712536',\n",
       "    'receivablesTurnover': '6.892605633802817',\n",
       "    'priceToFreeCashFlowsRatio': '15.898634686346863',\n",
       "    'priceToOperatingCashFlowsRatio': '13.152948102921936',\n",
       "    'priceCashFlowRatio': '13.152948102921936',\n",
       "    'priceEarningsToGrowthRatio': '2.281053906828064',\n",
       "    'priceSalesRatio': '1.1005185185185185',\n",
       "    'dividendYield': '0.025398122196798312',\n",
       "    'enterpriseValueMultiple': '7.84580813821323',\n",
       "    'priceFairValue': '2.646981744777953'},\n",
       "   'profitabilityIndicatorRatios': {'niperEBT': '0.6802377414561664',\n",
       "    'ebtperEBIT': '0.9023866988468758',\n",
       "    'ebitperRevenue': '0.13607006020799126',\n",
       "    'grossProfitMargin': '0.3482576172231345',\n",
       "    'operatingProfitMargin': '0.13607006020799126',\n",
       "    'pretaxProfitMargin': '0.12278781244298485',\n",
       "    'netProfitMargin': '0.08352490421455938',\n",
       "    'effectiveTaxRate': '0.3164933135215453',\n",
       "    'returnOnAssets': '0.06850011970313623',\n",
       "    'returnOnEquity': '0.20089520800421273',\n",
       "    'returnOnCapitalEmployed': '0.1346792834440913',\n",
       "    'nIperEBT': '0.6802377414561664',\n",
       "    'eBTperEBIT': '0.9023866988468758',\n",
       "    'eBITperRevenue': '0.13607006020799126'},\n",
       "   'operatingPerformanceRatios': {'receivablesTurnover': '6.892605633802817',\n",
       "    'payablesTurnover': '7.9986565158978955',\n",
       "    'inventoryTurnover': '4.738922791191297',\n",
       "    'fixedAssetTurnover': '9.929347826086957',\n",
       "    'assetTurnover': '0.8201161120421355'},\n",
       "   'liquidityMeasurementRatios': {'currentRatio': '2.101082402234637',\n",
       "    'quickRatio': '1.4125349162011174',\n",
       "    'cashRatio': '0.6346019553072626',\n",
       "    'daysOfSalesOutstanding': '52.955300127713926',\n",
       "    'daysOfInventoryOutstanding': '77.02172330776553',\n",
       "    'operatingCycle': '129.97702343547945',\n",
       "    'daysOfPayablesOutstanding': '45.63266334471754',\n",
       "    'cashConversionCycle': '7.322636782996383'},\n",
       "   'debtRatios': {'debtRatio': '0.6590256164711515',\n",
       "    'debtEquityRatio': '1.9327716341934351',\n",
       "    'longtermDebtToCapitalization': '0.39672790808492614',\n",
       "    'totalDebtToCapitalization': '7.493000000255895E8',\n",
       "    'interestCoverage': '9.917553191489361',\n",
       "    'cashFlowToDebtRatio': '0.2870196520215296',\n",
       "    'companyEquityMultiplier': '2.9327716341934353'},\n",
       "   'cashFlowIndicatorRatios': {'operatingCashFlowPerShare': '3.946643717728055',\n",
       "    'freeCashFlowPerShare': '3.2650602409638556',\n",
       "    'cashPerShare': '7.082616179001721',\n",
       "    'payoutRatio': '0.3346439493228484',\n",
       "    'receivablesTurnover': '6.892605633802817',\n",
       "    'operatingCashFlowSalesRatio': '0.08367086298120781',\n",
       "    'freeCashFlowOperatingCashFlowRatio': '0.8273004797208897',\n",
       "    'cashFlowCoverageRatios': '0.2870196520215296',\n",
       "    'shortTermCoverageRatios': '4.622983870967742',\n",
       "    'capitalExpenditureCoverageRatios': '5.790404040404041',\n",
       "    'dividendpaidAndCapexCoverageRatios': '1.9733218588640276',\n",
       "    'dividendPayoutRatio': '0.33464394932284836'}},\n",
       "  {'date': '2014-12-31',\n",
       "   'investmentValuationRatios': {'priceBookValueRatio': '3.2087205780220276',\n",
       "    'priceToBookRatio': '3.2087205780220276',\n",
       "    'priceToSalesRatio': '1.1625475342367872',\n",
       "    'priceEarningsRatio': '17.64889579181199',\n",
       "    'receivablesTurnover': '7.119344678862461',\n",
       "    'priceToFreeCashFlowsRatio': '15.441211021755617',\n",
       "    'priceToOperatingCashFlowsRatio': '12.88287617777542',\n",
       "    'priceCashFlowRatio': '12.88287617777542',\n",
       "    'priceEarningsToGrowthRatio': '3.085874720404457',\n",
       "    'priceSalesRatio': '1.1625475342367872',\n",
       "    'dividendYield': '0.021727724968478784',\n",
       "    'enterpriseValueMultiple': '9.958273945558798',\n",
       "    'priceFairValue': '3.2087205780220276'},\n",
       "   'profitabilityIndicatorRatios': {'niperEBT': '0.6852850374880849',\n",
       "    'ebtperEBIT': '0.8889183976730216',\n",
       "    'ebitperRevenue': '0.10813344423942998',\n",
       "    'grossProfitMargin': '0.34745437345747704',\n",
       "    'operatingProfitMargin': '0.10813344423942998',\n",
       "    'pretaxProfitMargin': '0.09612180798817914',\n",
       "    'netProfitMargin': '0.06587083679060184',\n",
       "    'effectiveTaxRate': '0.31152456287612573',\n",
       "    'returnOnAssets': '0.05583425220638202',\n",
       "    'returnOnEquity': '0.1818085740814832',\n",
       "    'returnOnCapitalEmployed': '0.11252828416513683',\n",
       "    'nIperEBT': '0.6852850374880849',\n",
       "    'eBTperEBIT': '0.8889183976730216',\n",
       "    'eBITperRevenue': '0.10813344423942998'},\n",
       "   'operatingPerformanceRatios': {'receivablesTurnover': '7.119344678862461',\n",
       "    'payablesTurnover': '8.341391999021074',\n",
       "    'inventoryTurnover': '5.162553182281679',\n",
       "    'fixedAssetTurnover': '10.077022985971391',\n",
       "    'assetTurnover': '0.8476323503202895'},\n",
       "   'liquidityMeasurementRatios': {'currentRatio': '1.8674020546072418',\n",
       "    'quickRatio': '1.2665442756142338',\n",
       "    'cashRatio': '0.5410194914261162',\n",
       "    'daysOfSalesOutstanding': '51.26876369445849',\n",
       "    'daysOfInventoryOutstanding': '70.70145083496884',\n",
       "    'operatingCycle': '121.97021452942732',\n",
       "    'daysOfPayablesOutstanding': '43.75768457384997',\n",
       "    'cashConversionCycle': '7.511079120608521'},\n",
       "   'debtRatios': {'debtRatio': '0.6928953846733424',\n",
       "    'debtEquityRatio': '2.2562193796284413',\n",
       "    'longtermDebtToCapitalization': '0.4141666643633238',\n",
       "    'totalDebtToCapitalization': '7.492130000527843E8',\n",
       "    'interestCoverage': '8.06409668043445',\n",
       "    'cashFlowToDebtRatio': '0.3105236471184762',\n",
       "    'companyEquityMultiplier': '3.2562193796284413'},\n",
       "   'cashFlowIndicatorRatios': {'operatingCashFlowPerShare': '4.498219124388623',\n",
       "    'freeCashFlowPerShare': '3.752943983367133',\n",
       "    'cashPerShare': '6.812795037406909',\n",
       "    'payoutRatio': '0.3834703537618336',\n",
       "    'receivablesTurnover': '7.119344678862461',\n",
       "    'operatingCashFlowSalesRatio': '0.09023975067324855',\n",
       "    'freeCashFlowOperatingCashFlowRatio': '0.8343177332156347',\n",
       "    'cashFlowCoverageRatios': '0.3105236471184762',\n",
       "    'shortTermCoverageRatios': '2.618405650457314',\n",
       "    'capitalExpenditureCoverageRatios': '6.0356489527119725',\n",
       "    'dividendpaidAndCapexCoverageRatios': '2.244175962454088',\n",
       "    'dividendPayoutRatio': '0.3834703537618336'}},\n",
       "  {'date': '2013-12-31',\n",
       "   'investmentValuationRatios': {'priceBookValueRatio': '2.9738354705024164',\n",
       "    'priceToBookRatio': '2.9738354705024164',\n",
       "    'priceToSalesRatio': '1.3799841173267942',\n",
       "    'priceEarningsRatio': '16.31623657187634',\n",
       "    'receivablesTurnover': '5.931514989452417',\n",
       "    'priceToFreeCashFlowsRatio': '17.056862900114776',\n",
       "    'priceToOperatingCashFlowsRatio': '14.958094824417788',\n",
       "    'priceCashFlowRatio': '14.958094824417788',\n",
       "    'priceEarningsToGrowthRatio': '2.8147938991816224',\n",
       "    'priceSalesRatio': '1.3799841173267942',\n",
       "    'dividendYield': '0.01878347167073184',\n",
       "    'enterpriseValueMultiple': '10.394001584254791',\n",
       "    'priceFairValue': '2.9738354705024164'},\n",
       "   'profitabilityIndicatorRatios': {'niperEBT': '0.6732859736945426',\n",
       "    'ebtperEBIT': '0.9371615173222643',\n",
       "    'ebitperRevenue': '0.13404174730982887',\n",
       "    'grossProfitMargin': '0.3404340416317154',\n",
       "    'operatingProfitMargin': '0.13404174730982887',\n",
       "    'pretaxProfitMargin': '0.12561876729340676',\n",
       "    'netProfitMargin': '0.08457735405144953',\n",
       "    'effectiveTaxRate': '0.3222694591676482',\n",
       "    'returnOnAssets': '0.06166467253267004',\n",
       "    'returnOnEquity': '0.18226234079176695',\n",
       "    'returnOnCapitalEmployed': '0.12034296131912457',\n",
       "    'nIperEBT': '0.6732859736945426',\n",
       "    'eBTperEBIT': '0.9371615173222643',\n",
       "    'eBITperRevenue': '0.13404174730982887'},\n",
       "   'operatingPerformanceRatios': {'receivablesTurnover': '5.931514989452417',\n",
       "    'payablesTurnover': '7.448000243660476',\n",
       "    'inventoryTurnover': '4.64034688223462',\n",
       "    'fixedAssetTurnover': '8.507583878317025',\n",
       "    'assetTurnover': '0.7290920036959136'},\n",
       "   'liquidityMeasurementRatios': {'currentRatio': '1.7178779552161603',\n",
       "    'quickRatio': '1.140104230515083',\n",
       "    'cashRatio': '0.4046078498793545',\n",
       "    'daysOfSalesOutstanding': '61.53571231785691',\n",
       "    'daysOfInventoryOutstanding': '78.65791270850629',\n",
       "    'operatingCycle': '140.1936250263632',\n",
       "    'daysOfPayablesOutstanding': '49.00644307989618',\n",
       "    'cashConversionCycle': '12.529269237960733'},\n",
       "   'debtRatios': {'debtRatio': '0.661670796804254',\n",
       "    'debtEquityRatio': '1.955701105770149',\n",
       "    'longtermDebtToCapitalization': '0.38350356720718676',\n",
       "    'totalDebtToCapitalization': '7.491700000605131E8',\n",
       "    'interestCoverage': '13.14724111866969',\n",
       "    'cashFlowToDebtRatio': '0.2736378223443307',\n",
       "    'companyEquityMultiplier': '2.955701105770149'},\n",
       "   'cashFlowIndicatorRatios': {'operatingCashFlowPerShare': '4.135553406107503',\n",
       "    'freeCashFlowPerShare': '3.6266926903413017',\n",
       "    'cashPerShare': '5.61484385795219',\n",
       "    'payoutRatio': '0.306475567420798',\n",
       "    'receivablesTurnover': '5.931514989452417',\n",
       "    'operatingCashFlowSalesRatio': '0.09225667663732752',\n",
       "    'freeCashFlowOperatingCashFlowRatio': '0.8769546259480772',\n",
       "    'cashFlowCoverageRatios': '0.2736378223443307',\n",
       "    'shortTermCoverageRatios': '1.9028817573474481',\n",
       "    'capitalExpenditureCoverageRatios': '8.127083262618378',\n",
       "    'dividendpaidAndCapexCoverageRatios': '2.475184270104308',\n",
       "    'dividendPayoutRatio': '0.306475567420798'}},\n",
       "  {'date': '2012-12-31',\n",
       "   'investmentValuationRatios': {'priceBookValueRatio': '2.6464049639420595',\n",
       "    'priceToBookRatio': '2.6464049639420595',\n",
       "    'priceToSalesRatio': '0.9423610893547593',\n",
       "    'priceEarningsRatio': '11.200422732530543',\n",
       "    'receivablesTurnover': '7.737281372813728',\n",
       "    'priceToFreeCashFlowsRatio': '11.829822290798646',\n",
       "    'priceToOperatingCashFlowsRatio': '10.352933812128338',\n",
       "    'priceCashFlowRatio': '10.352933812128338',\n",
       "    'priceEarningsToGrowthRatio': '1.9171212247459832',\n",
       "    'priceSalesRatio': '0.9423610893547593',\n",
       "    'dividendYield': '0.02549936639789578',\n",
       "    'enterpriseValueMultiple': '6.545159503296129',\n",
       "    'priceFairValue': '2.6464049639420595'},\n",
       "   'profitabilityIndicatorRatios': {'niperEBT': '0.7624356564361132',\n",
       "    'ebtperEBIT': '0.9167764567180238',\n",
       "    'ebitperRevenue': '0.12036945129015598',\n",
       "    'grossProfitMargin': '0.336989563671838',\n",
       "    'operatingProfitMargin': '0.12036945129015598',\n",
       "    'pretaxProfitMargin': '0.11035187905088195',\n",
       "    'netProfitMargin': '0.08413620734311775',\n",
       "    'effectiveTaxRate': '0.3106621457809947',\n",
       "    'returnOnAssets': '0.07508725281828506',\n",
       "    'returnOnEquity': '0.23627723945238532',\n",
       "    'returnOnCapitalEmployed': '0.13054764738287378',\n",
       "    'nIperEBT': '0.7624356564361132',\n",
       "    'eBTperEBIT': '0.9167764567180238',\n",
       "    'eBITperRevenue': '0.12036945129015598'},\n",
       "   'operatingPerformanceRatios': {'receivablesTurnover': '7.737281372813728',\n",
       "    'payablesTurnover': '9.357738971493616',\n",
       "    'inventoryTurnover': '4.84782479268552',\n",
       "    'fixedAssetTurnover': '9.613236768636105',\n",
       "    'assetTurnover': '0.8924487469713255'},\n",
       "   'liquidityMeasurementRatios': {'currentRatio': '2.306209561466571',\n",
       "    'quickRatio': '1.5874898415278342',\n",
       "    'cashRatio': '0.8282026537054981',\n",
       "    'daysOfSalesOutstanding': '47.17419238267467',\n",
       "    'daysOfInventoryOutstanding': '75.2914999219275',\n",
       "    'operatingCycle': '122.46569230460216',\n",
       "    'daysOfPayablesOutstanding': '39.00514869156917',\n",
       "    'cashConversionCycle': '8.1690436911055'},\n",
       "   'debtRatios': {'debtRatio': '0.6822069997418576',\n",
       "    'debtEquityRatio': '2.1467024106500228',\n",
       "    'longtermDebtToCapitalization': '0.3029218770754663',\n",
       "    'totalDebtToCapitalization': '3.990920000008517E8',\n",
       "    'interestCoverage': '11.570235921136',\n",
       "    'cashFlowToDebtRatio': '0.5865747160901016',\n",
       "    'companyEquityMultiplier': '3.1467024106500228'},\n",
       "   'cashFlowIndicatorRatios': {'operatingCashFlowPerShare': '4.086764270668315',\n",
       "    'freeCashFlowPerShare': '3.576554149330641',\n",
       "    'cashPerShare': '8.343697230297861',\n",
       "    'payoutRatio': '0.2856036830681174',\n",
       "    'receivablesTurnover': '7.737281372813728',\n",
       "    'operatingCashFlowSalesRatio': '0.09102357906034272',\n",
       "    'freeCashFlowOperatingCashFlowRatio': '0.8751554805840959',\n",
       "    'cashFlowCoverageRatios': '0.5865747160901016',\n",
       "    'shortTermCoverageRatios': '209.04363312555654',\n",
       "    'capitalExpenditureCoverageRatios': '8.009963149993176',\n",
       "    'dividendpaidAndCapexCoverageRatios': '2.57176661335203',\n",
       "    'dividendPayoutRatio': '0.2856036830681174'}},\n",
       "  {'date': '2011-12-31',\n",
       "   'investmentValuationRatios': {'priceBookValueRatio': '3.373383664002222',\n",
       "    'priceToBookRatio': '3.373383664002222',\n",
       "    'priceToSalesRatio': '1.0779928409457367',\n",
       "    'priceEarningsRatio': '104.2913319399582',\n",
       "    'receivablesTurnover': '7.289526127415892',\n",
       "    'priceToFreeCashFlowsRatio': '23.84902368020856',\n",
       "    'priceToOperatingCashFlowsRatio': '18.31913598376632',\n",
       "    'priceCashFlowRatio': '18.31913598376632',\n",
       "    'priceEarningsToGrowthRatio': '18.061418987933166',\n",
       "    'priceSalesRatio': '1.0779928409457367',\n",
       "    'dividendYield': '0.020766452326795866',\n",
       "    'enterpriseValueMultiple': '27.558654842358397',\n",
       "    'priceFairValue': '3.373383664002222'},\n",
       "   'profitabilityIndicatorRatios': {'niperEBT': '1.286545418988951',\n",
       "    'ebtperEBIT': '0.4839579784213515',\n",
       "    'ebitperRevenue': '0.016601024326879606',\n",
       "    'grossProfitMargin': '0.3388920159615565',\n",
       "    'operatingProfitMargin': '0.016601024326879606',\n",
       "    'pretaxProfitMargin': '0.008034198172960331',\n",
       "    'netProfitMargin': '0.010336360854671513',\n",
       "    'effectiveTaxRate': '-0.29637234770704995',\n",
       "    'returnOnAssets': '0.009254339059429984',\n",
       "    'returnOnEquity': '0.032345772186938036',\n",
       "    'returnOnCapitalEmployed': '0.018292651257165313',\n",
       "    'nIperEBT': '1.286545418988951',\n",
       "    'eBTperEBIT': '0.4839579784213515',\n",
       "    'eBITperRevenue': '0.016601024326879606'},\n",
       "   'operatingPerformanceRatios': {'receivablesTurnover': '7.289526127415892',\n",
       "    'payablesTurnover': '8.668677056830004',\n",
       "    'inventoryTurnover': '4.666327500977296',\n",
       "    'fixedAssetTurnover': '8.959714372188945',\n",
       "    'assetTurnover': '0.8953188834586294'},\n",
       "   'liquidityMeasurementRatios': {'currentRatio': '1.9363002841894972',\n",
       "    'quickRatio': '1.2330785319689737',\n",
       "    'cashRatio': '0.45974732458567424',\n",
       "    'daysOfSalesOutstanding': '50.07184193047005',\n",
       "    'daysOfInventoryOutstanding': '78.21997061362622',\n",
       "    'operatingCycle': '128.29181254409627',\n",
       "    'daysOfPayablesOutstanding': '42.10561745548225',\n",
       "    'cashConversionCycle': '7.966224474987797'},\n",
       "   'debtRatios': {'debtRatio': '0.7138933952188318',\n",
       "    'debtEquityRatio': '2.4952006814552954',\n",
       "    'longtermDebtToCapitalization': '0.32901019161758627',\n",
       "    'totalDebtToCapitalization': '3.989140000009163E8',\n",
       "    'interestCoverage': '1.6097505237097696',\n",
       "    'cashFlowToDebtRatio': '0.3745056571322864',\n",
       "    'companyEquityMultiplier': '3.4952006814552954'},\n",
       "   'cashFlowIndicatorRatios': {'operatingCashFlowPerShare': '2.577632484514797',\n",
       "    'freeCashFlowPerShare': '1.9799552649690295',\n",
       "    'cashPerShare': '5.301066758430832',\n",
       "    'payoutRatio': '2.165760972829185',\n",
       "    'receivablesTurnover': '7.289526127415892',\n",
       "    'operatingCashFlowSalesRatio': '0.0588451792650598',\n",
       "    'freeCashFlowOperatingCashFlowRatio': '0.7681293888340053',\n",
       "    'cashFlowCoverageRatios': '0.3745056571322864',\n",
       "    'shortTermCoverageRatios': '134.72302158273382',\n",
       "    'capitalExpenditureCoverageRatios': '4.31275009356018',\n",
       "    'dividendpaidAndCapexCoverageRatios': '1.633202149810856',\n",
       "    'dividendPayoutRatio': '2.165760972829185'}},\n",
       "  {'date': '2010-12-31',\n",
       "   'investmentValuationRatios': {'priceBookValueRatio': '2.3019305564580317',\n",
       "    'priceToBookRatio': '2.3019305564580317',\n",
       "    'priceToSalesRatio': '1.0222955778747196',\n",
       "    'priceEarningsRatio': '14.706315690471556',\n",
       "    'receivablesTurnover': '7.345785941878258',\n",
       "    'priceToFreeCashFlowsRatio': '20.15299760895265',\n",
       "    'priceToOperatingCashFlowsRatio': '16.978737494009106',\n",
       "    'priceCashFlowRatio': '16.978737494009106',\n",
       "    'priceEarningsToGrowthRatio': '2.5679523414103804',\n",
       "    'priceSalesRatio': '1.0222955778747196',\n",
       "    'dividendYield': '0.022216560108612254',\n",
       "    'enterpriseValueMultiple': '8.1153469286753',\n",
       "    'priceFairValue': '2.3019305564580317'},\n",
       "   'profitabilityIndicatorRatios': {'niperEBT': '0.7309094529438815',\n",
       "    'ebtperEBIT': '0.8969518884853845',\n",
       "    'ebitperRevenue': '0.10603271222932377',\n",
       "    'grossProfitMargin': '0.3360152401564596',\n",
       "    'operatingProfitMargin': '0.10603271222932377',\n",
       "    'pretaxProfitMargin': '0.09510624147531929',\n",
       "    'netProfitMargin': '0.06951405092827433',\n",
       "    'effectiveTaxRate': '0.26899572842046376',\n",
       "    'returnOnAssets': '0.05695872127541428',\n",
       "    'returnOnEquity': '0.1565266654753976',\n",
       "    'returnOnCapitalEmployed': '0.10649763172040941',\n",
       "    'nIperEBT': '0.7309094529438815',\n",
       "    'eBTperEBIT': '0.8969518884853845',\n",
       "    'eBITperRevenue': '0.10603271222932377'},\n",
       "   'operatingPerformanceRatios': {'receivablesTurnover': '7.345785941878258',\n",
       "    'payablesTurnover': '9.376584676315337',\n",
       "    'inventoryTurnover': '4.615193197880136',\n",
       "    'fixedAssetTurnover': '7.899756363403219',\n",
       "    'assetTurnover': '0.8193842901514281'},\n",
       "   'liquidityMeasurementRatios': {'currentRatio': '1.9830570008464479',\n",
       "    'quickRatio': '1.3094168334824312',\n",
       "    'cashRatio': '0.5474652695595663',\n",
       "    'daysOfSalesOutstanding': '49.68835232716738',\n",
       "    'daysOfInventoryOutstanding': '79.08661335513601',\n",
       "    'operatingCycle': '128.7749656823034',\n",
       "    'daysOfPayablesOutstanding': '38.92675346088081',\n",
       "    'cashConversionCycle': '10.761598866286569'},\n",
       "   'debtRatios': {'debtRatio': '0.6361085115918036',\n",
       "    'debtEquityRatio': '1.748071971604477',\n",
       "    'longtermDebtToCapitalization': '0.28817067530064755',\n",
       "    'totalDebtToCapitalization': '3.9873600000071067E8',\n",
       "    'interestCoverage': '8.761298014231958',\n",
       "    'cashFlowToDebtRatio': '0.3340738516961873',\n",
       "    'companyEquityMultiplier': '2.748071971604477'},\n",
       "   'cashFlowIndicatorRatios': {'operatingCashFlowPerShare': '2.278732444838825',\n",
       "    'freeCashFlowPerShare': '1.919813655057081',\n",
       "    'cashPerShare': '5.987901230354431',\n",
       "    'payoutRatio': '0.3267237465135889',\n",
       "    'receivablesTurnover': '7.345785941878258',\n",
       "    'operatingCashFlowSalesRatio': '0.06021034121267458',\n",
       "    'freeCashFlowOperatingCashFlowRatio': '0.8424919122933142',\n",
       "    'cashFlowCoverageRatios': '0.3340738516961873',\n",
       "    'shortTermCoverageRatios': '135.70731707317074',\n",
       "    'capitalExpenditureCoverageRatios': '6.348880330908572',\n",
       "    'dividendpaidAndCapexCoverageRatios': '1.8701473306817544',\n",
       "    'dividendPayoutRatio': '0.3267237465135889'}},\n",
       "  {'date': '2009-12-31',\n",
       "   'investmentValuationRatios': {'priceBookValueRatio': '1.8705936668766554',\n",
       "    'priceToBookRatio': '1.8705936668766554',\n",
       "    'priceToSalesRatio': '0.7543907247456338',\n",
       "    'priceEarningsRatio': '12.378233232428878',\n",
       "    'receivablesTurnover': '4.138054928056944',\n",
       "    'priceToFreeCashFlowsRatio': '10.015358129790371',\n",
       "    'priceToOperatingCashFlowsRatio': '8.766021498724962',\n",
       "    'priceCashFlowRatio': '8.766021498724962',\n",
       "    'priceEarningsToGrowthRatio': '2.1571812618156407',\n",
       "    'priceSalesRatio': '0.7543907247456338',\n",
       "    'dividendYield': '0.02823524519467095',\n",
       "    'enterpriseValueMultiple': '6.235337768001629',\n",
       "    'priceFairValue': '1.8705936668766554'},\n",
       "   'profitabilityIndicatorRatios': {'niperEBT': '0.7247133219997618',\n",
       "    'ebtperEBIT': '0.8718897663813898',\n",
       "    'ebitperRevenue': '0.0964516926545626',\n",
       "    'grossProfitMargin': '0.33251318213958386',\n",
       "    'operatingProfitMargin': '0.09482535287065819',\n",
       "    'pretaxProfitMargin': '0.0840952437756762',\n",
       "    'netProfitMargin': '0.06094494348105009',\n",
       "    'effectiveTaxRate': '0.2752866780002382',\n",
       "    'returnOnAssets': '0.04934059444918312',\n",
       "    'returnOnEquity': '0.1511196009763345',\n",
       "    'returnOnCapitalEmployed': '0.09431436310502218',\n",
       "    'nIperEBT': '0.7247133219997618',\n",
       "    'eBTperEBIT': '0.8718897663813898',\n",
       "    'eBITperRevenue': '0.0964516926545626'},\n",
       "   'operatingPerformanceRatios': {'receivablesTurnover': '4.138054928056944',\n",
       "    'payablesTurnover': '10.295877519488728',\n",
       "    'inventoryTurnover': '5.152063594703253',\n",
       "    'fixedAssetTurnover': '7.700414411129498',\n",
       "    'assetTurnover': '0.8095929150303476'},\n",
       "   'liquidityMeasurementRatios': {'currentRatio': '2.2416160006169905',\n",
       "    'quickRatio': '1.9355523563462174',\n",
       "    'cashRatio': '0.7984755196215793',\n",
       "    'daysOfSalesOutstanding': '88.20569237136458',\n",
       "    'daysOfInventoryOutstanding': '70.84539879811463',\n",
       "    'operatingCycle': '159.0510911694792',\n",
       "    'daysOfPayablesOutstanding': '35.45108217430748',\n",
       "    'cashConversionCycle': '52.7546101970571'},\n",
       "   'debtRatios': {'debtRatio': '0.670572944504364',\n",
       "    'debtEquityRatio': '2.053820326453381',\n",
       "    'longtermDebtToCapitalization': '0.3103255499607185',\n",
       "    'totalDebtToCapitalization': '3.9855700000083864E8',\n",
       "    'interestCoverage': '7.805777663141605',\n",
       "    'cashFlowToDebtRatio': '0.47296658200608055',\n",
       "    'companyEquityMultiplier': '3.062784359681269'},\n",
       "   'cashFlowIndicatorRatios': {'operatingCashFlowPerShare': '3.231796773955056',\n",
       "    'freeCashFlowPerShare': '2.8286557138414543',\n",
       "    'cashPerShare': '6.372733780608234',\n",
       "    'payoutRatio': '0.34950245039445377',\n",
       "    'receivablesTurnover': '4.138054928056944',\n",
       "    'operatingCashFlowSalesRatio': '0.08605850725501436',\n",
       "    'freeCashFlowOperatingCashFlowRatio': '0.8752579174029437',\n",
       "    'cashFlowCoverageRatios': '0.47296658200608055',\n",
       "    'shortTermCoverageRatios': '175.33766233766235',\n",
       "    'capitalExpenditureCoverageRatios': '-8.016540843158877',\n",
       "    'dividendpaidAndCapexCoverageRatios': '8.145399698340874',\n",
       "    'dividendPayoutRatio': '0.3495024503944537'}}]}"
      ]
     },
     "execution_count": 3,
     "metadata": {},
     "output_type": "execute_result"
    }
   ],
   "source": [
    "fr = fr.json()\n",
    "fr"
   ]
  },
  {
   "cell_type": "code",
   "execution_count": 4,
   "metadata": {},
   "outputs": [
    {
     "data": {
      "text/plain": [
       "'CR'"
      ]
     },
     "execution_count": 4,
     "metadata": {},
     "output_type": "execute_result"
    }
   ],
   "source": [
    "fr['symbol']"
   ]
  },
  {
   "cell_type": "code",
   "execution_count": 5,
   "metadata": {},
   "outputs": [
    {
     "data": {
      "text/plain": [
       "11"
      ]
     },
     "execution_count": 5,
     "metadata": {},
     "output_type": "execute_result"
    }
   ],
   "source": [
    "len(fr['ratios'])"
   ]
  },
  {
   "cell_type": "code",
   "execution_count": 6,
   "metadata": {},
   "outputs": [
    {
     "name": "stdout",
     "output_type": "stream",
     "text": [
      "2019-12-31\n",
      "2018-12-31\n",
      "2017-12-31\n",
      "2016-12-31\n",
      "2015-12-31\n",
      "2014-12-31\n",
      "2013-12-31\n",
      "2012-12-31\n",
      "2011-12-31\n",
      "2010-12-31\n",
      "2009-12-31\n"
     ]
    }
   ],
   "source": [
    "for i in range(len(fr['ratios'])):\n",
    "    print(fr['ratios'][i]['date'])"
   ]
  },
  {
   "cell_type": "code",
   "execution_count": 7,
   "metadata": {},
   "outputs": [
    {
     "name": "stdout",
     "output_type": "stream",
     "text": [
      "['2019', '2018', '2017', '2016', '2015', '2014', '2013', '2012', '2011', '2010', '2009']\n"
     ]
    }
   ],
   "source": [
    "\n",
    "years=[]\n",
    "for i in range(len(fr['ratios'])):\n",
    "    years.append(fr['ratios'][i]['date'][0:4])\n",
    "print (years)"
   ]
  },
  {
   "cell_type": "code",
   "execution_count": 8,
   "metadata": {},
   "outputs": [
    {
     "name": "stdout",
     "output_type": "stream",
     "text": [
      "6.822742474916388\n",
      "6.030201342281879\n",
      "12.30976430976431\n",
      "9.526495726495726\n",
      "7.082616179001721\n",
      "6.812795037406909\n",
      "5.61484385795219\n",
      "8.343697230297861\n",
      "5.301066758430832\n",
      "5.987901230354431\n",
      "6.372733780608234\n"
     ]
    }
   ],
   "source": [
    "for i in range(len(fr['ratios'])):\n",
    "    print(fr['ratios'][i]['cashFlowIndicatorRatios']['cashPerShare'])"
   ]
  },
  {
   "cell_type": "code",
   "execution_count": 9,
   "metadata": {},
   "outputs": [
    {
     "name": "stdout",
     "output_type": "stream",
     "text": [
      "1.63619504745282\n",
      "1.8412591191569847\n",
      "1.8131343283582089\n",
      "2.526305683563748\n",
      "2.101082402234637\n",
      "1.8674020546072418\n",
      "1.7178779552161603\n",
      "2.306209561466571\n",
      "1.9363002841894972\n",
      "1.9830570008464479\n",
      "2.2416160006169905\n"
     ]
    }
   ],
   "source": [
    "for i in range(len(fr['ratios'])):\n",
    "    print(fr['ratios'][i]['liquidityMeasurementRatios']['currentRatio'])"
   ]
  },
  {
   "cell_type": "markdown",
   "metadata": {},
   "source": [
    "# Current Ratio of > 2 - \n",
    "\n",
    "- tells how well a company can pay its short term bills"
   ]
  },
  {
   "cell_type": "code",
   "execution_count": 10,
   "metadata": {},
   "outputs": [
    {
     "name": "stdout",
     "output_type": "stream",
     "text": [
      "5.436454849498328\n",
      "5.117449664429531\n",
      "4.52020202020202\n",
      "4.557264957264957\n",
      "3.2650602409638556\n",
      "3.752943983367133\n",
      "3.6266926903413017\n",
      "3.576554149330641\n",
      "1.9799552649690295\n",
      "1.919813655057081\n",
      "2.8286557138414543\n"
     ]
    }
   ],
   "source": [
    "for i in range(len(fr['ratios'])):\n",
    "    print(fr['ratios'][i]['cashFlowIndicatorRatios']['freeCashFlowPerShare'])"
   ]
  },
  {
   "cell_type": "code",
   "execution_count": 11,
   "metadata": {},
   "outputs": [
    {
     "name": "stdout",
     "output_type": "stream",
     "text": [
      "6.586956521739131\n",
      "6.942953020134228\n",
      "5.345117845117845\n",
      "5.437606837606838\n",
      "3.946643717728055\n",
      "4.498219124388623\n",
      "4.135553406107503\n",
      "4.086764270668315\n",
      "2.577632484514797\n",
      "2.278732444838825\n",
      "3.231796773955056\n"
     ]
    }
   ],
   "source": [
    "indicator = 'operatingCashFlowPerShare'\n",
    "\n",
    "for i in range(len(fr['ratios'])):\n",
    "    print(fr['ratios'][i]['cashFlowIndicatorRatios'][indicator])"
   ]
  },
  {
   "cell_type": "markdown",
   "metadata": {},
   "source": [
    "## Free Cash Flow vs. Operating Cash Flow: An Overview\n",
    "\n",
    "- Free cash flow is most commonly defined as operating cash flow minus capital expenditures. \n",
    "- Free cash flow also includes dividend outlays as a capital expenditure. \n",
    "- Capital expenditures are considered necessary to maintain a company's competitive position and operating efficiency.\n",
    "\n",
    "- Operating cash flow should always be higher and maybe less indicative of success - tony\n",
    "\n",
    "### So free cash flow\n",
    " is what is left over after **operating cash flow** pays for capital expenditures - things like land, buildings and machinery\n",
    " \n",
    "## single best predictor of excess return\n"
   ]
  },
  {
   "cell_type": "markdown",
   "metadata": {},
   "source": [
    " 'investmentValuationRatios': {'priceBookValueRatio': '3.346073149216258',\n",
    "    'priceToBookRatio': '3.346073149216258',\n",
    "    'priceToSalesRatio': '1.5019670433431818',\n",
    "    'priceEarningsRatio': '36.99255813953488',\n",
    "    'receivablesTurnover': '5.914429832462619',\n",
    "    'priceToFreeCashFlowsRatio': '15.167972931405721',\n",
    "    'priceToOperatingCashFlowsRatio': '12.518679867986798',\n",
    "    'priceCashFlowRatio': '12.518679867986798',\n",
    "    'priceEarningsToGrowthRatio': '6.591641766222246',\n",
    "    'priceSalesRatio': '1.5019670433431818',\n",
    "    'dividendYield': '0.018900417512656385',\n",
    "    'enterpriseValueMultiple': '17.068873108984253',"
   ]
  },
  {
   "cell_type": "code",
   "execution_count": 12,
   "metadata": {},
   "outputs": [
    {
     "name": "stdout",
     "output_type": "stream",
     "text": [
      "1.8900417512656384\n",
      "1.6222866042257942\n",
      "1.58295193075716\n",
      "1.771353180749154\n",
      "2.539812219679831\n",
      "2.1727724968478785\n",
      "1.8783471670731842\n",
      "2.549936639789578\n",
      "2.076645232679587\n",
      "2.2216560108612255\n",
      "2.823524519467095\n"
     ]
    }
   ],
   "source": [
    "indicator = 'dividendYield'\n",
    "\n",
    "for i in range(len(fr['ratios'])):\n",
    "    yieldr = float(fr['ratios'][i]['investmentValuationRatios'][indicator]) * 100\n",
    "    print(yieldr)"
   ]
  },
  {
   "cell_type": "code",
   "execution_count": 13,
   "metadata": {},
   "outputs": [],
   "source": [
    "def make_df(list1, list2, cat):\n",
    "    df = pd.DataFrame(list(zip(list1, list2)), \n",
    "               columns =['Year', cat]) \n",
    "    return df"
   ]
  },
  {
   "cell_type": "code",
   "execution_count": 14,
   "metadata": {},
   "outputs": [
    {
     "name": "stdout",
     "output_type": "stream",
     "text": [
      "[36.99255813953488, 15.336877234803337, 28.82870779976717, 35.490635179153095, 13.175932721712536, 17.64889579181199, 16.31623657187634, 11.200422732530543, 104.2913319399582, 14.706315690471556, 12.378233232428878]\n"
     ]
    }
   ],
   "source": [
    "cat = 'investmentValuationRatios'\n",
    "indicator = 'priceEarningsRatio'\n",
    "\n",
    "def func(i):\n",
    "    return float(fr['ratios'][i][cat][indicator])\n",
    "r = list(map(func, range(len(fr['ratios']))))\n",
    "print(r)\n",
    "\n",
    "df = make_df(years,r,indicator)"
   ]
  },
  {
   "cell_type": "code",
   "execution_count": 15,
   "metadata": {},
   "outputs": [
    {
     "data": {
      "text/html": [
       "<div>\n",
       "<style scoped>\n",
       "    .dataframe tbody tr th:only-of-type {\n",
       "        vertical-align: middle;\n",
       "    }\n",
       "\n",
       "    .dataframe tbody tr th {\n",
       "        vertical-align: top;\n",
       "    }\n",
       "\n",
       "    .dataframe thead th {\n",
       "        text-align: right;\n",
       "    }\n",
       "</style>\n",
       "<table border=\"1\" class=\"dataframe\">\n",
       "  <thead>\n",
       "    <tr style=\"text-align: right;\">\n",
       "      <th></th>\n",
       "      <th>Year</th>\n",
       "      <th>priceEarningsRatio</th>\n",
       "    </tr>\n",
       "  </thead>\n",
       "  <tbody>\n",
       "    <tr>\n",
       "      <th>0</th>\n",
       "      <td>2019</td>\n",
       "      <td>36.992558</td>\n",
       "    </tr>\n",
       "    <tr>\n",
       "      <th>1</th>\n",
       "      <td>2018</td>\n",
       "      <td>15.336877</td>\n",
       "    </tr>\n",
       "    <tr>\n",
       "      <th>2</th>\n",
       "      <td>2017</td>\n",
       "      <td>28.828708</td>\n",
       "    </tr>\n",
       "    <tr>\n",
       "      <th>3</th>\n",
       "      <td>2016</td>\n",
       "      <td>35.490635</td>\n",
       "    </tr>\n",
       "    <tr>\n",
       "      <th>4</th>\n",
       "      <td>2015</td>\n",
       "      <td>13.175933</td>\n",
       "    </tr>\n",
       "    <tr>\n",
       "      <th>5</th>\n",
       "      <td>2014</td>\n",
       "      <td>17.648896</td>\n",
       "    </tr>\n",
       "    <tr>\n",
       "      <th>6</th>\n",
       "      <td>2013</td>\n",
       "      <td>16.316237</td>\n",
       "    </tr>\n",
       "    <tr>\n",
       "      <th>7</th>\n",
       "      <td>2012</td>\n",
       "      <td>11.200423</td>\n",
       "    </tr>\n",
       "    <tr>\n",
       "      <th>8</th>\n",
       "      <td>2011</td>\n",
       "      <td>104.291332</td>\n",
       "    </tr>\n",
       "    <tr>\n",
       "      <th>9</th>\n",
       "      <td>2010</td>\n",
       "      <td>14.706316</td>\n",
       "    </tr>\n",
       "    <tr>\n",
       "      <th>10</th>\n",
       "      <td>2009</td>\n",
       "      <td>12.378233</td>\n",
       "    </tr>\n",
       "  </tbody>\n",
       "</table>\n",
       "</div>"
      ],
      "text/plain": [
       "    Year  priceEarningsRatio\n",
       "0   2019           36.992558\n",
       "1   2018           15.336877\n",
       "2   2017           28.828708\n",
       "3   2016           35.490635\n",
       "4   2015           13.175933\n",
       "5   2014           17.648896\n",
       "6   2013           16.316237\n",
       "7   2012           11.200423\n",
       "8   2011          104.291332\n",
       "9   2010           14.706316\n",
       "10  2009           12.378233"
      ]
     },
     "execution_count": 15,
     "metadata": {},
     "output_type": "execute_result"
    }
   ],
   "source": [
    "df"
   ]
  },
  {
   "cell_type": "code",
   "execution_count": 16,
   "metadata": {},
   "outputs": [
    {
     "data": {
      "text/plain": [
       "<matplotlib.axes._subplots.AxesSubplot at 0x7f1495d45400>"
      ]
     },
     "execution_count": 16,
     "metadata": {},
     "output_type": "execute_result"
    },
    {
     "data": {
      "image/png": "[encoded data removed]",
      "text/plain": [
       "<Figure size 432x288 with 1 Axes>"
      ]
     },
     "metadata": {
      "needs_background": "light"
     },
     "output_type": "display_data"
    }
   ],
   "source": [
    "df.plot.bar(x='Year')"
   ]
  },
  {
   "cell_type": "code",
   "execution_count": 17,
   "metadata": {},
   "outputs": [
    {
     "data": {
      "text/plain": [
       "27.85146791218623"
      ]
     },
     "execution_count": 17,
     "metadata": {},
     "output_type": "execute_result"
    }
   ],
   "source": [
    "df[indicator].mean()"
   ]
  },
  {
   "cell_type": "markdown",
   "metadata": {},
   "source": [
    "# Toss out outliers "
   ]
  },
  {
   "cell_type": "code",
   "execution_count": 18,
   "metadata": {},
   "outputs": [],
   "source": [
    "q_low = df[indicator].quantile(0.01)\n",
    "q_hi  = df[indicator].quantile(0.99)\n",
    "\n",
    "df_filtered = df[(df[indicator] < q_hi) & (df[indicator] > q_low)]"
   ]
  },
  {
   "cell_type": "code",
   "execution_count": 19,
   "metadata": {},
   "outputs": [
    {
     "data": {
      "text/html": [
       "<div>\n",
       "<style scoped>\n",
       "    .dataframe tbody tr th:only-of-type {\n",
       "        vertical-align: middle;\n",
       "    }\n",
       "\n",
       "    .dataframe tbody tr th {\n",
       "        vertical-align: top;\n",
       "    }\n",
       "\n",
       "    .dataframe thead th {\n",
       "        text-align: right;\n",
       "    }\n",
       "</style>\n",
       "<table border=\"1\" class=\"dataframe\">\n",
       "  <thead>\n",
       "    <tr style=\"text-align: right;\">\n",
       "      <th></th>\n",
       "      <th>Year</th>\n",
       "      <th>priceEarningsRatio</th>\n",
       "    </tr>\n",
       "  </thead>\n",
       "  <tbody>\n",
       "    <tr>\n",
       "      <th>0</th>\n",
       "      <td>2019</td>\n",
       "      <td>36.992558</td>\n",
       "    </tr>\n",
       "    <tr>\n",
       "      <th>1</th>\n",
       "      <td>2018</td>\n",
       "      <td>15.336877</td>\n",
       "    </tr>\n",
       "    <tr>\n",
       "      <th>2</th>\n",
       "      <td>2017</td>\n",
       "      <td>28.828708</td>\n",
       "    </tr>\n",
       "    <tr>\n",
       "      <th>3</th>\n",
       "      <td>2016</td>\n",
       "      <td>35.490635</td>\n",
       "    </tr>\n",
       "    <tr>\n",
       "      <th>4</th>\n",
       "      <td>2015</td>\n",
       "      <td>13.175933</td>\n",
       "    </tr>\n",
       "    <tr>\n",
       "      <th>5</th>\n",
       "      <td>2014</td>\n",
       "      <td>17.648896</td>\n",
       "    </tr>\n",
       "    <tr>\n",
       "      <th>6</th>\n",
       "      <td>2013</td>\n",
       "      <td>16.316237</td>\n",
       "    </tr>\n",
       "    <tr>\n",
       "      <th>9</th>\n",
       "      <td>2010</td>\n",
       "      <td>14.706316</td>\n",
       "    </tr>\n",
       "    <tr>\n",
       "      <th>10</th>\n",
       "      <td>2009</td>\n",
       "      <td>12.378233</td>\n",
       "    </tr>\n",
       "  </tbody>\n",
       "</table>\n",
       "</div>"
      ],
      "text/plain": [
       "    Year  priceEarningsRatio\n",
       "0   2019           36.992558\n",
       "1   2018           15.336877\n",
       "2   2017           28.828708\n",
       "3   2016           35.490635\n",
       "4   2015           13.175933\n",
       "5   2014           17.648896\n",
       "6   2013           16.316237\n",
       "9   2010           14.706316\n",
       "10  2009           12.378233"
      ]
     },
     "execution_count": 19,
     "metadata": {},
     "output_type": "execute_result"
    }
   ],
   "source": [
    "df_filtered"
   ]
  },
  {
   "cell_type": "markdown",
   "metadata": {},
   "source": [
    "# Filtered PE - more the norm"
   ]
  },
  {
   "cell_type": "code",
   "execution_count": 20,
   "metadata": {},
   "outputs": [
    {
     "name": "stdout",
     "output_type": "stream",
     "text": [
      "AVG  priceEarningsRatio\n"
     ]
    },
    {
     "data": {
      "text/plain": [
       "21"
      ]
     },
     "execution_count": 20,
     "metadata": {},
     "output_type": "execute_result"
    }
   ],
   "source": [
    "print(\"AVG \",indicator)\n",
    "int(df_filtered[indicator].mean())"
   ]
  },
  {
   "cell_type": "markdown",
   "metadata": {},
   "source": [
    "## Earnings per share is a measure \n",
    "\n",
    "- of how much profit a company has generated. \n",
    "- Companies usually report their earnings per share on a quarterly or yearly basis.\n",
    "\n",
    "\n",
    "- the difference between a company's net income and dividends paid for preferred stock and then dividing that figure by the average number of shares outstanding.\n",
    "\n",
    "\n",
    "### Diluted earnings per share\n",
    "\n",
    "- the diluted earnings-per-share calculation takes all convertible securities into consideration. A company might have convertible preferred shares or stock options that could theoretically become common stock. \n",
    "\n",
    "\n",
    "### Limitations of earnings per share\n",
    "When a company's earnings increase, it's an indication that the company is doing well financially and that it's potentially a worthwhile investment. \n",
    "\n",
    "- But as a measure of a company's financial health, the earnings-per-share calculation has its limitations. \n",
    "    - Because companies have the option to buy back their own shares, they can improve their earnings per share by reducing their number of shares outstanding without actually increasing their net income. \n",
    "    - In this regard, companies can essentially manipulate investors into thinking they're doing better than they actually are. Furthermore, earnings per share does not take factors such as a company's outstanding debt into account.\n",
    "\n",
    "- Finally, earnings per share does not consider the capital needed to generate the earnings in question. \n",
    "    - If two companies report the same earnings per share but one uses less capital to bring in that income\n",
    "\n"
   ]
  },
  {
   "cell_type": "code",
   "execution_count": 21,
   "metadata": {},
   "outputs": [
    {
     "name": "stdout",
     "output_type": "stream",
     "text": [
      "[1.5019670433431818, 1.5385012703631744, 1.7777358219669777, 1.5859716157205241, 1.1005185185185185, 1.1625475342367872, 1.3799841173267942, 0.9423610893547593, 1.0779928409457367, 1.0222955778747196, 0.7543907247456338]\n"
     ]
    }
   ],
   "source": [
    "cat = 'investmentValuationRatios'\n",
    "indicator = 'priceSalesRatio'\n",
    "\n",
    "r = list(map(func, range(len(fr['ratios']))))\n",
    "print(r)"
   ]
  },
  {
   "cell_type": "code",
   "execution_count": 22,
   "metadata": {},
   "outputs": [
    {
     "data": {
      "text/html": [
       "<div>\n",
       "<style scoped>\n",
       "    .dataframe tbody tr th:only-of-type {\n",
       "        vertical-align: middle;\n",
       "    }\n",
       "\n",
       "    .dataframe tbody tr th {\n",
       "        vertical-align: top;\n",
       "    }\n",
       "\n",
       "    .dataframe thead th {\n",
       "        text-align: right;\n",
       "    }\n",
       "</style>\n",
       "<table border=\"1\" class=\"dataframe\">\n",
       "  <thead>\n",
       "    <tr style=\"text-align: right;\">\n",
       "      <th></th>\n",
       "      <th>Year</th>\n",
       "      <th>priceSalesRatio</th>\n",
       "    </tr>\n",
       "  </thead>\n",
       "  <tbody>\n",
       "    <tr>\n",
       "      <th>0</th>\n",
       "      <td>2019</td>\n",
       "      <td>1.501967</td>\n",
       "    </tr>\n",
       "    <tr>\n",
       "      <th>1</th>\n",
       "      <td>2018</td>\n",
       "      <td>1.538501</td>\n",
       "    </tr>\n",
       "    <tr>\n",
       "      <th>2</th>\n",
       "      <td>2017</td>\n",
       "      <td>1.777736</td>\n",
       "    </tr>\n",
       "    <tr>\n",
       "      <th>3</th>\n",
       "      <td>2016</td>\n",
       "      <td>1.585972</td>\n",
       "    </tr>\n",
       "    <tr>\n",
       "      <th>4</th>\n",
       "      <td>2015</td>\n",
       "      <td>1.100519</td>\n",
       "    </tr>\n",
       "    <tr>\n",
       "      <th>5</th>\n",
       "      <td>2014</td>\n",
       "      <td>1.162548</td>\n",
       "    </tr>\n",
       "    <tr>\n",
       "      <th>6</th>\n",
       "      <td>2013</td>\n",
       "      <td>1.379984</td>\n",
       "    </tr>\n",
       "    <tr>\n",
       "      <th>7</th>\n",
       "      <td>2012</td>\n",
       "      <td>0.942361</td>\n",
       "    </tr>\n",
       "    <tr>\n",
       "      <th>8</th>\n",
       "      <td>2011</td>\n",
       "      <td>1.077993</td>\n",
       "    </tr>\n",
       "    <tr>\n",
       "      <th>9</th>\n",
       "      <td>2010</td>\n",
       "      <td>1.022296</td>\n",
       "    </tr>\n",
       "    <tr>\n",
       "      <th>10</th>\n",
       "      <td>2009</td>\n",
       "      <td>0.754391</td>\n",
       "    </tr>\n",
       "  </tbody>\n",
       "</table>\n",
       "</div>"
      ],
      "text/plain": [
       "    Year  priceSalesRatio\n",
       "0   2019         1.501967\n",
       "1   2018         1.538501\n",
       "2   2017         1.777736\n",
       "3   2016         1.585972\n",
       "4   2015         1.100519\n",
       "5   2014         1.162548\n",
       "6   2013         1.379984\n",
       "7   2012         0.942361\n",
       "8   2011         1.077993\n",
       "9   2010         1.022296\n",
       "10  2009         0.754391"
      ]
     },
     "execution_count": 22,
     "metadata": {},
     "output_type": "execute_result"
    }
   ],
   "source": [
    "df = make_df(years,r,indicator)\n",
    "df"
   ]
  },
  {
   "cell_type": "code",
   "execution_count": 23,
   "metadata": {},
   "outputs": [
    {
     "data": {
      "text/plain": [
       "<matplotlib.axes._subplots.AxesSubplot at 0x7f149497ceb8>"
      ]
     },
     "execution_count": 23,
     "metadata": {},
     "output_type": "execute_result"
    },
    {
     "data": {
      "image/png": "[encoded data removed]",
      "text/plain": [
       "<Figure size 432x288 with 1 Axes>"
      ]
     },
     "metadata": {
      "needs_background": "light"
     },
     "output_type": "display_data"
    }
   ],
   "source": [
    "df.plot.bar(x='Year')"
   ]
  },
  {
   "cell_type": "code",
   "execution_count": 24,
   "metadata": {},
   "outputs": [
    {
     "name": "stdout",
     "output_type": "stream",
     "text": [
      "so below this the stock may be a value\n",
      "AVG  priceSalesRatio\n"
     ]
    },
    {
     "data": {
      "text/plain": [
       "1.2585696503997097"
      ]
     },
     "execution_count": 24,
     "metadata": {},
     "output_type": "execute_result"
    }
   ],
   "source": [
    "# Price to Sales is harder to manipulate - \n",
    "\n",
    "avgr=df[indicator].mean()\n",
    "print( \"so below this the stock may be a value\")\n",
    "print(\"AVG \",indicator)\n",
    "df[indicator].mean()\n",
    "\n",
    "\n"
   ]
  },
  {
   "cell_type": "markdown",
   "metadata": {},
   "source": [
    "# macrotrends pretty cool\n",
    "https://www.macrotrends.net/stocks/charts/CR/crane/price-sales"
   ]
  },
  {
   "cell_type": "markdown",
   "metadata": {},
   "source": [
    "profitabilityIndicatorRatios': {'niperEBT': '0.6852850374880849',\n",
    "    'ebtperEBIT': '0.8889183976730216',\n",
    "    'ebitperRevenue': '0.10813344423942998',\n",
    "    'grossProfitMargin': '0.34745437345747704',\n",
    "    'operatingProfitMargin': '0.10813344423942998',\n",
    "    'pretaxProfitMargin': '0.09612180798817914',\n",
    "    'netProfitMargin': '0.06587083679060184',"
   ]
  },
  {
   "cell_type": "code",
   "execution_count": 25,
   "metadata": {},
   "outputs": [
    {
     "name": "stdout",
     "output_type": "stream",
     "text": [
      "4.060187018366788\n",
      "10.031385443132566\n",
      "6.166547020818378\n",
      "4.468704512372634\n",
      "8.352490421455938\n",
      "6.587083679060184\n",
      "8.457735405144954\n",
      "8.413620734311774\n",
      "1.0336360854671514\n",
      "6.951405092827432\n",
      "6.094494348105009\n"
     ]
    }
   ],
   "source": [
    "cat = 'profitabilityIndicatorRatios'\n",
    "indicator = 'netProfitMargin'\n",
    "\n",
    "for i in range(len(fr['ratios'])):\n",
    "    yieldr = float(fr['ratios'][i][cat][indicator]) * 100\n",
    "    print(yieldr)"
   ]
  },
  {
   "cell_type": "markdown",
   "metadata": {},
   "source": [
    "# What Is Net Profit Margin?\n",
    "\n",
    "The net profit margin is equal to how much net income or profit is generated as a percentage of revenue. \n",
    "\n",
    "- Net profit margin is the ratio of net profits to revenues for a company or business segment. \n",
    "\n",
    "The net profit margin illustrates how much of each dollar in revenue collected by a company translates into profit.\n"
   ]
  },
  {
   "cell_type": "code",
   "execution_count": 26,
   "metadata": {},
   "outputs": [
    {
     "name": "stdout",
     "output_type": "stream",
     "text": [
      "6.408577259297616\n",
      "13.190853385144225\n",
      "14.42569992821249\n",
      "7.288937409024745\n",
      "13.607006020799126\n",
      "10.813344423942999\n",
      "13.404174730982888\n",
      "12.0369451290156\n",
      "1.6601024326879605\n",
      "10.603271222932378\n",
      "9.482535287065819\n"
     ]
    }
   ],
   "source": [
    "cat = 'profitabilityIndicatorRatios'\n",
    "indicator = 'operatingProfitMargin'\n",
    "\n",
    "for i in range(len(fr['ratios'])):\n",
    "    yieldr = float(fr['ratios'][i][cat][indicator]) * 100\n",
    "    print(yieldr)"
   ]
  },
  {
   "cell_type": "code",
   "execution_count": 27,
   "metadata": {},
   "outputs": [
    {
     "name": "stdout",
     "output_type": "stream",
     "text": [
      "[6.408577259297616, 13.190853385144225, 14.42569992821249, 7.288937409024745, 13.607006020799126, 10.813344423942999, 13.404174730982888, 12.0369451290156, 1.6601024326879605, 10.603271222932378, 9.482535287065819]\n"
     ]
    }
   ],
   "source": [
    "def func(i):\n",
    "    return float(fr['ratios'][i][cat][indicator]) * 100\n",
    "r = list(map(func, range(len(fr['ratios']))))\n",
    "print(r)\n",
    "                            "
   ]
  },
  {
   "cell_type": "code",
   "execution_count": 28,
   "metadata": {},
   "outputs": [
    {
     "data": {
      "text/html": [
       "<div>\n",
       "<style scoped>\n",
       "    .dataframe tbody tr th:only-of-type {\n",
       "        vertical-align: middle;\n",
       "    }\n",
       "\n",
       "    .dataframe tbody tr th {\n",
       "        vertical-align: top;\n",
       "    }\n",
       "\n",
       "    .dataframe thead th {\n",
       "        text-align: right;\n",
       "    }\n",
       "</style>\n",
       "<table border=\"1\" class=\"dataframe\">\n",
       "  <thead>\n",
       "    <tr style=\"text-align: right;\">\n",
       "      <th></th>\n",
       "      <th>Name</th>\n",
       "      <th>val</th>\n",
       "    </tr>\n",
       "  </thead>\n",
       "  <tbody>\n",
       "    <tr>\n",
       "      <th>0</th>\n",
       "      <td>Geeks</td>\n",
       "      <td>11</td>\n",
       "    </tr>\n",
       "    <tr>\n",
       "      <th>1</th>\n",
       "      <td>For</td>\n",
       "      <td>22</td>\n",
       "    </tr>\n",
       "    <tr>\n",
       "      <th>2</th>\n",
       "      <td>Geeks</td>\n",
       "      <td>33</td>\n",
       "    </tr>\n",
       "    <tr>\n",
       "      <th>3</th>\n",
       "      <td>is</td>\n",
       "      <td>44</td>\n",
       "    </tr>\n",
       "    <tr>\n",
       "      <th>4</th>\n",
       "      <td>portal</td>\n",
       "      <td>55</td>\n",
       "    </tr>\n",
       "    <tr>\n",
       "      <th>5</th>\n",
       "      <td>for</td>\n",
       "      <td>66</td>\n",
       "    </tr>\n",
       "    <tr>\n",
       "      <th>6</th>\n",
       "      <td>Geeks</td>\n",
       "      <td>77</td>\n",
       "    </tr>\n",
       "  </tbody>\n",
       "</table>\n",
       "</div>"
      ],
      "text/plain": [
       "     Name  val\n",
       "0   Geeks   11\n",
       "1     For   22\n",
       "2   Geeks   33\n",
       "3      is   44\n",
       "4  portal   55\n",
       "5     for   66\n",
       "6   Geeks   77"
      ]
     },
     "execution_count": 28,
     "metadata": {},
     "output_type": "execute_result"
    }
   ],
   "source": [
    "\n",
    "# import pandas as pd \n",
    "import pandas as pd \n",
    "  \n",
    "# list of strings \n",
    "lst = ['Geeks', 'For', 'Geeks', 'is', 'portal', 'for', 'Geeks'] \n",
    "  \n",
    "# list of int \n",
    "lst2 = [11, 22, 33, 44, 55, 66, 77] \n",
    "  \n",
    "# Calling DataFrame constructor after zipping \n",
    "# both lists, with columns specified \n",
    "df = pd.DataFrame(list(zip(lst, lst2)), \n",
    "               columns =['Name', 'val']) \n",
    "df \n"
   ]
  },
  {
   "cell_type": "code",
   "execution_count": 29,
   "metadata": {},
   "outputs": [
    {
     "name": "stdout",
     "output_type": "stream",
     "text": [
      "[6.408577259297616, 13.190853385144225, 14.42569992821249, 7.288937409024745, 13.607006020799126, 10.813344423942999, 13.404174730982888, 12.0369451290156, 1.6601024326879605, 10.603271222932378, 9.482535287065819]\n",
      "['2019', '2018', '2017', '2016', '2015', '2014', '2013', '2012', '2011', '2010', '2009']\n"
     ]
    }
   ],
   "source": [
    "def func(i):\n",
    "    return float(fr['ratios'][i][cat][indicator]) * 100\n",
    "r = list(map(func, range(len(fr['ratios']))))\n",
    "print(r)\n",
    "\n",
    "years=[]\n",
    "for i in range(len(fr['ratios'])):\n",
    "    years.append(fr['ratios'][i]['date'][0:4])\n",
    "print (years)"
   ]
  },
  {
   "cell_type": "code",
   "execution_count": 30,
   "metadata": {},
   "outputs": [
    {
     "data": {
      "text/html": [
       "<div>\n",
       "<style scoped>\n",
       "    .dataframe tbody tr th:only-of-type {\n",
       "        vertical-align: middle;\n",
       "    }\n",
       "\n",
       "    .dataframe tbody tr th {\n",
       "        vertical-align: top;\n",
       "    }\n",
       "\n",
       "    .dataframe thead th {\n",
       "        text-align: right;\n",
       "    }\n",
       "</style>\n",
       "<table border=\"1\" class=\"dataframe\">\n",
       "  <thead>\n",
       "    <tr style=\"text-align: right;\">\n",
       "      <th></th>\n",
       "      <th>Year</th>\n",
       "      <th>operatingProfitMargin</th>\n",
       "    </tr>\n",
       "  </thead>\n",
       "  <tbody>\n",
       "    <tr>\n",
       "      <th>0</th>\n",
       "      <td>2019</td>\n",
       "      <td>6.408577</td>\n",
       "    </tr>\n",
       "    <tr>\n",
       "      <th>1</th>\n",
       "      <td>2018</td>\n",
       "      <td>13.190853</td>\n",
       "    </tr>\n",
       "    <tr>\n",
       "      <th>2</th>\n",
       "      <td>2017</td>\n",
       "      <td>14.425700</td>\n",
       "    </tr>\n",
       "    <tr>\n",
       "      <th>3</th>\n",
       "      <td>2016</td>\n",
       "      <td>7.288937</td>\n",
       "    </tr>\n",
       "    <tr>\n",
       "      <th>4</th>\n",
       "      <td>2015</td>\n",
       "      <td>13.607006</td>\n",
       "    </tr>\n",
       "    <tr>\n",
       "      <th>5</th>\n",
       "      <td>2014</td>\n",
       "      <td>10.813344</td>\n",
       "    </tr>\n",
       "    <tr>\n",
       "      <th>6</th>\n",
       "      <td>2013</td>\n",
       "      <td>13.404175</td>\n",
       "    </tr>\n",
       "    <tr>\n",
       "      <th>7</th>\n",
       "      <td>2012</td>\n",
       "      <td>12.036945</td>\n",
       "    </tr>\n",
       "    <tr>\n",
       "      <th>8</th>\n",
       "      <td>2011</td>\n",
       "      <td>1.660102</td>\n",
       "    </tr>\n",
       "    <tr>\n",
       "      <th>9</th>\n",
       "      <td>2010</td>\n",
       "      <td>10.603271</td>\n",
       "    </tr>\n",
       "    <tr>\n",
       "      <th>10</th>\n",
       "      <td>2009</td>\n",
       "      <td>9.482535</td>\n",
       "    </tr>\n",
       "  </tbody>\n",
       "</table>\n",
       "</div>"
      ],
      "text/plain": [
       "    Year  operatingProfitMargin\n",
       "0   2019               6.408577\n",
       "1   2018              13.190853\n",
       "2   2017              14.425700\n",
       "3   2016               7.288937\n",
       "4   2015              13.607006\n",
       "5   2014              10.813344\n",
       "6   2013              13.404175\n",
       "7   2012              12.036945\n",
       "8   2011               1.660102\n",
       "9   2010              10.603271\n",
       "10  2009               9.482535"
      ]
     },
     "execution_count": 30,
     "metadata": {},
     "output_type": "execute_result"
    }
   ],
   "source": [
    "df = pd.DataFrame(list(zip(years, r)), \n",
    "               columns =['Year', 'operatingProfitMargin']) \n",
    "df \n"
   ]
  },
  {
   "cell_type": "markdown",
   "metadata": {},
   "source": [
    "# avg operating profit margin for s&p is 10\n",
    "\n"
   ]
  },
  {
   "cell_type": "code",
   "execution_count": 31,
   "metadata": {},
   "outputs": [
    {
     "data": {
      "text/plain": [
       "<matplotlib.axes._subplots.AxesSubplot at 0x7f14948abfd0>"
      ]
     },
     "execution_count": 31,
     "metadata": {},
     "output_type": "execute_result"
    },
    {
     "data": {
      "image/png": "[encoded data removed]",
      "text/plain": [
       "<Figure size 432x288 with 1 Axes>"
      ]
     },
     "metadata": {
      "needs_background": "light"
     },
     "output_type": "display_data"
    }
   ],
   "source": [
    "df.plot.bar(x='Year')"
   ]
  },
  {
   "cell_type": "code",
   "execution_count": 32,
   "metadata": {},
   "outputs": [
    {
     "name": "stdout",
     "output_type": "stream",
     "text": [
      "[0.06408577259297615, 0.13190853385144224, 0.1442569992821249, 0.07288937409024746, 0.13607006020799126, 0.10813344423942998, 0.13404174730982887, 0.12036945129015598, 0.016601024326879606, 0.10603271222932377, 0.09482535287065819]\n"
     ]
    }
   ],
   "source": [
    "#priceToFreeCashFlowsRatio\n",
    "\n",
    "def func(i):\n",
    "    return float(fr['ratios'][i][cat][indicator])\n",
    "\n",
    "\n",
    "r = list(map(func, range(len(fr['ratios']))))\n",
    "print(r)\n",
    "\n",
    "\n"
   ]
  },
  {
   "cell_type": "code",
   "execution_count": 33,
   "metadata": {},
   "outputs": [
    {
     "name": "stdout",
     "output_type": "stream",
     "text": [
      "[15.167972931405721, 16.87559344262295, 18.4460782122905, 16.347524381095273, 15.898634686346863, 15.441211021755617, 17.056862900114776, 11.829822290798646, 23.84902368020856, 20.15299760895265, 10.015358129790371]\n"
     ]
    }
   ],
   "source": [
    "cat = 'investmentValuationRatios'\n",
    "indicator = 'priceToFreeCashFlowsRatio'\n",
    "\n",
    "def func(i):\n",
    "    return float(fr['ratios'][i][cat][indicator])\n",
    "r = list(map(func, range(len(fr['ratios']))))\n",
    "print(r)\n",
    "\n",
    "df = make_df(years,r,indicator)"
   ]
  },
  {
   "cell_type": "code",
   "execution_count": 34,
   "metadata": {},
   "outputs": [
    {
     "data": {
      "text/html": [
       "<div>\n",
       "<style scoped>\n",
       "    .dataframe tbody tr th:only-of-type {\n",
       "        vertical-align: middle;\n",
       "    }\n",
       "\n",
       "    .dataframe tbody tr th {\n",
       "        vertical-align: top;\n",
       "    }\n",
       "\n",
       "    .dataframe thead th {\n",
       "        text-align: right;\n",
       "    }\n",
       "</style>\n",
       "<table border=\"1\" class=\"dataframe\">\n",
       "  <thead>\n",
       "    <tr style=\"text-align: right;\">\n",
       "      <th></th>\n",
       "      <th>Year</th>\n",
       "      <th>priceToFreeCashFlowsRatio</th>\n",
       "    </tr>\n",
       "  </thead>\n",
       "  <tbody>\n",
       "    <tr>\n",
       "      <th>0</th>\n",
       "      <td>2019</td>\n",
       "      <td>15.167973</td>\n",
       "    </tr>\n",
       "    <tr>\n",
       "      <th>1</th>\n",
       "      <td>2018</td>\n",
       "      <td>16.875593</td>\n",
       "    </tr>\n",
       "    <tr>\n",
       "      <th>2</th>\n",
       "      <td>2017</td>\n",
       "      <td>18.446078</td>\n",
       "    </tr>\n",
       "    <tr>\n",
       "      <th>3</th>\n",
       "      <td>2016</td>\n",
       "      <td>16.347524</td>\n",
       "    </tr>\n",
       "    <tr>\n",
       "      <th>4</th>\n",
       "      <td>2015</td>\n",
       "      <td>15.898635</td>\n",
       "    </tr>\n",
       "    <tr>\n",
       "      <th>5</th>\n",
       "      <td>2014</td>\n",
       "      <td>15.441211</td>\n",
       "    </tr>\n",
       "    <tr>\n",
       "      <th>6</th>\n",
       "      <td>2013</td>\n",
       "      <td>17.056863</td>\n",
       "    </tr>\n",
       "    <tr>\n",
       "      <th>7</th>\n",
       "      <td>2012</td>\n",
       "      <td>11.829822</td>\n",
       "    </tr>\n",
       "    <tr>\n",
       "      <th>8</th>\n",
       "      <td>2011</td>\n",
       "      <td>23.849024</td>\n",
       "    </tr>\n",
       "    <tr>\n",
       "      <th>9</th>\n",
       "      <td>2010</td>\n",
       "      <td>20.152998</td>\n",
       "    </tr>\n",
       "    <tr>\n",
       "      <th>10</th>\n",
       "      <td>2009</td>\n",
       "      <td>10.015358</td>\n",
       "    </tr>\n",
       "  </tbody>\n",
       "</table>\n",
       "</div>"
      ],
      "text/plain": [
       "    Year  priceToFreeCashFlowsRatio\n",
       "0   2019                  15.167973\n",
       "1   2018                  16.875593\n",
       "2   2017                  18.446078\n",
       "3   2016                  16.347524\n",
       "4   2015                  15.898635\n",
       "5   2014                  15.441211\n",
       "6   2013                  17.056863\n",
       "7   2012                  11.829822\n",
       "8   2011                  23.849024\n",
       "9   2010                  20.152998\n",
       "10  2009                  10.015358"
      ]
     },
     "execution_count": 34,
     "metadata": {},
     "output_type": "execute_result"
    }
   ],
   "source": [
    "df"
   ]
  },
  {
   "cell_type": "code",
   "execution_count": 35,
   "metadata": {},
   "outputs": [],
   "source": [
    "def simple_df(cat, indicator):\n",
    "    def func(i):\n",
    "        return float(fr['ratios'][i][cat][indicator])\n",
    "    r = list(map(func, range(len(fr['ratios']))))\n",
    "\n",
    "    df = make_df(years,r,indicator)\n",
    "    return df"
   ]
  },
  {
   "cell_type": "code",
   "execution_count": 36,
   "metadata": {},
   "outputs": [],
   "source": [
    "my_df = simple_df(cat, indicator)"
   ]
  },
  {
   "cell_type": "code",
   "execution_count": 37,
   "metadata": {},
   "outputs": [
    {
     "data": {
      "text/plain": [
       "<matplotlib.axes._subplots.AxesSubplot at 0x7f149487e668>"
      ]
     },
     "execution_count": 37,
     "metadata": {},
     "output_type": "execute_result"
    },
    {
     "data": {
      "image/png": "[encoded data removed]",
      "text/plain": [
       "<Figure size 432x288 with 1 Axes>"
      ]
     },
     "metadata": {
      "needs_background": "light"
     },
     "output_type": "display_data"
    }
   ],
   "source": [
    "my_df.plot.bar(x='Year')"
   ]
  },
  {
   "cell_type": "markdown",
   "metadata": {},
   "source": [
    "https://www.macrotrends.net/stocks/charts/CR/crane/price-fcf"
   ]
  },
  {
   "cell_type": "markdown",
   "metadata": {},
   "source": [
    "https://www.macrotrends.net/stocks/charts/CR/crane/total-assets\n",
    "\n",
    "https://www.macrotrends.net/stocks/charts/CR/crane/net-worth"
   ]
  },
  {
   "cell_type": "code",
   "execution_count": 39,
   "metadata": {},
   "outputs": [
    {
     "name": "stdout",
     "output_type": "stream",
     "text": [
      "so below this the stock may be a value\n",
      "AVG  priceToFreeCashFlowsRatio\n"
     ]
    },
    {
     "data": {
      "text/plain": [
       "16.461916298671085"
      ]
     },
     "execution_count": 39,
     "metadata": {},
     "output_type": "execute_result"
    }
   ],
   "source": [
    " #Price to FCF is harder to manipulate - \n",
    "\n",
    "avgr=df[indicator].mean()\n",
    "print( \"so below this the stock may be a value\")\n",
    "print(\"AVG \",indicator)\n",
    "my_df[indicator].mean()"
   ]
  },
  {
   "cell_type": "code",
   "execution_count": 40,
   "metadata": {},
   "outputs": [],
   "source": [
    "def toss_outliers(df):\n",
    "    q_low = df[indicator].quantile(0.01)\n",
    "    q_hi  = df[indicator].quantile(0.99)\n",
    "\n",
    "    df_filtered = df[(df[indicator] < q_hi) & (df[indicator] > q_low)]\n",
    "    return df_filtered"
   ]
  },
  {
   "cell_type": "code",
   "execution_count": 41,
   "metadata": {},
   "outputs": [
    {
     "name": "stdout",
     "output_type": "stream",
     "text": [
      "so below this the stock may be a value\n",
      "AVG  priceToFreeCashFlowsRatio\n"
     ]
    },
    {
     "data": {
      "text/plain": [
       "16.357410830598113"
      ]
     },
     "execution_count": 41,
     "metadata": {},
     "output_type": "execute_result"
    }
   ],
   "source": [
    "my_df=toss_outliers(my_df)\n",
    "avgr=df[indicator].mean()\n",
    "print( \"so below this the stock may be a value\")\n",
    "print(\"AVG \",indicator)\n",
    "my_df[indicator].mean()"
   ]
  },
  {
   "cell_type": "markdown",
   "metadata": {},
   "source": [
    "profitabilityIndicatorRatios': {'niperEBT': '0.7809021675454013',\n",
    "    'ebtperEBIT': '0.8113117870722434',\n",
    "    'ebitperRevenue': '0.06408577259297615',\n",
    "    'grossProfitMargin': '0.3591118150528464',\n",
    "    'operatingProfitMargin': '0.06408577259297615',\n",
    "    'pretaxProfitMargin': '0.051993542688312876',\n",
    "    'netProfitMargin': '0.04060187018366788',\n",
    "    'effectiveTaxRate': '0.2173403632103105',cat = 'investmentValuationRatios'\n",
    "indicator = 'priceToFreeCashFlowsRatio'\n",
    "\n",
    "    'returnOnAssets': '0.030133146461107218',\n",
    "    'returnOnEquity': '0.09045260229354686',"
   ]
  },
  {
   "cell_type": "code",
   "execution_count": 42,
   "metadata": {},
   "outputs": [
    {
     "data": {
      "text/plain": [
       "<matplotlib.axes._subplots.AxesSubplot at 0x7f1494791a90>"
      ]
     },
     "execution_count": 42,
     "metadata": {},
     "output_type": "execute_result"
    },
    {
     "data": {
      "image/png": "[encoded data removed]",
      "text/plain": [
       "<Figure size 432x288 with 1 Axes>"
      ]
     },
     "metadata": {
      "needs_background": "light"
     },
     "output_type": "display_data"
    }
   ],
   "source": [
    "cat = 'profitabilityIndicatorRatios'\n",
    "indicator = 'returnOnEquity'\n",
    "\n",
    "my_df = simple_df(cat, indicator)\n",
    "\n",
    "my_df.plot.bar(x='Year')\n"
   ]
  },
  {
   "cell_type": "markdown",
   "metadata": {},
   "source": [
    "# ROE\n",
    "\n",
    "some people consider this the ultimate measure of a stocks success"
   ]
  },
  {
   "cell_type": "markdown",
   "metadata": {},
   "source": [
    "|market cap | measure|\n",
    "\n",
    "| Market Cap | Measure |\n",
    "| ------ | ----------- |\n",
    "| Gigantic  | > $25 Billion |\n",
    "| Large | 5 to 25 Billion |\n",
    "| Medium | 1 to 5 Billion |\n",
    "| Small | up to 1 Billion |\n",
    "| Micro | up to 250 Million|"
   ]
  },
  {
   "cell_type": "markdown",
   "metadata": {},
   "source": [
    "https://www.macrotrends.net/stocks/charts/CR/crane/net-worth\n",
    "\n",
    "on March 24, 2020 fell to 2.2 Billion from 5.2 Billion just months earlier\n",
    "    \n",
    "https://www.macrotrends.net/stocks/charts/AAPL/apple/net-worth\n",
    "\n",
    "https://www.macrotrends.net/stocks/charts/AAPL/apple/net-worth\n",
    "\n",
    "1.3 Trillion to 1.0 Trillion"
   ]
  },
  {
   "cell_type": "markdown",
   "metadata": {},
   "source": [
    "# Buying what the headlines tell you\n",
    "\n",
    "## **Doesn't WORK**\n",
    "\n",
    "### *Nobody Ever knows what THE MARKET will do*!!!\n",
    "\n",
    "### Every STock has\n",
    "\n",
    "1. A business Valuation\n",
    "2. A market valuation\n",
    "\n",
    "### Graham\n",
    "1. price to book near 1\n",
    "2. PE lower - less than 15 - oversimplification?"
   ]
  },
  {
   "cell_type": "markdown",
   "metadata": {},
   "source": [
    "A few superior companies are better than a slew of mediocre ones - Fischer"
   ]
  },
  {
   "cell_type": "code",
   "execution_count": null,
   "metadata": {},
   "outputs": [],
   "source": []
  }
 ],
 "metadata": {
  "kernelspec": {
   "display_name": "Python 3",
   "language": "python",
   "name": "python3"
  },
  "language_info": {
   "codemirror_mode": {
    "name": "ipython",
    "version": 3
   },
   "file_extension": ".py",
   "mimetype": "text/x-python",
   "name": "python",
   "nbconvert_exporter": "python",
   "pygments_lexer": "ipython3",
   "version": "3.7.3"
  }
 },
 "nbformat": 4,
 "nbformat_minor": 4
}
