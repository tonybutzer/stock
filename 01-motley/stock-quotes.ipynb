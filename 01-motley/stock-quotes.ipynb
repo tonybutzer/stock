{
 "cells": [
  {
   "cell_type": "code",
   "execution_count": 1,
   "id": "a70c6951",
   "metadata": {},
   "outputs": [],
   "source": [
    "#! pip install --user stockquotes\n",
    "#! pip install --user bs4\n",
    "#! pip install --user lxml"
   ]
  },
  {
   "cell_type": "code",
   "execution_count": 2,
   "id": "08b23053",
   "metadata": {},
   "outputs": [],
   "source": [
    "import stockquotes\n",
    "\n",
    "kroger = stockquotes.Stock('KR')"
   ]
  },
  {
   "cell_type": "code",
   "execution_count": 5,
   "id": "2081dc41",
   "metadata": {},
   "outputs": [
    {
     "data": {
      "text/plain": [
       "['__class__',\n",
       " '__delattr__',\n",
       " '__dict__',\n",
       " '__dir__',\n",
       " '__doc__',\n",
       " '__eq__',\n",
       " '__format__',\n",
       " '__ge__',\n",
       " '__getattribute__',\n",
       " '__gt__',\n",
       " '__hash__',\n",
       " '__init__',\n",
       " '__init_subclass__',\n",
       " '__le__',\n",
       " '__lt__',\n",
       " '__module__',\n",
       " '__ne__',\n",
       " '__new__',\n",
       " '__reduce__',\n",
       " '__reduce_ex__',\n",
       " '__repr__',\n",
       " '__setattr__',\n",
       " '__sizeof__',\n",
       " '__str__',\n",
       " '__subclasshook__',\n",
       " '__weakref__',\n",
       " 'current_price',\n",
       " 'historical',\n",
       " 'increase_dollars',\n",
       " 'increase_percent',\n",
       " 'name',\n",
       " 'symbol']"
      ]
     },
     "execution_count": 5,
     "metadata": {},
     "output_type": "execute_result"
    }
   ],
   "source": [
    "dir(kroger)"
   ]
  },
  {
   "cell_type": "code",
   "execution_count": 6,
   "id": "05c09345",
   "metadata": {},
   "outputs": [
    {
     "data": {
      "text/plain": [
       "'The Kroger Co.'"
      ]
     },
     "execution_count": 6,
     "metadata": {},
     "output_type": "execute_result"
    }
   ],
   "source": [
    "kroger.name"
   ]
  },
  {
   "cell_type": "code",
   "execution_count": 7,
   "id": "93b850ab",
   "metadata": {},
   "outputs": [
    {
     "data": {
      "text/plain": [
       "37.41"
      ]
     },
     "execution_count": 7,
     "metadata": {},
     "output_type": "execute_result"
    }
   ],
   "source": [
    "kroger.current_price"
   ]
  },
  {
   "cell_type": "code",
   "execution_count": 8,
   "id": "66994c1c",
   "metadata": {},
   "outputs": [
    {
     "data": {
      "text/plain": [
       "-0.96"
      ]
     },
     "execution_count": 8,
     "metadata": {},
     "output_type": "execute_result"
    }
   ],
   "source": [
    "kroger.increase_dollars"
   ]
  },
  {
   "cell_type": "code",
   "execution_count": 9,
   "id": "3a0d62ba",
   "metadata": {},
   "outputs": [
    {
     "data": {
      "text/plain": [
       "-2.5"
      ]
     },
     "execution_count": 9,
     "metadata": {},
     "output_type": "execute_result"
    }
   ],
   "source": [
    "kroger.increase_percent"
   ]
  },
  {
   "cell_type": "code",
   "execution_count": null,
   "id": "1543ba97",
   "metadata": {},
   "outputs": [],
   "source": []
  }
 ],
 "metadata": {
  "kernelspec": {
   "display_name": "Python 3",
   "language": "python",
   "name": "python3"
  },
  "language_info": {
   "codemirror_mode": {
    "name": "ipython",
    "version": 3
   },
   "file_extension": ".py",
   "mimetype": "text/x-python",
   "name": "python",
   "nbconvert_exporter": "python",
   "pygments_lexer": "ipython3",
   "version": "3.9.5"
  }
 },
 "nbformat": 4,
 "nbformat_minor": 5
}
